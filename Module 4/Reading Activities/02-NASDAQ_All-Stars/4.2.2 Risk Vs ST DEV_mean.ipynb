{
 "cells": [
  {
   "cell_type": "code",
   "execution_count": 1,
   "metadata": {},
   "outputs": [
    {
     "ename": "NameError",
     "evalue": "name 'pd' is not defined",
     "output_type": "error",
     "traceback": [
      "\u001b[0;31m---------------------------------------------------------------------------\u001b[0m",
      "\u001b[0;31mNameError\u001b[0m                                 Traceback (most recent call last)",
      "\u001b[1;32m/Users/michaeldionne/Documents/GitHub/Fintech-Workspace/Module 4/Reading Activities/02-NASDAQ_All-Stars/4.2.2 Risk Vs ST DEV_mean.ipynb Cell 1'\u001b[0m in \u001b[0;36m<cell line: 2>\u001b[0;34m()\u001b[0m\n\u001b[1;32m      <a href='vscode-notebook-cell:/Users/michaeldionne/Documents/GitHub/Fintech-Workspace/Module%204/Reading%20Activities/02-NASDAQ_All-Stars/4.2.2%20Risk%20Vs%20ST%20DEV_mean.ipynb#ch0000000?line=0'>1</a>\u001b[0m \u001b[39m# Calculating the mean using ‘sum’ and ‘count’\u001b[39;00m\n\u001b[0;32m----> <a href='vscode-notebook-cell:/Users/michaeldionne/Documents/GitHub/Fintech-Workspace/Module%204/Reading%20Activities/02-NASDAQ_All-Stars/4.2.2%20Risk%20Vs%20ST%20DEV_mean.ipynb#ch0000000?line=1'>2</a>\u001b[0m stock_abc \u001b[39m=\u001b[39m pd\u001b[39m.\u001b[39mDataFrame({\u001b[39m'\u001b[39m\u001b[39mclose\u001b[39m\u001b[39m'\u001b[39m: [\u001b[39m11.25\u001b[39m, \u001b[39m11.98\u001b[39m, \u001b[39m10.74\u001b[39m, \u001b[39m11.16\u001b[39m, \u001b[39m12.35\u001b[39m, \u001b[39m12.87\u001b[39m, \u001b[39m13.03\u001b[39m]})\n\u001b[1;32m      <a href='vscode-notebook-cell:/Users/michaeldionne/Documents/GitHub/Fintech-Workspace/Module%204/Reading%20Activities/02-NASDAQ_All-Stars/4.2.2%20Risk%20Vs%20ST%20DEV_mean.ipynb#ch0000000?line=2'>3</a>\u001b[0m stock_abc_mean_1 \u001b[39m=\u001b[39m stock_abc[\u001b[39m'\u001b[39m\u001b[39mclose\u001b[39m\u001b[39m'\u001b[39m]\u001b[39m.\u001b[39msum() \u001b[39m/\u001b[39m stock_abc[\u001b[39m'\u001b[39m\u001b[39mclose\u001b[39m\u001b[39m'\u001b[39m]\u001b[39m.\u001b[39mcount()\n\u001b[1;32m      <a href='vscode-notebook-cell:/Users/michaeldionne/Documents/GitHub/Fintech-Workspace/Module%204/Reading%20Activities/02-NASDAQ_All-Stars/4.2.2%20Risk%20Vs%20ST%20DEV_mean.ipynb#ch0000000?line=3'>4</a>\u001b[0m stock_abc_mean_1\n",
      "\u001b[0;31mNameError\u001b[0m: name 'pd' is not defined"
     ]
    }
   ],
   "source": [
    "# Calculating the mean using ‘sum’ and ‘count’\n",
    "stock_abc = pd.DataFrame({'close': [11.25, 11.98, 10.74, 11.16, 12.35, 12.87, 13.03]})\n",
    "stock_abc_mean_1 = stock_abc['close'].sum() / stock_abc['close'].count()\n",
    "stock_abc_mean_1\n",
    "\n"
   ]
  },
  {
   "cell_type": "code",
   "execution_count": null,
   "metadata": {},
   "outputs": [],
   "source": []
  }
 ],
 "metadata": {
  "interpreter": {
   "hash": "b2ec66fa3d085a6e66869b1a678e052484c09c72639639e5b92cf1e8e9fcc898"
  },
  "kernelspec": {
   "display_name": "Python 3.9.12 ('dev')",
   "language": "python",
   "name": "python3"
  },
  "language_info": {
   "codemirror_mode": {
    "name": "ipython",
    "version": 3
   },
   "file_extension": ".py",
   "mimetype": "text/x-python",
   "name": "python",
   "nbconvert_exporter": "python",
   "pygments_lexer": "ipython3",
   "version": "3.9.12"
  },
  "orig_nbformat": 4
 },
 "nbformat": 4,
 "nbformat_minor": 2
}
