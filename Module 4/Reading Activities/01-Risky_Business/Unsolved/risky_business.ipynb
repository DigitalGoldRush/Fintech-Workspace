{
 "cells": [
  {
   "cell_type": "markdown",
   "metadata": {},
   "source": [
    "# Risky Business\n",
    "\n",
    "This activity will involve calculating daily return data, standard deviation, annualized standard deviation, and Sharpe ratios as you analyze the risk and return metrics of each cryptocurrency in the portfolio.\n",
    "\n",
    "Instructions:\n",
    "\n",
    "1. Import the required libraries and dependencies.\n",
    "\n",
    "2. Using the `read_csv` function and the `Path` module, read the `crypto_portfolio.csv` file into a Pandas DataFrame. Be sure to set a `DateTimeIndex`. Review the DataFrame by using both the `head` and the `tail` function.\n",
    "\n",
    "3. Using the Pandas `pct_change` function together with `dropna`, calculate the daily returns for the cryptocurrency portfolio DataFrame.\n",
    "\n",
    "4. Calculate the summary statistics for the DataFrame of cryptocurrency daily returns by calling the Pandas `describe` function.\n",
    "\n",
    "5. Create a box plot that visualizes the spread of the daily return values for each cryptocurrency.\n",
    "\n",
    "6. Answer the following question: based on the summary statistics and the box plot visualization, which cryptocurrency has the smallest spread and which has the largest?\n",
    "\n",
    "7. Calculate the annualized average daily return values. Then use the Pandas `sort_values` function to sort the values from smallest to largest.\n",
    "\n",
    "    > **Hint** To calculate the annualized average daily returns, multiply the mean for each cryptocurrency’s daily return value by the number of trading days in the year (252).\n",
    "\n",
    "8. Calculate the annualized standard deviations for the DataFrame of cryptocurrency daily returns. Sort the values from smallest to largest.\n",
    "\n",
    "    > **Hint** To calculate the annualized standard deviations, multiply the standard deviation of each cryptocurrency’s daily return value by the square root of the number of the number of trading days (`np.sqrt(252)`).\n",
    "\n",
    "9. Calculate the Sharpe ratio for each cryptocurrency. Sort the Sharpe ratios from smallest to largest.\n",
    "\n",
    "    > **Hint** To calculate the Sharpe ratio, divide the annualized average return by the annualized standard deviation.\n",
    "\n",
    "10. Plot the Sharpe ratios in a bar chart.\n",
    "\n",
    "11. Answer the following questions: Based on the risk and return metrics that you calculated, what cryptocurrency do you recommend that your firm invest in, and why? What’s your second choice?\n",
    "\n",
    "\n",
    "References:\n",
    "\n",
    "[Pandas std function](https://pandas.pydata.org/pandas-docs/stable/reference/api/pandas.DataFrame.std.html)\n",
    "\n",
    "[NumPy sqrt function](https://numpy.org/doc/stable/reference/generated/numpy.sqrt.html)\n",
    "\n",
    "[Pandas plot.bar function](https://pandas.pydata.org/pandas-docs/stable/reference/api/pandas.DataFrame.plot.bar.html)\n"
   ]
  },
  {
   "cell_type": "markdown",
   "metadata": {},
   "source": [
    "## Step 1: Import the required libraries and dependencies."
   ]
  },
  {
   "cell_type": "code",
   "execution_count": 1,
   "metadata": {},
   "outputs": [],
   "source": [
    "# Import the Pandas library\n",
    "# YOUR CODE HERE\n",
    "\n",
    "# Import the NumPy library\n",
    "# YOUR CODE HERE\n",
    "\n",
    "# Import the Path module from the Pathlib library\n",
    "# YOUR CODE HERE\n",
    "\n",
    "# Import the %matplotlib inline dependency\n",
    "\n",
    "import pandas as pd\n",
    "import numpy as np\n",
    "from pathlib import Path\n",
    "\n",
    "%matplotlib inline\n"
   ]
  },
  {
   "cell_type": "markdown",
   "metadata": {},
   "source": [
    "## Step 2: Using the `read_csv` function and the `Path` module, read the `crypto_portfolio.csv` file into a Pandas DataFrame. Be sure to set a `DateTimeIndex`. Review the DataFrame by using both the `head` and the `tail` function."
   ]
  },
  {
   "cell_type": "code",
   "execution_count": 9,
   "metadata": {},
   "outputs": [
    {
     "data": {
      "text/html": [
       "<div>\n",
       "<style scoped>\n",
       "    .dataframe tbody tr th:only-of-type {\n",
       "        vertical-align: middle;\n",
       "    }\n",
       "\n",
       "    .dataframe tbody tr th {\n",
       "        vertical-align: top;\n",
       "    }\n",
       "\n",
       "    .dataframe thead th {\n",
       "        text-align: right;\n",
       "    }\n",
       "</style>\n",
       "<table border=\"1\" class=\"dataframe\">\n",
       "  <thead>\n",
       "    <tr style=\"text-align: right;\">\n",
       "      <th></th>\n",
       "      <th>BTC</th>\n",
       "      <th>DOGE</th>\n",
       "      <th>ETH</th>\n",
       "      <th>LTC</th>\n",
       "      <th>XRP</th>\n",
       "      <th>XLM</th>\n",
       "    </tr>\n",
       "    <tr>\n",
       "      <th>Date</th>\n",
       "      <th></th>\n",
       "      <th></th>\n",
       "      <th></th>\n",
       "      <th></th>\n",
       "      <th></th>\n",
       "      <th></th>\n",
       "    </tr>\n",
       "  </thead>\n",
       "  <tbody>\n",
       "    <tr>\n",
       "      <th>2016-08-24</th>\n",
       "      <td>582.58</td>\n",
       "      <td>0.000236</td>\n",
       "      <td>10.98</td>\n",
       "      <td>3.95</td>\n",
       "      <td>0.005932</td>\n",
       "      <td>0.001912</td>\n",
       "    </tr>\n",
       "    <tr>\n",
       "      <th>2016-08-25</th>\n",
       "      <td>578.92</td>\n",
       "      <td>0.000241</td>\n",
       "      <td>11.00</td>\n",
       "      <td>3.84</td>\n",
       "      <td>0.005912</td>\n",
       "      <td>0.001925</td>\n",
       "    </tr>\n",
       "    <tr>\n",
       "      <th>2016-08-26</th>\n",
       "      <td>576.16</td>\n",
       "      <td>0.000242</td>\n",
       "      <td>11.34</td>\n",
       "      <td>3.81</td>\n",
       "      <td>0.005892</td>\n",
       "      <td>0.001925</td>\n",
       "    </tr>\n",
       "    <tr>\n",
       "      <th>2016-08-27</th>\n",
       "      <td>578.89</td>\n",
       "      <td>0.000228</td>\n",
       "      <td>11.29</td>\n",
       "      <td>3.81</td>\n",
       "      <td>0.005902</td>\n",
       "      <td>0.001931</td>\n",
       "    </tr>\n",
       "    <tr>\n",
       "      <th>2016-08-28</th>\n",
       "      <td>570.42</td>\n",
       "      <td>0.000230</td>\n",
       "      <td>11.21</td>\n",
       "      <td>3.78</td>\n",
       "      <td>0.005869</td>\n",
       "      <td>0.002020</td>\n",
       "    </tr>\n",
       "  </tbody>\n",
       "</table>\n",
       "</div>"
      ],
      "text/plain": [
       "               BTC      DOGE    ETH   LTC       XRP       XLM\n",
       "Date                                                         \n",
       "2016-08-24  582.58  0.000236  10.98  3.95  0.005932  0.001912\n",
       "2016-08-25  578.92  0.000241  11.00  3.84  0.005912  0.001925\n",
       "2016-08-26  576.16  0.000242  11.34  3.81  0.005892  0.001925\n",
       "2016-08-27  578.89  0.000228  11.29  3.81  0.005902  0.001931\n",
       "2016-08-28  570.42  0.000230  11.21  3.78  0.005869  0.002020"
      ]
     },
     "metadata": {},
     "output_type": "display_data"
    },
    {
     "data": {
      "text/html": [
       "<div>\n",
       "<style scoped>\n",
       "    .dataframe tbody tr th:only-of-type {\n",
       "        vertical-align: middle;\n",
       "    }\n",
       "\n",
       "    .dataframe tbody tr th {\n",
       "        vertical-align: top;\n",
       "    }\n",
       "\n",
       "    .dataframe thead th {\n",
       "        text-align: right;\n",
       "    }\n",
       "</style>\n",
       "<table border=\"1\" class=\"dataframe\">\n",
       "  <thead>\n",
       "    <tr style=\"text-align: right;\">\n",
       "      <th></th>\n",
       "      <th>BTC</th>\n",
       "      <th>DOGE</th>\n",
       "      <th>ETH</th>\n",
       "      <th>LTC</th>\n",
       "      <th>XRP</th>\n",
       "      <th>XLM</th>\n",
       "    </tr>\n",
       "    <tr>\n",
       "      <th>Date</th>\n",
       "      <th></th>\n",
       "      <th></th>\n",
       "      <th></th>\n",
       "      <th></th>\n",
       "      <th></th>\n",
       "      <th></th>\n",
       "    </tr>\n",
       "  </thead>\n",
       "  <tbody>\n",
       "    <tr>\n",
       "      <th>2019-05-16</th>\n",
       "      <td>8203.32</td>\n",
       "      <td>0.003168</td>\n",
       "      <td>249.00</td>\n",
       "      <td>102.26</td>\n",
       "      <td>0.419707</td>\n",
       "      <td>0.137283</td>\n",
       "    </tr>\n",
       "    <tr>\n",
       "      <th>2019-05-17</th>\n",
       "      <td>7878.96</td>\n",
       "      <td>0.002962</td>\n",
       "      <td>264.39</td>\n",
       "      <td>95.75</td>\n",
       "      <td>0.386193</td>\n",
       "      <td>0.126562</td>\n",
       "    </tr>\n",
       "    <tr>\n",
       "      <th>2019-05-18</th>\n",
       "      <td>7363.69</td>\n",
       "      <td>0.003005</td>\n",
       "      <td>244.59</td>\n",
       "      <td>89.88</td>\n",
       "      <td>0.372736</td>\n",
       "      <td>0.128833</td>\n",
       "    </tr>\n",
       "    <tr>\n",
       "      <th>2019-05-19</th>\n",
       "      <td>7262.40</td>\n",
       "      <td>0.003178</td>\n",
       "      <td>234.03</td>\n",
       "      <td>86.65</td>\n",
       "      <td>0.417700</td>\n",
       "      <td>0.141485</td>\n",
       "    </tr>\n",
       "    <tr>\n",
       "      <th>2019-05-20</th>\n",
       "      <td>8200.00</td>\n",
       "      <td>0.003041</td>\n",
       "      <td>261.09</td>\n",
       "      <td>95.06</td>\n",
       "      <td>0.398003</td>\n",
       "      <td>0.135545</td>\n",
       "    </tr>\n",
       "  </tbody>\n",
       "</table>\n",
       "</div>"
      ],
      "text/plain": [
       "                BTC      DOGE     ETH     LTC       XRP       XLM\n",
       "Date                                                             \n",
       "2019-05-16  8203.32  0.003168  249.00  102.26  0.419707  0.137283\n",
       "2019-05-17  7878.96  0.002962  264.39   95.75  0.386193  0.126562\n",
       "2019-05-18  7363.69  0.003005  244.59   89.88  0.372736  0.128833\n",
       "2019-05-19  7262.40  0.003178  234.03   86.65  0.417700  0.141485\n",
       "2019-05-20  8200.00  0.003041  261.09   95.06  0.398003  0.135545"
      ]
     },
     "metadata": {},
     "output_type": "display_data"
    }
   ],
   "source": [
    "# Using the read_csv function and the Path module, read in the \"crypto_portfolio.csv\" file from the Resources folder\n",
    "# Set the \"Date\" as the index column\n",
    "# Be sure to set the DatetimeIndex using the parse_dates and infer_datetime_format parameters\n",
    "crypto_portfolio_df = pd.read_csv(\n",
    "    Path(\"/Users/michaeldionne/Documents/GitHub/Fintech-Workspace/Module 4/Reading Activities/01-Risky_Business/Resources/crypto_portfolio.csv\"),\n",
    "    index_col=\"Date\",\n",
    "    parse_dates=True,\n",
    "    infer_datetime_format=True\n",
    ")\n",
    "\n",
    "# Review the import by displaying both the head and tail functions\n",
    "display(crypto_portfolio_df.head())\n",
    "display(crypto_portfolio_df.tail())\n",
    "    "
   ]
  },
  {
   "cell_type": "markdown",
   "metadata": {},
   "source": [
    "## Step 3: Using the Pandas `pct_change` function together with `dropna`, calculate the daily returns for the cryptocurrency portfolio DataFrame."
   ]
  },
  {
   "cell_type": "code",
   "execution_count": 11,
   "metadata": {},
   "outputs": [
    {
     "data": {
      "text/html": [
       "<div>\n",
       "<style scoped>\n",
       "    .dataframe tbody tr th:only-of-type {\n",
       "        vertical-align: middle;\n",
       "    }\n",
       "\n",
       "    .dataframe tbody tr th {\n",
       "        vertical-align: top;\n",
       "    }\n",
       "\n",
       "    .dataframe thead th {\n",
       "        text-align: right;\n",
       "    }\n",
       "</style>\n",
       "<table border=\"1\" class=\"dataframe\">\n",
       "  <thead>\n",
       "    <tr style=\"text-align: right;\">\n",
       "      <th></th>\n",
       "      <th>BTC</th>\n",
       "      <th>DOGE</th>\n",
       "      <th>ETH</th>\n",
       "      <th>LTC</th>\n",
       "      <th>XRP</th>\n",
       "      <th>XLM</th>\n",
       "    </tr>\n",
       "    <tr>\n",
       "      <th>Date</th>\n",
       "      <th></th>\n",
       "      <th></th>\n",
       "      <th></th>\n",
       "      <th></th>\n",
       "      <th></th>\n",
       "      <th></th>\n",
       "    </tr>\n",
       "  </thead>\n",
       "  <tbody>\n",
       "    <tr>\n",
       "      <th>2016-08-25</th>\n",
       "      <td>-0.006282</td>\n",
       "      <td>0.021186</td>\n",
       "      <td>0.001821</td>\n",
       "      <td>-0.027848</td>\n",
       "      <td>-0.003372</td>\n",
       "      <td>0.006799</td>\n",
       "    </tr>\n",
       "    <tr>\n",
       "      <th>2016-08-26</th>\n",
       "      <td>-0.004767</td>\n",
       "      <td>0.004149</td>\n",
       "      <td>0.030909</td>\n",
       "      <td>-0.007812</td>\n",
       "      <td>-0.003383</td>\n",
       "      <td>0.000000</td>\n",
       "    </tr>\n",
       "    <tr>\n",
       "      <th>2016-08-27</th>\n",
       "      <td>0.004738</td>\n",
       "      <td>-0.057851</td>\n",
       "      <td>-0.004409</td>\n",
       "      <td>0.000000</td>\n",
       "      <td>0.001697</td>\n",
       "      <td>0.003117</td>\n",
       "    </tr>\n",
       "    <tr>\n",
       "      <th>2016-08-28</th>\n",
       "      <td>-0.014631</td>\n",
       "      <td>0.008772</td>\n",
       "      <td>-0.007086</td>\n",
       "      <td>-0.007874</td>\n",
       "      <td>-0.005591</td>\n",
       "      <td>0.046090</td>\n",
       "    </tr>\n",
       "    <tr>\n",
       "      <th>2016-08-29</th>\n",
       "      <td>0.007731</td>\n",
       "      <td>-0.013043</td>\n",
       "      <td>-0.020517</td>\n",
       "      <td>-0.015873</td>\n",
       "      <td>0.000170</td>\n",
       "      <td>0.005941</td>\n",
       "    </tr>\n",
       "  </tbody>\n",
       "</table>\n",
       "</div>"
      ],
      "text/plain": [
       "                 BTC      DOGE       ETH       LTC       XRP       XLM\n",
       "Date                                                                  \n",
       "2016-08-25 -0.006282  0.021186  0.001821 -0.027848 -0.003372  0.006799\n",
       "2016-08-26 -0.004767  0.004149  0.030909 -0.007812 -0.003383  0.000000\n",
       "2016-08-27  0.004738 -0.057851 -0.004409  0.000000  0.001697  0.003117\n",
       "2016-08-28 -0.014631  0.008772 -0.007086 -0.007874 -0.005591  0.046090\n",
       "2016-08-29  0.007731 -0.013043 -0.020517 -0.015873  0.000170  0.005941"
      ]
     },
     "execution_count": 11,
     "metadata": {},
     "output_type": "execute_result"
    }
   ],
   "source": [
    "# Using the Pandas pct_change function in conjunction with the dropna function, create the crypto daily returns DataFrame\n",
    "crypto_daily_returns = crypto_portfolio_df.pct_change().dropna()\n",
    "\n",
    "# Review the first 5 rows of the crypto daily returns DataFrame \n",
    "crypto_daily_returns.head()\n"
   ]
  },
  {
   "cell_type": "markdown",
   "metadata": {},
   "source": [
    "## Step 4: Calculate the summary statistics for the DataFrame of cryptocurrency daily returns by calling the Pandas `describe` function."
   ]
  },
  {
   "cell_type": "code",
   "execution_count": 12,
   "metadata": {},
   "outputs": [
    {
     "data": {
      "text/html": [
       "<div>\n",
       "<style scoped>\n",
       "    .dataframe tbody tr th:only-of-type {\n",
       "        vertical-align: middle;\n",
       "    }\n",
       "\n",
       "    .dataframe tbody tr th {\n",
       "        vertical-align: top;\n",
       "    }\n",
       "\n",
       "    .dataframe thead th {\n",
       "        text-align: right;\n",
       "    }\n",
       "</style>\n",
       "<table border=\"1\" class=\"dataframe\">\n",
       "  <thead>\n",
       "    <tr style=\"text-align: right;\">\n",
       "      <th></th>\n",
       "      <th>BTC</th>\n",
       "      <th>DOGE</th>\n",
       "      <th>ETH</th>\n",
       "      <th>LTC</th>\n",
       "      <th>XRP</th>\n",
       "      <th>XLM</th>\n",
       "    </tr>\n",
       "  </thead>\n",
       "  <tbody>\n",
       "    <tr>\n",
       "      <th>count</th>\n",
       "      <td>987.000000</td>\n",
       "      <td>987.000000</td>\n",
       "      <td>987.000000</td>\n",
       "      <td>987.000000</td>\n",
       "      <td>987.000000</td>\n",
       "      <td>987.000000</td>\n",
       "    </tr>\n",
       "    <tr>\n",
       "      <th>mean</th>\n",
       "      <td>0.003585</td>\n",
       "      <td>0.005190</td>\n",
       "      <td>0.005012</td>\n",
       "      <td>0.005511</td>\n",
       "      <td>0.008070</td>\n",
       "      <td>0.008669</td>\n",
       "    </tr>\n",
       "    <tr>\n",
       "      <th>std</th>\n",
       "      <td>0.042721</td>\n",
       "      <td>0.074504</td>\n",
       "      <td>0.060837</td>\n",
       "      <td>0.071647</td>\n",
       "      <td>0.099961</td>\n",
       "      <td>0.102069</td>\n",
       "    </tr>\n",
       "    <tr>\n",
       "      <th>min</th>\n",
       "      <td>-0.156905</td>\n",
       "      <td>-0.389127</td>\n",
       "      <td>-0.237338</td>\n",
       "      <td>-0.265049</td>\n",
       "      <td>-0.460047</td>\n",
       "      <td>-0.306745</td>\n",
       "    </tr>\n",
       "    <tr>\n",
       "      <th>25%</th>\n",
       "      <td>-0.012076</td>\n",
       "      <td>-0.023683</td>\n",
       "      <td>-0.023476</td>\n",
       "      <td>-0.026037</td>\n",
       "      <td>-0.024028</td>\n",
       "      <td>-0.035165</td>\n",
       "    </tr>\n",
       "    <tr>\n",
       "      <th>50%</th>\n",
       "      <td>0.002786</td>\n",
       "      <td>0.000000</td>\n",
       "      <td>0.000000</td>\n",
       "      <td>-0.002525</td>\n",
       "      <td>-0.003639</td>\n",
       "      <td>-0.003790</td>\n",
       "    </tr>\n",
       "    <tr>\n",
       "      <th>75%</th>\n",
       "      <td>0.021858</td>\n",
       "      <td>0.022422</td>\n",
       "      <td>0.029117</td>\n",
       "      <td>0.028355</td>\n",
       "      <td>0.022401</td>\n",
       "      <td>0.036348</td>\n",
       "    </tr>\n",
       "    <tr>\n",
       "      <th>max</th>\n",
       "      <td>0.272020</td>\n",
       "      <td>0.611579</td>\n",
       "      <td>0.325907</td>\n",
       "      <td>0.834884</td>\n",
       "      <td>1.793669</td>\n",
       "      <td>1.060816</td>\n",
       "    </tr>\n",
       "  </tbody>\n",
       "</table>\n",
       "</div>"
      ],
      "text/plain": [
       "              BTC        DOGE         ETH         LTC         XRP         XLM\n",
       "count  987.000000  987.000000  987.000000  987.000000  987.000000  987.000000\n",
       "mean     0.003585    0.005190    0.005012    0.005511    0.008070    0.008669\n",
       "std      0.042721    0.074504    0.060837    0.071647    0.099961    0.102069\n",
       "min     -0.156905   -0.389127   -0.237338   -0.265049   -0.460047   -0.306745\n",
       "25%     -0.012076   -0.023683   -0.023476   -0.026037   -0.024028   -0.035165\n",
       "50%      0.002786    0.000000    0.000000   -0.002525   -0.003639   -0.003790\n",
       "75%      0.021858    0.022422    0.029117    0.028355    0.022401    0.036348\n",
       "max      0.272020    0.611579    0.325907    0.834884    1.793669    1.060816"
      ]
     },
     "execution_count": 12,
     "metadata": {},
     "output_type": "execute_result"
    }
   ],
   "source": [
    "# Generate summary statistics for the crypto daily returns DataFrame using the Pandas describe function\n",
    "crypto_daily_returns.describe()\n",
    "\n"
   ]
  },
  {
   "cell_type": "markdown",
   "metadata": {},
   "source": [
    "## Step 5: Create a box plot that visualizes the spread of the daily return values for each cryptocurrency."
   ]
  },
  {
   "cell_type": "code",
   "execution_count": 13,
   "metadata": {},
   "outputs": [
    {
     "data": {
      "text/plain": [
       "<AxesSubplot:title={'center':'Daily Returns'}, xlabel='Date'>"
      ]
     },
     "execution_count": 13,
     "metadata": {},
     "output_type": "execute_result"
    },
    {
     "data": {
      "image/png": "[encoded data removed]",
      "text/plain": [
       "<Figure size 432x288 with 1 Axes>"
      ]
     },
     "metadata": {
      "needs_background": "light"
     },
     "output_type": "display_data"
    }
   ],
   "source": [
    "# Using the Pandas plot function with the kind paramater set to the value box, visualize the spread of the crypto daily returns DataFrame\n",
    "crypto_daily_returns.plot.bar(title=\"Daily Returns\")\n"
   ]
  },
  {
   "cell_type": "markdown",
   "metadata": {},
   "source": [
    "## Step 6: Answer the following question: based on the summary statistics and the box plot visualization, which cryptocurrency has the smallest spread and which has the largest?"
   ]
  },
  {
   "cell_type": "markdown",
   "metadata": {},
   "source": [
    "**Question:** Based on the summary statistics and the box plot visualization, which of the cryptocurrencies has the smallest spread, and which has the largest?\n",
    "\n",
    "**Answer:** # YOUR ANSWER HERE"
   ]
  },
  {
   "cell_type": "markdown",
   "metadata": {},
   "source": [
    "## Step 7: Calculate the annualized average daily return values. Then use the Pandas `sort_values` function to sort the values from smallest to largest."
   ]
  },
  {
   "cell_type": "code",
   "execution_count": 6,
   "metadata": {},
   "outputs": [
    {
     "data": {
      "text/plain": [
       "BTC     0.903507\n",
       "ETH     1.263112\n",
       "DOGE    1.307806\n",
       "LTC     1.388796\n",
       "XRP     2.033597\n",
       "XLM     2.184637\n",
       "dtype: float64"
      ]
     },
     "execution_count": 6,
     "metadata": {},
     "output_type": "execute_result"
    }
   ],
   "source": [
    "# The number of trading days is set to 252 for use throughout these calculations\n",
    "trading_days = 252\n",
    "\n",
    "# Calculate the annual average daily returns for the crypto currencies\n",
    "# Use the Pandas mean function to calculate the average daily return for each cryptocurrency \n",
    "# Then multiply that value by the number of trading days in a year, using the trading_days variable set above \n",
    "crypto_daily_returns = crypto_daily_returns.mean() * trading_days\n",
    "\n",
    "# Sort the annual average returns for the cryptocurrencies from lowest to highest\n",
    "crypto_daily_returns.sort_values()\n"
   ]
  },
  {
   "cell_type": "markdown",
   "metadata": {},
   "source": [
    "## Step 8: Calculate the annualized standard deviations for the DataFrame of cryptocurrency daily returns. Sort the values from smallest to largest."
   ]
  },
  {
   "cell_type": "code",
   "execution_count": 7,
   "metadata": {},
   "outputs": [
    {
     "data": {
      "text/plain": [
       "BTC     0.678181\n",
       "ETH     0.965758\n",
       "LTC     1.137366\n",
       "DOGE    1.182717\n",
       "XRP     1.586835\n",
       "XLM     1.620288\n",
       "dtype: float64"
      ]
     },
     "execution_count": 7,
     "metadata": {},
     "output_type": "execute_result"
    }
   ],
   "source": [
    "# Calculate the annualized standard deviation for the cryptocurrencies\n",
    "# Use the Pandas std function to calculate the standard deviation for each cryptocurrency\n",
    "# Multiply the standard deviation by the square root (using the NumPy sqrt function) of the number of trading days\n",
    "annual_standard_deviation = # YOUR CODE HERE\n",
    "\n",
    "# Sort the annual standard deviations for the cryptocurrencies from lowest to highest\n",
    "# YOUR CODE HERE\n"
   ]
  },
  {
   "cell_type": "markdown",
   "metadata": {},
   "source": [
    "## Step 9: Calculate the Sharpe ratio for each cryptocurrency. Sort the Sharpe ratios from smallest to largest."
   ]
  },
  {
   "cell_type": "code",
   "execution_count": 8,
   "metadata": {},
   "outputs": [
    {
     "data": {
      "text/plain": [
       "DOGE    1.105764\n",
       "LTC     1.221064\n",
       "XRP     1.281543\n",
       "ETH     1.307897\n",
       "BTC     1.332250\n",
       "XLM     1.348301\n",
       "dtype: float64"
      ]
     },
     "execution_count": 8,
     "metadata": {},
     "output_type": "execute_result"
    }
   ],
   "source": [
    "# Calculate Sharpe ratios by dividing the annual average return of the cryptocurrencies \n",
    "# by the annual standard deviation of the cryptocurrencies\n",
    "crypto_sharpe_ratios = # YOUR CODE HERE\n",
    "\n",
    "# Sort the Sharpe ratios for the cryptocurrencies from lowest to highest\n",
    "# YOUR CODE HERE\n"
   ]
  },
  {
   "cell_type": "markdown",
   "metadata": {},
   "source": [
    "## Step 10: Plot the Sharpe ratios in a bar chart."
   ]
  },
  {
   "cell_type": "code",
   "execution_count": 9,
   "metadata": {},
   "outputs": [
    {
     "data": {
      "text/plain": [
       "<AxesSubplot:title={'center':'Sharpe Ratios'}>"
      ]
     },
     "execution_count": 9,
     "metadata": {},
     "output_type": "execute_result"
    },
    {
     "data": {
      "image/png": "[encoded data removed]",
      "text/plain": [
       "<Figure size 720x504 with 1 Axes>"
      ]
     },
     "metadata": {
      "needs_background": "light"
     },
     "output_type": "display_data"
    }
   ],
   "source": [
    "# Using the Pandas plot.bar function, visualize the Sharpe ratios for the cryptocurrencies in a bar chart\n",
    "# Be sure to adjust the figure size and include a title\n",
    "# YOUR CODE HERE\n"
   ]
  },
  {
   "cell_type": "markdown",
   "metadata": {},
   "source": [
    "## Step 11: Answer the following questions: Based on the risk and return metrics that you calculated, what cryptocurrency do you recommend that your firm invest in, and why? What’s your second choice?"
   ]
  },
  {
   "cell_type": "markdown",
   "metadata": {},
   "source": [
    "**Question:** Which cryptocurrency will you recommend for inclusion in your firm's portfolio,and why? What would be your second choice?\n",
    "\n",
    "**Answer:** # YOUR ANSWER HERE"
   ]
  },
  {
   "cell_type": "code",
   "execution_count": null,
   "metadata": {},
   "outputs": [],
   "source": []
  }
 ],
 "metadata": {
  "kernelspec": {
   "display_name": "dev",
   "language": "python",
   "name": "dev"
  },
  "language_info": {
   "codemirror_mode": {
    "name": "ipython",
    "version": 3
   },
   "file_extension": ".py",
   "mimetype": "text/x-python",
   "name": "python",
   "nbconvert_exporter": "python",
   "pygments_lexer": "ipython3",
   "version": "3.9.12"
  }
 },
 "nbformat": 4,
 "nbformat_minor": 4
}
