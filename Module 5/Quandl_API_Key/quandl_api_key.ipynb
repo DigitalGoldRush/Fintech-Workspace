{
 "cells": [
  {
   "cell_type": "code",
   "execution_count": 19,
   "metadata": {},
   "outputs": [
    {
     "data": {
      "text/plain": [
       "True"
      ]
     },
     "execution_count": 19,
     "metadata": {},
     "output_type": "execute_result"
    }
   ],
   "source": [
    "# Import the required libraries and dependencies\n",
    "import pandas as pd\n",
    "import os\n",
    "from dotenv import load_dotenv\n",
    "import requests\n",
    "import json\n",
    "\n",
    "# Load .env environment variables\n",
    "load_dotenv()\n"
   ]
  },
  {
   "cell_type": "code",
   "execution_count": 23,
   "metadata": {},
   "outputs": [
    {
     "ename": "TypeError",
     "evalue": "can only concatenate str (not \"NoneType\") to str",
     "output_type": "error",
     "traceback": [
      "\u001b[0;31m---------------------------------------------------------------------------\u001b[0m",
      "\u001b[0;31mTypeError\u001b[0m                                 Traceback (most recent call last)",
      "\u001b[1;32m/Users/michaeldionne/Documents/GitHub/Fintech-Workspace/Module 5/Quandl_API_Key/quandl_api_key.ipynb Cell 2'\u001b[0m in \u001b[0;36m<cell line: 10>\u001b[0;34m()\u001b[0m\n\u001b[1;32m      <a href='vscode-notebook-cell:/Users/michaeldionne/Documents/GitHub/Fintech-Workspace/Module%205/Quandl_API_Key/quandl_api_key.ipynb#ch0000002?line=6'>7</a>\u001b[0m request_url \u001b[39m=\u001b[39m \u001b[39m\"\u001b[39m\u001b[39mhttps://www.quandl.com/api/v3/datasets/WIKI/MSFT.json?limit=10&api_key=\u001b[39m\u001b[39m\"\u001b[39m\n\u001b[1;32m      <a href='vscode-notebook-cell:/Users/michaeldionne/Documents/GitHub/Fintech-Workspace/Module%205/Quandl_API_Key/quandl_api_key.ipynb#ch0000002?line=8'>9</a>\u001b[0m \u001b[39m# Concatenate request_url and quandl_api_key and store as a new variable\u001b[39;00m\n\u001b[0;32m---> <a href='vscode-notebook-cell:/Users/michaeldionne/Documents/GitHub/Fintech-Workspace/Module%205/Quandl_API_Key/quandl_api_key.ipynb#ch0000002?line=9'>10</a>\u001b[0m quandl_request_url \u001b[39m=\u001b[39m request_url \u001b[39m+\u001b[39;49m quandl_api_key\n\u001b[1;32m     <a href='vscode-notebook-cell:/Users/michaeldionne/Documents/GitHub/Fintech-Workspace/Module%205/Quandl_API_Key/quandl_api_key.ipynb#ch0000002?line=11'>12</a>\u001b[0m \u001b[39m# Execute the API call to Quandl using requests.get\u001b[39;00m\n\u001b[1;32m     <a href='vscode-notebook-cell:/Users/michaeldionne/Documents/GitHub/Fintech-Workspace/Module%205/Quandl_API_Key/quandl_api_key.ipynb#ch0000002?line=12'>13</a>\u001b[0m response \u001b[39m=\u001b[39m requests\u001b[39m.\u001b[39mget(quandl_request_url)\u001b[39m.\u001b[39mjson()\n",
      "\u001b[0;31mTypeError\u001b[0m: can only concatenate str (not \"NoneType\") to str"
     ]
    }
   ],
   "source": [
    "# Retrieve the API key from the environment variable and store as Python variable\n",
    "quandl_api_key = os.getenv(\"QUANDL_API_KEY\")\n",
    "type(quandl_api_key)\n",
    "\n",
    "# Define the base request URL for Quandl\n",
    "# Note the `limit=10` and api_key=` parameters.\n",
    "request_url = \"https://www.quandl.com/api/v3/datasets/WIKI/MSFT.json?limit=10&api_key=\"\n",
    "\n",
    "# Concatenate request_url and quandl_api_key and store as a new variable\n",
    "quandl_request_url = request_url + quandl_api_key\n",
    "\n",
    "# Execute the API call to Quandl using requests.get\n",
    "response = requests.get(quandl_request_url).json()\n",
    "\n",
    "# Display response data using json.dumps\n",
    "print(json.dumps(response, indent=4, sort_keys=True))\n"
   ]
  },
  {
   "cell_type": "code",
   "execution_count": null,
   "metadata": {},
   "outputs": [],
   "source": [
    "open_2018_03_27 = response[\"dataset\"][\"data\"][0][1]\n"
   ]
  }
 ],
 "metadata": {
  "interpreter": {
   "hash": "b2ec66fa3d085a6e66869b1a678e052484c09c72639639e5b92cf1e8e9fcc898"
  },
  "kernelspec": {
   "display_name": "Python 3.9.12 ('dev')",
   "language": "python",
   "name": "python3"
  },
  "language_info": {
   "codemirror_mode": {
    "name": "ipython",
    "version": 3
   },
   "file_extension": ".py",
   "mimetype": "text/x-python",
   "name": "python",
   "nbconvert_exporter": "python",
   "pygments_lexer": "ipython3",
   "version": "3.9.12"
  },
  "orig_nbformat": 4
 },
 "nbformat": 4,
 "nbformat_minor": 2
}
