{
 "cells": [
  {
   "cell_type": "markdown",
   "metadata": {},
   "source": [
    "# Crafting Composite Plots\n",
    "\n",
    "In this activity, you’ll use composite plots to visualize the average cost of diabetes treatment and care by state.\n",
    "\n",
    "Instructions:\n",
    "\n",
    "1. Using the `read_csv` function and the Path module, read the `hospital_claims.csv` file into a Pandas DataFrame named `hospital_claims_df`. Review the resulting DataFrame.\n",
    "\n",
    "2. Using the `hospital_claims_df` DataFrame, create a new DataFrame named `procedure_638_charges_df` that consists of all the rows where the value of the DRG Definition column equals \"638 - DIABETES W CC\". Review the resulting DataFrame.\n",
    "\n",
    "3. From the `procedure_638_charges_df` DataFrame, slice out the “Average Total Payments” and “Provider State” columns. Name this new DataFrame `average_total_payments_df`, and review it.\n",
    "\n",
    "4. Create a DataFrame named `average_total_payments_by_state`. To do this, group the data in the `average_total_payments_df` DataFrame by “Provider State” and use the `mean` function to calculate the results. Review the resulting DataFrame.\n",
    "\n",
    "5. Create a bar chart for the `average_total_payments_by_state` DataFrame. Include a `title` for the plot, rotate the x-axis labels, and add a `yformatter` that rounds the values to the nearest whole number.\n",
    "\n",
    "6. Create a new Dataframe named `average_total_payments_by_state_sorted` that holds the sorted values of the `avg_total_payments_by_state` DataFrame based on the “Average Total Payments” column. Plot the sorted DataFrame in a bar chart.\n",
    "\n",
    "    > **Hint** Be sure to create a variable named `plot_average_total_payments_by_state` that holds the plot. You'll need to access this variable when creating your composition plots.\n",
    "\n",
    "7. Repeat Steps 3 through 6, slicing out the “Average Medicare Payments” and “Provider State” columns.\n",
    "\n",
    "8. Create a side-by-side composite plot that includes `plot_average_total_payments_by_state_sorted` and `plot_average_medicare_payments_by_state_sorted`.\n",
    "\n",
    "9. Compose an overlay plot that includes `plot_average_total_payments_by_state_sorted` and `plot_average_medicare_payments_by_state_sorted`. Be sure to set your overlay plot equal to a variable so that you can appropriately style the overlay plot.\n",
    "\n",
    "10. Review your visualizations, and then answer the following questions. You can use the widgets to help craft your responses:\n",
    "\n",
    "    * In which states do you recommend launching the diabetes assistance program, and why?\n",
    "\n",
    "    * Which states would you avoid, and why?\n",
    "\n",
    "    * What additional data can be used to help make this decision?\n",
    "\n",
    "\n",
    "References:\n",
    "\n",
    "[hvPlot Composing Plots](https://hvplot.holoviz.org/user_guide/Plotting.html)\n",
    "\n",
    "[hvPlot Customization page](https://hvplot.holoviz.org/user_guide/Customization.html)\n",
    "\n",
    "[HoloViews Styling Mapping page](http://holoviews.org/user_guide/Style_Mapping.html)"
   ]
  },
  {
   "cell_type": "code",
   "execution_count": 5,
   "metadata": {},
   "outputs": [],
   "source": [
    "# Import the required libraries and dependencies\n",
    "from pathlib import Path\n",
    "import pandas as pd\n",
    "import hvplot.pandas"
   ]
  },
  {
   "cell_type": "markdown",
   "metadata": {},
   "source": [
    "## Step 1: Using the `read_csv` function and the Path module, read the `hospital_claims.csv` file into a Pandas DataFrame named `hospital_claims_df`. Review the resulting DataFrame.\n"
   ]
  },
  {
   "cell_type": "code",
   "execution_count": 6,
   "metadata": {},
   "outputs": [
    {
     "data": {
      "text/html": [
       "<div>\n",
       "<style scoped>\n",
       "    .dataframe tbody tr th:only-of-type {\n",
       "        vertical-align: middle;\n",
       "    }\n",
       "\n",
       "    .dataframe tbody tr th {\n",
       "        vertical-align: top;\n",
       "    }\n",
       "\n",
       "    .dataframe thead th {\n",
       "        text-align: right;\n",
       "    }\n",
       "</style>\n",
       "<table border=\"1\" class=\"dataframe\">\n",
       "  <thead>\n",
       "    <tr style=\"text-align: right;\">\n",
       "      <th></th>\n",
       "      <th>DRG Definition</th>\n",
       "      <th>Provider Id</th>\n",
       "      <th>Provider Name</th>\n",
       "      <th>Provider Street Address</th>\n",
       "      <th>Provider City</th>\n",
       "      <th>Provider State</th>\n",
       "      <th>Provider Zip Code</th>\n",
       "      <th>Hospital Referral Region Description</th>\n",
       "      <th>Total Discharges</th>\n",
       "      <th>Average Covered Charges</th>\n",
       "      <th>Average Total Payments</th>\n",
       "      <th>Average Medicare Payments</th>\n",
       "    </tr>\n",
       "  </thead>\n",
       "  <tbody>\n",
       "    <tr>\n",
       "      <th>0</th>\n",
       "      <td>039 - EXTRACRANIAL PROCEDURES W/O CC/MCC</td>\n",
       "      <td>10001</td>\n",
       "      <td>SOUTHEAST ALABAMA MEDICAL CENTER</td>\n",
       "      <td>1108 ROSS CLARK CIRCLE</td>\n",
       "      <td>DOTHAN</td>\n",
       "      <td>AL</td>\n",
       "      <td>36301</td>\n",
       "      <td>AL - Dothan</td>\n",
       "      <td>91</td>\n",
       "      <td>32963.07</td>\n",
       "      <td>5777.24</td>\n",
       "      <td>4763.73</td>\n",
       "    </tr>\n",
       "    <tr>\n",
       "      <th>1</th>\n",
       "      <td>039 - EXTRACRANIAL PROCEDURES W/O CC/MCC</td>\n",
       "      <td>10005</td>\n",
       "      <td>MARSHALL MEDICAL CENTER SOUTH</td>\n",
       "      <td>2505 U S HIGHWAY 431 NORTH</td>\n",
       "      <td>BOAZ</td>\n",
       "      <td>AL</td>\n",
       "      <td>35957</td>\n",
       "      <td>AL - Birmingham</td>\n",
       "      <td>14</td>\n",
       "      <td>15131.85</td>\n",
       "      <td>5787.57</td>\n",
       "      <td>4976.71</td>\n",
       "    </tr>\n",
       "    <tr>\n",
       "      <th>2</th>\n",
       "      <td>039 - EXTRACRANIAL PROCEDURES W/O CC/MCC</td>\n",
       "      <td>10006</td>\n",
       "      <td>ELIZA COFFEE MEMORIAL HOSPITAL</td>\n",
       "      <td>205 MARENGO STREET</td>\n",
       "      <td>FLORENCE</td>\n",
       "      <td>AL</td>\n",
       "      <td>35631</td>\n",
       "      <td>AL - Birmingham</td>\n",
       "      <td>24</td>\n",
       "      <td>37560.37</td>\n",
       "      <td>5434.95</td>\n",
       "      <td>4453.79</td>\n",
       "    </tr>\n",
       "    <tr>\n",
       "      <th>3</th>\n",
       "      <td>039 - EXTRACRANIAL PROCEDURES W/O CC/MCC</td>\n",
       "      <td>10011</td>\n",
       "      <td>ST VINCENT'S EAST</td>\n",
       "      <td>50 MEDICAL PARK EAST DRIVE</td>\n",
       "      <td>BIRMINGHAM</td>\n",
       "      <td>AL</td>\n",
       "      <td>35235</td>\n",
       "      <td>AL - Birmingham</td>\n",
       "      <td>25</td>\n",
       "      <td>13998.28</td>\n",
       "      <td>5417.56</td>\n",
       "      <td>4129.16</td>\n",
       "    </tr>\n",
       "    <tr>\n",
       "      <th>4</th>\n",
       "      <td>039 - EXTRACRANIAL PROCEDURES W/O CC/MCC</td>\n",
       "      <td>10016</td>\n",
       "      <td>SHELBY BAPTIST MEDICAL CENTER</td>\n",
       "      <td>1000 FIRST STREET NORTH</td>\n",
       "      <td>ALABASTER</td>\n",
       "      <td>AL</td>\n",
       "      <td>35007</td>\n",
       "      <td>AL - Birmingham</td>\n",
       "      <td>18</td>\n",
       "      <td>31633.27</td>\n",
       "      <td>5658.33</td>\n",
       "      <td>4851.44</td>\n",
       "    </tr>\n",
       "  </tbody>\n",
       "</table>\n",
       "</div>"
      ],
      "text/plain": [
       "                             DRG Definition  Provider Id  \\\n",
       "0  039 - EXTRACRANIAL PROCEDURES W/O CC/MCC        10001   \n",
       "1  039 - EXTRACRANIAL PROCEDURES W/O CC/MCC        10005   \n",
       "2  039 - EXTRACRANIAL PROCEDURES W/O CC/MCC        10006   \n",
       "3  039 - EXTRACRANIAL PROCEDURES W/O CC/MCC        10011   \n",
       "4  039 - EXTRACRANIAL PROCEDURES W/O CC/MCC        10016   \n",
       "\n",
       "                      Provider Name     Provider Street Address Provider City  \\\n",
       "0  SOUTHEAST ALABAMA MEDICAL CENTER      1108 ROSS CLARK CIRCLE        DOTHAN   \n",
       "1     MARSHALL MEDICAL CENTER SOUTH  2505 U S HIGHWAY 431 NORTH          BOAZ   \n",
       "2    ELIZA COFFEE MEMORIAL HOSPITAL          205 MARENGO STREET      FLORENCE   \n",
       "3                 ST VINCENT'S EAST  50 MEDICAL PARK EAST DRIVE    BIRMINGHAM   \n",
       "4     SHELBY BAPTIST MEDICAL CENTER     1000 FIRST STREET NORTH     ALABASTER   \n",
       "\n",
       "  Provider State  Provider Zip Code Hospital Referral Region Description  \\\n",
       "0             AL              36301                          AL - Dothan   \n",
       "1             AL              35957                      AL - Birmingham   \n",
       "2             AL              35631                      AL - Birmingham   \n",
       "3             AL              35235                      AL - Birmingham   \n",
       "4             AL              35007                      AL - Birmingham   \n",
       "\n",
       "   Total Discharges  Average Covered Charges  Average Total Payments  \\\n",
       "0                91                 32963.07                 5777.24   \n",
       "1                14                 15131.85                 5787.57   \n",
       "2                24                 37560.37                 5434.95   \n",
       "3                25                 13998.28                 5417.56   \n",
       "4                18                 31633.27                 5658.33   \n",
       "\n",
       "   Average Medicare Payments  \n",
       "0                    4763.73  \n",
       "1                    4976.71  \n",
       "2                    4453.79  \n",
       "3                    4129.16  \n",
       "4                    4851.44  "
      ]
     },
     "metadata": {},
     "output_type": "display_data"
    },
    {
     "data": {
      "text/html": [
       "<div>\n",
       "<style scoped>\n",
       "    .dataframe tbody tr th:only-of-type {\n",
       "        vertical-align: middle;\n",
       "    }\n",
       "\n",
       "    .dataframe tbody tr th {\n",
       "        vertical-align: top;\n",
       "    }\n",
       "\n",
       "    .dataframe thead th {\n",
       "        text-align: right;\n",
       "    }\n",
       "</style>\n",
       "<table border=\"1\" class=\"dataframe\">\n",
       "  <thead>\n",
       "    <tr style=\"text-align: right;\">\n",
       "      <th></th>\n",
       "      <th>DRG Definition</th>\n",
       "      <th>Provider Id</th>\n",
       "      <th>Provider Name</th>\n",
       "      <th>Provider Street Address</th>\n",
       "      <th>Provider City</th>\n",
       "      <th>Provider State</th>\n",
       "      <th>Provider Zip Code</th>\n",
       "      <th>Hospital Referral Region Description</th>\n",
       "      <th>Total Discharges</th>\n",
       "      <th>Average Covered Charges</th>\n",
       "      <th>Average Total Payments</th>\n",
       "      <th>Average Medicare Payments</th>\n",
       "    </tr>\n",
       "  </thead>\n",
       "  <tbody>\n",
       "    <tr>\n",
       "      <th>163060</th>\n",
       "      <td>948 - SIGNS &amp; SYMPTOMS W/O MCC</td>\n",
       "      <td>670041</td>\n",
       "      <td>SETON MEDICAL CENTER WILLIAMSON</td>\n",
       "      <td>201 SETON PARKWAY</td>\n",
       "      <td>ROUND ROCK</td>\n",
       "      <td>TX</td>\n",
       "      <td>78664</td>\n",
       "      <td>TX - Austin</td>\n",
       "      <td>23</td>\n",
       "      <td>26314.39</td>\n",
       "      <td>3806.86</td>\n",
       "      <td>3071.39</td>\n",
       "    </tr>\n",
       "    <tr>\n",
       "      <th>163061</th>\n",
       "      <td>948 - SIGNS &amp; SYMPTOMS W/O MCC</td>\n",
       "      <td>670055</td>\n",
       "      <td>METHODIST STONE OAK HOSPITAL</td>\n",
       "      <td>1139 E SONTERRA BLVD</td>\n",
       "      <td>SAN ANTONIO</td>\n",
       "      <td>TX</td>\n",
       "      <td>78258</td>\n",
       "      <td>TX - San Antonio</td>\n",
       "      <td>11</td>\n",
       "      <td>21704.72</td>\n",
       "      <td>4027.36</td>\n",
       "      <td>2649.72</td>\n",
       "    </tr>\n",
       "    <tr>\n",
       "      <th>163062</th>\n",
       "      <td>948 - SIGNS &amp; SYMPTOMS W/O MCC</td>\n",
       "      <td>670056</td>\n",
       "      <td>SETON MEDICAL CENTER HAYS</td>\n",
       "      <td>6001 KYLE PKWY</td>\n",
       "      <td>KYLE</td>\n",
       "      <td>TX</td>\n",
       "      <td>78640</td>\n",
       "      <td>TX - Austin</td>\n",
       "      <td>19</td>\n",
       "      <td>39121.73</td>\n",
       "      <td>5704.36</td>\n",
       "      <td>4058.36</td>\n",
       "    </tr>\n",
       "    <tr>\n",
       "      <th>163063</th>\n",
       "      <td>948 - SIGNS &amp; SYMPTOMS W/O MCC</td>\n",
       "      <td>670060</td>\n",
       "      <td>TEXAS REGIONAL MEDICAL CENTER AT SUNNYVALE</td>\n",
       "      <td>231 SOUTH COLLINS ROAD</td>\n",
       "      <td>SUNNYVALE</td>\n",
       "      <td>TX</td>\n",
       "      <td>75182</td>\n",
       "      <td>TX - Dallas</td>\n",
       "      <td>11</td>\n",
       "      <td>28873.09</td>\n",
       "      <td>7663.09</td>\n",
       "      <td>6848.54</td>\n",
       "    </tr>\n",
       "    <tr>\n",
       "      <th>163064</th>\n",
       "      <td>948 - SIGNS &amp; SYMPTOMS W/O MCC</td>\n",
       "      <td>670068</td>\n",
       "      <td>TEXAS HEALTH PRESBYTERIAN HOSPITAL FLOWER MOUND</td>\n",
       "      <td>4400 LONG PRAIRIE ROAD</td>\n",
       "      <td>FLOWER MOUND</td>\n",
       "      <td>TX</td>\n",
       "      <td>75028</td>\n",
       "      <td>TX - Dallas</td>\n",
       "      <td>12</td>\n",
       "      <td>15042.00</td>\n",
       "      <td>3539.75</td>\n",
       "      <td>2887.41</td>\n",
       "    </tr>\n",
       "  </tbody>\n",
       "</table>\n",
       "</div>"
      ],
      "text/plain": [
       "                        DRG Definition  Provider Id  \\\n",
       "163060  948 - SIGNS & SYMPTOMS W/O MCC       670041   \n",
       "163061  948 - SIGNS & SYMPTOMS W/O MCC       670055   \n",
       "163062  948 - SIGNS & SYMPTOMS W/O MCC       670056   \n",
       "163063  948 - SIGNS & SYMPTOMS W/O MCC       670060   \n",
       "163064  948 - SIGNS & SYMPTOMS W/O MCC       670068   \n",
       "\n",
       "                                          Provider Name  \\\n",
       "163060                  SETON MEDICAL CENTER WILLIAMSON   \n",
       "163061                     METHODIST STONE OAK HOSPITAL   \n",
       "163062                        SETON MEDICAL CENTER HAYS   \n",
       "163063       TEXAS REGIONAL MEDICAL CENTER AT SUNNYVALE   \n",
       "163064  TEXAS HEALTH PRESBYTERIAN HOSPITAL FLOWER MOUND   \n",
       "\n",
       "       Provider Street Address Provider City Provider State  \\\n",
       "163060       201 SETON PARKWAY    ROUND ROCK             TX   \n",
       "163061    1139 E SONTERRA BLVD   SAN ANTONIO             TX   \n",
       "163062          6001 KYLE PKWY          KYLE             TX   \n",
       "163063  231 SOUTH COLLINS ROAD     SUNNYVALE             TX   \n",
       "163064  4400 LONG PRAIRIE ROAD  FLOWER MOUND             TX   \n",
       "\n",
       "        Provider Zip Code Hospital Referral Region Description  \\\n",
       "163060              78664                          TX - Austin   \n",
       "163061              78258                     TX - San Antonio   \n",
       "163062              78640                          TX - Austin   \n",
       "163063              75182                          TX - Dallas   \n",
       "163064              75028                          TX - Dallas   \n",
       "\n",
       "        Total Discharges  Average Covered Charges  Average Total Payments  \\\n",
       "163060                23                 26314.39                 3806.86   \n",
       "163061                11                 21704.72                 4027.36   \n",
       "163062                19                 39121.73                 5704.36   \n",
       "163063                11                 28873.09                 7663.09   \n",
       "163064                12                 15042.00                 3539.75   \n",
       "\n",
       "        Average Medicare Payments  \n",
       "163060                    3071.39  \n",
       "163061                    2649.72  \n",
       "163062                    4058.36  \n",
       "163063                    6848.54  \n",
       "163064                    2887.41  "
      ]
     },
     "metadata": {},
     "output_type": "display_data"
    }
   ],
   "source": [
    "# Using the `read_csv` function and Path module, read `hospital_claims.csv` file \n",
    "# and create the Pandas DataFrame.\n",
    "hospital_claims_df = pd.read_csv(\n",
    "    Path(\"../Resources/hospital_claims.csv\")\n",
    ")\n",
    "\n",
    "# Review the first and last five rows of the DataFrame\n",
    "display(hospital_claims_df.head())\n",
    "display(hospital_claims_df.tail())"
   ]
  },
  {
   "cell_type": "markdown",
   "metadata": {},
   "source": [
    "## Step 2: Using the `hospital_claims_df` DataFrame, create a new DataFrame named `procedure_638_charges_df` that consists of all the rows where the value of the DRG Definition column equals \"638 - DIABETES W CC\". Review the resulting DataFrame."
   ]
  },
  {
   "cell_type": "code",
   "execution_count": 7,
   "metadata": {},
   "outputs": [
    {
     "data": {
      "text/html": [
       "<div>\n",
       "<style scoped>\n",
       "    .dataframe tbody tr th:only-of-type {\n",
       "        vertical-align: middle;\n",
       "    }\n",
       "\n",
       "    .dataframe tbody tr th {\n",
       "        vertical-align: top;\n",
       "    }\n",
       "\n",
       "    .dataframe thead th {\n",
       "        text-align: right;\n",
       "    }\n",
       "</style>\n",
       "<table border=\"1\" class=\"dataframe\">\n",
       "  <thead>\n",
       "    <tr style=\"text-align: right;\">\n",
       "      <th></th>\n",
       "      <th>DRG Definition</th>\n",
       "      <th>Provider Id</th>\n",
       "      <th>Provider Name</th>\n",
       "      <th>Provider Street Address</th>\n",
       "      <th>Provider City</th>\n",
       "      <th>Provider State</th>\n",
       "      <th>Provider Zip Code</th>\n",
       "      <th>Hospital Referral Region Description</th>\n",
       "      <th>Total Discharges</th>\n",
       "      <th>Average Covered Charges</th>\n",
       "      <th>Average Total Payments</th>\n",
       "      <th>Average Medicare Payments</th>\n",
       "    </tr>\n",
       "  </thead>\n",
       "  <tbody>\n",
       "    <tr>\n",
       "      <th>125166</th>\n",
       "      <td>638 - DIABETES W CC</td>\n",
       "      <td>330004</td>\n",
       "      <td>KINGSTON HOSPITAL</td>\n",
       "      <td>396 BROADWAY</td>\n",
       "      <td>KINGSTON</td>\n",
       "      <td>NY</td>\n",
       "      <td>12401</td>\n",
       "      <td>NY - Albany</td>\n",
       "      <td>21</td>\n",
       "      <td>20006.57</td>\n",
       "      <td>6048.85</td>\n",
       "      <td>5177.85</td>\n",
       "    </tr>\n",
       "    <tr>\n",
       "      <th>127575</th>\n",
       "      <td>638 - DIABETES W CC</td>\n",
       "      <td>10001</td>\n",
       "      <td>SOUTHEAST ALABAMA MEDICAL CENTER</td>\n",
       "      <td>1108 ROSS CLARK CIRCLE</td>\n",
       "      <td>DOTHAN</td>\n",
       "      <td>AL</td>\n",
       "      <td>36301</td>\n",
       "      <td>AL - Dothan</td>\n",
       "      <td>32</td>\n",
       "      <td>21175.81</td>\n",
       "      <td>4678.43</td>\n",
       "      <td>4047.68</td>\n",
       "    </tr>\n",
       "    <tr>\n",
       "      <th>127576</th>\n",
       "      <td>638 - DIABETES W CC</td>\n",
       "      <td>10005</td>\n",
       "      <td>MARSHALL MEDICAL CENTER SOUTH</td>\n",
       "      <td>2505 U S HIGHWAY 431 NORTH</td>\n",
       "      <td>BOAZ</td>\n",
       "      <td>AL</td>\n",
       "      <td>35957</td>\n",
       "      <td>AL - Birmingham</td>\n",
       "      <td>12</td>\n",
       "      <td>9719.16</td>\n",
       "      <td>4863.75</td>\n",
       "      <td>4203.41</td>\n",
       "    </tr>\n",
       "    <tr>\n",
       "      <th>127577</th>\n",
       "      <td>638 - DIABETES W CC</td>\n",
       "      <td>10006</td>\n",
       "      <td>ELIZA COFFEE MEMORIAL HOSPITAL</td>\n",
       "      <td>205 MARENGO STREET</td>\n",
       "      <td>FLORENCE</td>\n",
       "      <td>AL</td>\n",
       "      <td>35631</td>\n",
       "      <td>AL - Birmingham</td>\n",
       "      <td>35</td>\n",
       "      <td>17021.54</td>\n",
       "      <td>4434.57</td>\n",
       "      <td>3537.20</td>\n",
       "    </tr>\n",
       "    <tr>\n",
       "      <th>127578</th>\n",
       "      <td>638 - DIABETES W CC</td>\n",
       "      <td>10011</td>\n",
       "      <td>ST VINCENT'S EAST</td>\n",
       "      <td>50 MEDICAL PARK EAST DRIVE</td>\n",
       "      <td>BIRMINGHAM</td>\n",
       "      <td>AL</td>\n",
       "      <td>35235</td>\n",
       "      <td>AL - Birmingham</td>\n",
       "      <td>14</td>\n",
       "      <td>15875.50</td>\n",
       "      <td>5176.07</td>\n",
       "      <td>3394.64</td>\n",
       "    </tr>\n",
       "  </tbody>\n",
       "</table>\n",
       "</div>"
      ],
      "text/plain": [
       "             DRG Definition  Provider Id                     Provider Name  \\\n",
       "125166  638 - DIABETES W CC       330004                 KINGSTON HOSPITAL   \n",
       "127575  638 - DIABETES W CC        10001  SOUTHEAST ALABAMA MEDICAL CENTER   \n",
       "127576  638 - DIABETES W CC        10005     MARSHALL MEDICAL CENTER SOUTH   \n",
       "127577  638 - DIABETES W CC        10006    ELIZA COFFEE MEMORIAL HOSPITAL   \n",
       "127578  638 - DIABETES W CC        10011                 ST VINCENT'S EAST   \n",
       "\n",
       "           Provider Street Address Provider City Provider State  \\\n",
       "125166                396 BROADWAY      KINGSTON             NY   \n",
       "127575      1108 ROSS CLARK CIRCLE        DOTHAN             AL   \n",
       "127576  2505 U S HIGHWAY 431 NORTH          BOAZ             AL   \n",
       "127577          205 MARENGO STREET      FLORENCE             AL   \n",
       "127578  50 MEDICAL PARK EAST DRIVE    BIRMINGHAM             AL   \n",
       "\n",
       "        Provider Zip Code Hospital Referral Region Description  \\\n",
       "125166              12401                          NY - Albany   \n",
       "127575              36301                          AL - Dothan   \n",
       "127576              35957                      AL - Birmingham   \n",
       "127577              35631                      AL - Birmingham   \n",
       "127578              35235                      AL - Birmingham   \n",
       "\n",
       "        Total Discharges  Average Covered Charges  Average Total Payments  \\\n",
       "125166                21                 20006.57                 6048.85   \n",
       "127575                32                 21175.81                 4678.43   \n",
       "127576                12                  9719.16                 4863.75   \n",
       "127577                35                 17021.54                 4434.57   \n",
       "127578                14                 15875.50                 5176.07   \n",
       "\n",
       "        Average Medicare Payments  \n",
       "125166                    5177.85  \n",
       "127575                    4047.68  \n",
       "127576                    4203.41  \n",
       "127577                    3537.20  \n",
       "127578                    3394.64  "
      ]
     },
     "execution_count": 7,
     "metadata": {},
     "output_type": "execute_result"
    }
   ],
   "source": [
    "# Create a new DataFrame where the column DRG Definition equals \"638 - DIABETES W CC\"\n",
    "procedure_638_charges_df = hospital_claims_df.loc[hospital_claims_df[\"DRG Definition\"] == \"638 - DIABETES W CC\"]\n",
    "\n",
    "# Review the first five rows of the DataFrame\n",
    "procedure_638_charges_df.head()"
   ]
  },
  {
   "cell_type": "markdown",
   "metadata": {},
   "source": [
    "## Step 3: From the `procedure_638_charges_df` DataFrame, slice out the “Average Total Payments” and “Provider State” columns. Name this new DataFrame `average_total_payments_df`, and review it."
   ]
  },
  {
   "cell_type": "code",
   "execution_count": 8,
   "metadata": {},
   "outputs": [
    {
     "data": {
      "text/html": [
       "<div>\n",
       "<style scoped>\n",
       "    .dataframe tbody tr th:only-of-type {\n",
       "        vertical-align: middle;\n",
       "    }\n",
       "\n",
       "    .dataframe tbody tr th {\n",
       "        vertical-align: top;\n",
       "    }\n",
       "\n",
       "    .dataframe thead th {\n",
       "        text-align: right;\n",
       "    }\n",
       "</style>\n",
       "<table border=\"1\" class=\"dataframe\">\n",
       "  <thead>\n",
       "    <tr style=\"text-align: right;\">\n",
       "      <th></th>\n",
       "      <th>Average Total Payments</th>\n",
       "      <th>Provider State</th>\n",
       "    </tr>\n",
       "  </thead>\n",
       "  <tbody>\n",
       "    <tr>\n",
       "      <th>125166</th>\n",
       "      <td>6048.85</td>\n",
       "      <td>NY</td>\n",
       "    </tr>\n",
       "    <tr>\n",
       "      <th>127575</th>\n",
       "      <td>4678.43</td>\n",
       "      <td>AL</td>\n",
       "    </tr>\n",
       "    <tr>\n",
       "      <th>127576</th>\n",
       "      <td>4863.75</td>\n",
       "      <td>AL</td>\n",
       "    </tr>\n",
       "    <tr>\n",
       "      <th>127577</th>\n",
       "      <td>4434.57</td>\n",
       "      <td>AL</td>\n",
       "    </tr>\n",
       "    <tr>\n",
       "      <th>127578</th>\n",
       "      <td>5176.07</td>\n",
       "      <td>AL</td>\n",
       "    </tr>\n",
       "  </tbody>\n",
       "</table>\n",
       "</div>"
      ],
      "text/plain": [
       "        Average Total Payments Provider State\n",
       "125166                 6048.85             NY\n",
       "127575                 4678.43             AL\n",
       "127576                 4863.75             AL\n",
       "127577                 4434.57             AL\n",
       "127578                 5176.07             AL"
      ]
     },
     "execution_count": 8,
     "metadata": {},
     "output_type": "execute_result"
    }
   ],
   "source": [
    "# Using the \"procedure_638_charges\" dataframe \n",
    "# slice out the \"Average Total Payments\" and \"Provider State\" information \n",
    "average_total_payments_df = procedure_638_charges_df[[\"Average Total Payments\", \"Provider State\"]]\n",
    "\n",
    "# Review the first five rows resulting DataFrame\n",
    "average_total_payments_df.head()"
   ]
  },
  {
   "cell_type": "markdown",
   "metadata": {},
   "source": [
    "## Step 4: Create a DataFrame named `average_total_payments_by_state`. To do this, group the data in the `average_total_payments_df` DataFrame by “Provider State” and use the `mean` function to calculate the results. Review the resulting DataFrame."
   ]
  },
  {
   "cell_type": "code",
   "execution_count": 9,
   "metadata": {},
   "outputs": [
    {
     "data": {
      "text/html": [
       "<div>\n",
       "<style scoped>\n",
       "    .dataframe tbody tr th:only-of-type {\n",
       "        vertical-align: middle;\n",
       "    }\n",
       "\n",
       "    .dataframe tbody tr th {\n",
       "        vertical-align: top;\n",
       "    }\n",
       "\n",
       "    .dataframe thead th {\n",
       "        text-align: right;\n",
       "    }\n",
       "</style>\n",
       "<table border=\"1\" class=\"dataframe\">\n",
       "  <thead>\n",
       "    <tr style=\"text-align: right;\">\n",
       "      <th></th>\n",
       "      <th>Average Total Payments</th>\n",
       "    </tr>\n",
       "    <tr>\n",
       "      <th>Provider State</th>\n",
       "      <th></th>\n",
       "    </tr>\n",
       "  </thead>\n",
       "  <tbody>\n",
       "    <tr>\n",
       "      <th>AK</th>\n",
       "      <td>7762.520000</td>\n",
       "    </tr>\n",
       "    <tr>\n",
       "      <th>AL</th>\n",
       "      <td>4744.762439</td>\n",
       "    </tr>\n",
       "    <tr>\n",
       "      <th>AR</th>\n",
       "      <td>4858.523043</td>\n",
       "    </tr>\n",
       "    <tr>\n",
       "      <th>AZ</th>\n",
       "      <td>6088.806923</td>\n",
       "    </tr>\n",
       "    <tr>\n",
       "      <th>CA</th>\n",
       "      <td>7507.761812</td>\n",
       "    </tr>\n",
       "  </tbody>\n",
       "</table>\n",
       "</div>"
      ],
      "text/plain": [
       "                Average Total Payments\n",
       "Provider State                        \n",
       "AK                         7762.520000\n",
       "AL                         4744.762439\n",
       "AR                         4858.523043\n",
       "AZ                         6088.806923\n",
       "CA                         7507.761812"
      ]
     },
     "execution_count": 9,
     "metadata": {},
     "output_type": "execute_result"
    }
   ],
   "source": [
    "# Using the `avg_total_payments_df` DataFrame\n",
    "# group the information by \"Provider State\" and average the data\n",
    "average_total_payments_by_state = average_total_payments_df.groupby(\"Provider State\").mean()\n",
    "\n",
    "# Review the first five rows resulting DataFrame\n",
    "average_total_payments_by_state.head()"
   ]
  },
  {
   "cell_type": "markdown",
   "metadata": {},
   "source": [
    "## Step 5: Create a bar chart for the `average_total_payments_by_state` DataFrame. Include a `title` for the plot, rotate the x-axis labels, and add a `yformatter` that rounds the values to the nearest whole number."
   ]
  },
  {
   "cell_type": "code",
   "execution_count": 10,
   "metadata": {},
   "outputs": [
    {
     "data": {},
     "metadata": {},
     "output_type": "display_data"
    },
    {
     "data": {
      "application/vnd.holoviews_exec.v0+json": "",
      "text/html": [
       "<div id='1002'>\n",
       "\n",
       "\n",
       "\n",
       "\n",
       "\n",
       "  <div class=\"bk-root\" id=\"54111066-f77a-4afe-8ae8-8109bb210386\" data-root-id=\"1002\"></div>\n",
       "</div>\n",
       "<script type=\"application/javascript\">(function(root) {\n",
       "  function embed_document(root) {\n",
       "    var docs_json = {\"d95a8c7b-d171-4cda-9414-06dd8c5db596\":{\"defs\":[{\"extends\":null,\"module\":null,\"name\":\"ReactiveHTML1\",\"overrides\":[],\"properties\":[]},{\"extends\":null,\"module\":null,\"name\":\"FlexBox1\",\"overrides\":[],\"properties\":[{\"default\":\"flex-start\",\"kind\":null,\"name\":\"align_content\"},{\"default\":\"flex-start\",\"kind\":null,\"name\":\"align_items\"},{\"default\":\"row\",\"kind\":null,\"name\":\"flex_direction\"},{\"default\":\"wrap\",\"kind\":null,\"name\":\"flex_wrap\"},{\"default\":\"flex-start\",\"kind\":null,\"name\":\"justify_content\"}]},{\"extends\":null,\"module\":null,\"name\":\"GridStack1\",\"overrides\":[],\"properties\":[{\"default\":\"warn\",\"kind\":null,\"name\":\"mode\"},{\"default\":null,\"kind\":null,\"name\":\"ncols\"},{\"default\":null,\"kind\":null,\"name\":\"nrows\"},{\"default\":true,\"kind\":null,\"name\":\"allow_resize\"},{\"default\":true,\"kind\":null,\"name\":\"allow_drag\"},{\"default\":[],\"kind\":null,\"name\":\"state\"}]},{\"extends\":null,\"module\":null,\"name\":\"click1\",\"overrides\":[],\"properties\":[{\"default\":\"\",\"kind\":null,\"name\":\"terminal_output\"},{\"default\":\"\",\"kind\":null,\"name\":\"debug_name\"},{\"default\":0,\"kind\":null,\"name\":\"clears\"}]},{\"extends\":null,\"module\":null,\"name\":\"TemplateActions1\",\"overrides\":[],\"properties\":[{\"default\":0,\"kind\":null,\"name\":\"open_modal\"},{\"default\":0,\"kind\":null,\"name\":\"close_modal\"}]},{\"extends\":null,\"module\":null,\"name\":\"MaterialTemplateActions1\",\"overrides\":[],\"properties\":[{\"default\":0,\"kind\":null,\"name\":\"open_modal\"},{\"default\":0,\"kind\":null,\"name\":\"close_modal\"}]}],\"roots\":{\"references\":[{\"attributes\":{},\"id\":\"1060\",\"type\":\"UnionRenderers\"},{\"attributes\":{},\"id\":\"1014\",\"type\":\"LinearScale\"},{\"attributes\":{\"data\":{\"Average_Total_Payments\":{\"__ndarray__\":\"61G4HoVSvkD0MjQvw4iyQIRpLeaF+rJAxsGCks7It0Au3SQGw1O9QMuhRbaz6bVAppvEINDGuUAYS36xhLq9QDVeuknMJrdAcF8HztmXtEAxIilxvKm0QOxRuB5FKLtAF0p9sCNrs0DC9Shcz1C1QFimwal+0bdAaNwsNGkUtEAen762OM6zQB5BeOqNXbRASI5oGj1vtEDVXhUwTNu4QFVVVVV1Mb1ACfjm1QSRtUAaDyOSEt+2QCgnJycnzrdA1uA5AmVZtEC1OiZ4EBS0QEjhehQe87NACtejcLR5tUB7FK5HUZq1QGdmZmaGQbRAoF1AbGpvtUBnpS2TkCa5QG/kRm4kbbdALCjp+LRat0AJIJo7ExW9QErWpmStYrRAmpmZmVk1tECjkYBvngq4QCBq+qEey7VAxld8xZfRuUBQxGPBATy1QJNfLPmFibZAQacNdGZjs0DpyCXEwci1QG2g0wYa57dApw102iCqtECQwvUoXGq6QIsb6kWS57dAx5JfLNGptkAzMzMzI52zQGZmZmZmlbpA\",\"dtype\":\"float64\",\"order\":\"little\",\"shape\":[51]},\"Provider_State\":[\"AK\",\"AL\",\"AR\",\"AZ\",\"CA\",\"CO\",\"CT\",\"DC\",\"DE\",\"FL\",\"GA\",\"HI\",\"IA\",\"ID\",\"IL\",\"IN\",\"KS\",\"KY\",\"LA\",\"MA\",\"MD\",\"ME\",\"MI\",\"MN\",\"MO\",\"MS\",\"MT\",\"NC\",\"ND\",\"NE\",\"NH\",\"NJ\",\"NM\",\"NV\",\"NY\",\"OH\",\"OK\",\"OR\",\"PA\",\"RI\",\"SC\",\"SD\",\"TN\",\"TX\",\"UT\",\"VA\",\"VT\",\"WA\",\"WI\",\"WV\",\"WY\"]},\"selected\":{\"id\":\"1037\"},\"selection_policy\":{\"id\":\"1060\"}},\"id\":\"1036\",\"type\":\"ColumnDataSource\"},{\"attributes\":{},\"id\":\"1012\",\"type\":\"CategoricalScale\"},{\"attributes\":{\"fill_alpha\":{\"value\":0.1},\"fill_color\":{\"value\":\"#30a2da\"},\"hatch_alpha\":{\"value\":0.1},\"hatch_color\":{\"value\":\"#30a2da\"},\"line_alpha\":{\"value\":0.1},\"top\":{\"field\":\"Average_Total_Payments\"},\"width\":{\"value\":0.8},\"x\":{\"field\":\"Provider_State\"}},\"id\":\"1040\",\"type\":\"VBar\"},{\"attributes\":{\"source\":{\"id\":\"1036\"}},\"id\":\"1043\",\"type\":\"CDSView\"},{\"attributes\":{\"callback\":null,\"renderers\":[{\"id\":\"1042\"}],\"tags\":[\"hv_created\"],\"tooltips\":[[\"Provider State\",\"@{Provider_State}\"],[\"Average Total Payments\",\"@{Average_Total_Payments}\"]]},\"id\":\"1006\",\"type\":\"HoverTool\"},{\"attributes\":{},\"id\":\"1051\",\"type\":\"AllLabels\"},{\"attributes\":{\"coordinates\":null,\"group\":null,\"text\":\"Average Total Diabetes Payments Per State\",\"text_color\":\"black\",\"text_font_size\":\"12pt\"},\"id\":\"1008\",\"type\":\"Title\"},{\"attributes\":{},\"id\":\"1047\",\"type\":\"CategoricalTickFormatter\"},{\"attributes\":{\"below\":[{\"id\":\"1016\"}],\"center\":[{\"id\":\"1018\"},{\"id\":\"1022\"}],\"height\":300,\"left\":[{\"id\":\"1019\"}],\"margin\":[5,5,5,5],\"min_border_bottom\":10,\"min_border_left\":10,\"min_border_right\":10,\"min_border_top\":10,\"renderers\":[{\"id\":\"1042\"}],\"sizing_mode\":\"fixed\",\"title\":{\"id\":\"1008\"},\"toolbar\":{\"id\":\"1029\"},\"width\":700,\"x_range\":{\"id\":\"1004\"},\"x_scale\":{\"id\":\"1012\"},\"y_range\":{\"id\":\"1005\"},\"y_scale\":{\"id\":\"1014\"}},\"id\":\"1007\",\"subtype\":\"Figure\",\"type\":\"Plot\"},{\"attributes\":{},\"id\":\"1017\",\"type\":\"CategoricalTicker\"},{\"attributes\":{\"margin\":[5,5,5,5],\"name\":\"HSpacer01731\",\"sizing_mode\":\"stretch_width\"},\"id\":\"1072\",\"type\":\"Spacer\"},{\"attributes\":{\"axis\":{\"id\":\"1016\"},\"coordinates\":null,\"grid_line_color\":null,\"group\":null,\"ticker\":null},\"id\":\"1018\",\"type\":\"Grid\"},{\"attributes\":{\"axis_label\":\"Provider State\",\"coordinates\":null,\"formatter\":{\"id\":\"1047\"},\"group\":null,\"major_label_orientation\":1.5707963267948966,\"major_label_policy\":{\"id\":\"1048\"},\"ticker\":{\"id\":\"1017\"}},\"id\":\"1016\",\"type\":\"CategoricalAxis\"},{\"attributes\":{},\"id\":\"1024\",\"type\":\"PanTool\"},{\"attributes\":{\"bottom\":{\"value\":0},\"fill_alpha\":{\"value\":1.0},\"fill_color\":{\"value\":\"#30a2da\"},\"hatch_alpha\":{\"value\":1.0},\"hatch_color\":{\"value\":\"#30a2da\"},\"hatch_scale\":{\"value\":12.0},\"hatch_weight\":{\"value\":1.0},\"line_alpha\":{\"value\":1.0},\"line_cap\":{\"value\":\"butt\"},\"line_color\":{\"value\":\"black\"},\"line_dash\":{\"value\":[]},\"line_dash_offset\":{\"value\":0},\"line_join\":{\"value\":\"bevel\"},\"line_width\":{\"value\":1},\"top\":{\"field\":\"Average_Total_Payments\"},\"width\":{\"value\":0.8},\"x\":{\"field\":\"Provider_State\"}},\"id\":\"1044\",\"type\":\"VBar\"},{\"attributes\":{\"axis\":{\"id\":\"1019\"},\"coordinates\":null,\"dimension\":1,\"grid_line_color\":null,\"group\":null,\"ticker\":null},\"id\":\"1022\",\"type\":\"Grid\"},{\"attributes\":{\"axis_label\":\"Average Total Payments\",\"coordinates\":null,\"formatter\":{\"id\":\"1045\"},\"group\":null,\"major_label_policy\":{\"id\":\"1051\"},\"ticker\":{\"id\":\"1020\"}},\"id\":\"1019\",\"type\":\"LinearAxis\"},{\"attributes\":{},\"id\":\"1020\",\"type\":\"BasicTicker\"},{\"attributes\":{\"margin\":[5,5,5,5],\"name\":\"HSpacer01730\",\"sizing_mode\":\"stretch_width\"},\"id\":\"1003\",\"type\":\"Spacer\"},{\"attributes\":{},\"id\":\"1025\",\"type\":\"WheelZoomTool\"},{\"attributes\":{\"fill_color\":{\"value\":\"#30a2da\"},\"hatch_color\":{\"value\":\"#30a2da\"},\"top\":{\"field\":\"Average_Total_Payments\"},\"width\":{\"value\":0.8},\"x\":{\"field\":\"Provider_State\"}},\"id\":\"1039\",\"type\":\"VBar\"},{\"attributes\":{\"children\":[{\"id\":\"1003\"},{\"id\":\"1007\"},{\"id\":\"1072\"}],\"margin\":[0,0,0,0],\"name\":\"Row01726\",\"tags\":[\"embedded\"]},\"id\":\"1002\",\"type\":\"Row\"},{\"attributes\":{},\"id\":\"1023\",\"type\":\"SaveTool\"},{\"attributes\":{\"format\":\"%.0f\"},\"id\":\"1045\",\"type\":\"PrintfTickFormatter\"},{\"attributes\":{\"overlay\":{\"id\":\"1028\"}},\"id\":\"1026\",\"type\":\"BoxZoomTool\"},{\"attributes\":{},\"id\":\"1027\",\"type\":\"ResetTool\"},{\"attributes\":{\"coordinates\":null,\"data_source\":{\"id\":\"1036\"},\"glyph\":{\"id\":\"1039\"},\"group\":null,\"hover_glyph\":null,\"muted_glyph\":{\"id\":\"1041\"},\"nonselection_glyph\":{\"id\":\"1040\"},\"selection_glyph\":{\"id\":\"1044\"},\"view\":{\"id\":\"1043\"}},\"id\":\"1042\",\"type\":\"GlyphRenderer\"},{\"attributes\":{\"bottom_units\":\"screen\",\"coordinates\":null,\"fill_alpha\":0.5,\"fill_color\":\"lightgrey\",\"group\":null,\"left_units\":\"screen\",\"level\":\"overlay\",\"line_alpha\":1.0,\"line_color\":\"black\",\"line_dash\":[4,4],\"line_width\":2,\"right_units\":\"screen\",\"syncable\":false,\"top_units\":\"screen\"},\"id\":\"1028\",\"type\":\"BoxAnnotation\"},{\"attributes\":{\"fill_alpha\":{\"value\":0.2},\"fill_color\":{\"value\":\"#30a2da\"},\"hatch_alpha\":{\"value\":0.2},\"hatch_color\":{\"value\":\"#30a2da\"},\"line_alpha\":{\"value\":0.2},\"top\":{\"field\":\"Average_Total_Payments\"},\"width\":{\"value\":0.8},\"x\":{\"field\":\"Provider_State\"}},\"id\":\"1041\",\"type\":\"VBar\"},{\"attributes\":{\"end\":8064.29575609756,\"reset_end\":8064.29575609756,\"reset_start\":0.0,\"tags\":[[[\"Average Total Payments\",\"Average Total Payments\",null]]]},\"id\":\"1005\",\"type\":\"Range1d\"},{\"attributes\":{},\"id\":\"1037\",\"type\":\"Selection\"},{\"attributes\":{},\"id\":\"1048\",\"type\":\"AllLabels\"},{\"attributes\":{\"factors\":[\"AK\",\"AL\",\"AR\",\"AZ\",\"CA\",\"CO\",\"CT\",\"DC\",\"DE\",\"FL\",\"GA\",\"HI\",\"IA\",\"ID\",\"IL\",\"IN\",\"KS\",\"KY\",\"LA\",\"MA\",\"MD\",\"ME\",\"MI\",\"MN\",\"MO\",\"MS\",\"MT\",\"NC\",\"ND\",\"NE\",\"NH\",\"NJ\",\"NM\",\"NV\",\"NY\",\"OH\",\"OK\",\"OR\",\"PA\",\"RI\",\"SC\",\"SD\",\"TN\",\"TX\",\"UT\",\"VA\",\"VT\",\"WA\",\"WI\",\"WV\",\"WY\"],\"tags\":[[[\"Provider State\",\"Provider State\",null]]]},\"id\":\"1004\",\"type\":\"FactorRange\"},{\"attributes\":{\"tools\":[{\"id\":\"1006\"},{\"id\":\"1023\"},{\"id\":\"1024\"},{\"id\":\"1025\"},{\"id\":\"1026\"},{\"id\":\"1027\"}]},\"id\":\"1029\",\"type\":\"Toolbar\"}],\"root_ids\":[\"1002\"]},\"title\":\"Bokeh Application\",\"version\":\"2.4.2\"}};\n",
       "    var render_items = [{\"docid\":\"d95a8c7b-d171-4cda-9414-06dd8c5db596\",\"root_ids\":[\"1002\"],\"roots\":{\"1002\":\"54111066-f77a-4afe-8ae8-8109bb210386\"}}];\n",
       "    root.Bokeh.embed.embed_items_notebook(docs_json, render_items);\n",
       "  }\n",
       "  if (root.Bokeh !== undefined && root.Bokeh.Panel !== undefined) {\n",
       "    embed_document(root);\n",
       "  } else {\n",
       "    var attempts = 0;\n",
       "    var timer = setInterval(function(root) {\n",
       "      if (root.Bokeh !== undefined && root.Bokeh.Panel !== undefined) {\n",
       "        clearInterval(timer);\n",
       "        embed_document(root);\n",
       "      } else if (document.readyState == \"complete\") {\n",
       "        attempts++;\n",
       "        if (attempts > 200) {\n",
       "          clearInterval(timer);\n",
       "          console.log(\"Bokeh: ERROR: Unable to run BokehJS code because BokehJS library is missing\");\n",
       "        }\n",
       "      }\n",
       "    }, 25, root)\n",
       "  }\n",
       "})(window);</script>"
      ],
      "text/plain": [
       ":Bars   [Provider State]   (Average Total Payments)"
      ]
     },
     "execution_count": 10,
     "metadata": {
      "application/vnd.holoviews_exec.v0+json": {
       "id": "1002"
      }
     },
     "output_type": "execute_result"
    }
   ],
   "source": [
    "# Create a bar chart of the `average_total_payment_by_state` DataFrame\n",
    "average_total_payments_by_state.hvplot.bar(\n",
    "    rot=90, \n",
    "    title = \"Average Total Diabetes Payments Per State\"\n",
    ").opts(yformatter='%.0f')"
   ]
  },
  {
   "cell_type": "markdown",
   "metadata": {},
   "source": [
    "## Step 6: Create a new Dataframe named `average_total_payments_by_state_sorted` that holds the sorted values of the `average_total_payments_by_state` DataFrame based on the “Average Total Payments” column. Plot the sorted DataFrame in a bar chart."
   ]
  },
  {
   "cell_type": "code",
   "execution_count": 7,
   "metadata": {},
   "outputs": [
    {
     "data": {},
     "metadata": {},
     "output_type": "display_data"
    },
    {
     "data": {
      "application/vnd.holoviews_exec.v0+json": "",
      "text/html": [
       "<div id='1119'>\n",
       "\n",
       "\n",
       "\n",
       "\n",
       "\n",
       "  <div class=\"bk-root\" id=\"97e17617-2bc9-4921-929e-69d8ab68d87a\" data-root-id=\"1119\"></div>\n",
       "</div>\n",
       "<script type=\"application/javascript\">(function(root) {\n",
       "  function embed_document(root) {\n",
       "    var docs_json = {\"3a33b5ae-7949-4eb0-b598-b70c581a974e\":{\"defs\":[{\"extends\":null,\"module\":null,\"name\":\"ReactiveHTML1\",\"overrides\":[],\"properties\":[]},{\"extends\":null,\"module\":null,\"name\":\"FlexBox1\",\"overrides\":[],\"properties\":[{\"default\":\"flex-start\",\"kind\":null,\"name\":\"align_content\"},{\"default\":\"flex-start\",\"kind\":null,\"name\":\"align_items\"},{\"default\":\"row\",\"kind\":null,\"name\":\"flex_direction\"},{\"default\":\"wrap\",\"kind\":null,\"name\":\"flex_wrap\"},{\"default\":\"flex-start\",\"kind\":null,\"name\":\"justify_content\"}]},{\"extends\":null,\"module\":null,\"name\":\"TemplateActions1\",\"overrides\":[],\"properties\":[{\"default\":0,\"kind\":null,\"name\":\"open_modal\"},{\"default\":0,\"kind\":null,\"name\":\"close_modal\"}]},{\"extends\":null,\"module\":null,\"name\":\"MaterialTemplateActions1\",\"overrides\":[],\"properties\":[{\"default\":0,\"kind\":null,\"name\":\"open_modal\"},{\"default\":0,\"kind\":null,\"name\":\"close_modal\"}]}],\"roots\":{\"references\":[{\"attributes\":{},\"id\":\"1154\",\"type\":\"Selection\"},{\"attributes\":{},\"id\":\"1137\",\"type\":\"BasicTicker\"},{\"attributes\":{\"axis\":{\"id\":\"1136\"},\"dimension\":1,\"grid_line_color\":null,\"ticker\":null},\"id\":\"1139\",\"type\":\"Grid\"},{\"attributes\":{\"data\":{\"Average_Total_Payments\":{\"__ndarray__\":\"9DI0L8OIskCFaS3mhfqyQEGnDXRmY7NAF0p9sCNrs0AzMzMzI52zQB6fvrY4zrNASOF6FB7zs0C1OiZ4EBS0QGfcLDRpFLRAmpmZmVk1tEBnZmZmhkG0QNjgOQJlWbRAHkF46o1dtEBI1qZkrWK0QEiOaBo9b7RAcF8HztmXtEAwIilxvKm0QKcNdNogqrRAUcRjwQE8tUDD9Shcz1C1QKBdQGxqb7VACtejcLR5tUAJ+ObVBJG1QHsUrkdRmrVA6sglxMHItUAhavqhHsu1QMuhRbaz6bVAk18s+YWJtkDFkl8s0am2QBsPI5IS37ZANV66Scwmt0AsKOn4tFq3QG7kRm4kbbdAxsGCks7It0AnJycnJ863QFimwal+0bdAbaDTBhrnt0CMG+pFkue3QKORgG+eCrhA014VMEzbuEBmpS2TkCa5QKabxCDQxrlAxVd8xZfRuUCQwvUoXGq6QGZmZmZmlbpA7FG4HkUou0AHIJo7ExW9QFVVVVV1Mb1AK90kBsNTvUAYS36xhLq9QOtRuB6FUr5A\",\"dtype\":\"float64\",\"order\":\"little\",\"shape\":[51]},\"Provider_State\":[\"AL\",\"AR\",\"TN\",\"IA\",\"WV\",\"KS\",\"MT\",\"MS\",\"IN\",\"OK\",\"NE\",\"MO\",\"KY\",\"OH\",\"LA\",\"FL\",\"GA\",\"VA\",\"SC\",\"ID\",\"NH\",\"NC\",\"ME\",\"ND\",\"TX\",\"PA\",\"CO\",\"SD\",\"WI\",\"MI\",\"DE\",\"NV\",\"NM\",\"AZ\",\"MN\",\"IL\",\"UT\",\"WA\",\"OR\",\"MA\",\"NJ\",\"CT\",\"RI\",\"VT\",\"WY\",\"HI\",\"NY\",\"MD\",\"CA\",\"DC\",\"AK\"]},\"selected\":{\"id\":\"1154\"},\"selection_policy\":{\"id\":\"1179\"}},\"id\":\"1153\",\"type\":\"ColumnDataSource\"},{\"attributes\":{},\"id\":\"1179\",\"type\":\"UnionRenderers\"},{\"attributes\":{\"axis_label\":\"Provider State\",\"formatter\":{\"id\":\"1163\"},\"major_label_orientation\":1.5707963267948966,\"major_label_policy\":{\"id\":\"1165\"},\"ticker\":{\"id\":\"1134\"}},\"id\":\"1133\",\"type\":\"CategoricalAxis\"},{\"attributes\":{\"bottom\":{\"value\":0},\"fill_alpha\":{\"value\":1.0},\"fill_color\":{\"value\":\"blue\"},\"hatch_alpha\":{\"value\":1.0},\"hatch_color\":{\"value\":\"black\"},\"hatch_scale\":{\"value\":12.0},\"hatch_weight\":{\"value\":1.0},\"line_alpha\":{\"value\":1.0},\"line_cap\":{\"value\":\"butt\"},\"line_color\":{\"value\":\"black\"},\"line_dash\":{\"value\":[]},\"line_dash_offset\":{\"value\":0},\"line_join\":{\"value\":\"bevel\"},\"line_width\":{\"value\":1},\"top\":{\"field\":\"Average_Total_Payments\"},\"width\":{\"value\":0.8},\"x\":{\"field\":\"Provider_State\"}},\"id\":\"1161\",\"type\":\"VBar\"},{\"attributes\":{\"bottom_units\":\"screen\",\"fill_alpha\":0.5,\"fill_color\":\"lightgrey\",\"left_units\":\"screen\",\"level\":\"overlay\",\"line_alpha\":1.0,\"line_color\":\"black\",\"line_dash\":[4,4],\"line_width\":2,\"right_units\":\"screen\",\"syncable\":false,\"top_units\":\"screen\"},\"id\":\"1145\",\"type\":\"BoxAnnotation\"},{\"attributes\":{\"source\":{\"id\":\"1153\"}},\"id\":\"1160\",\"type\":\"CDSView\"},{\"attributes\":{\"below\":[{\"id\":\"1133\"}],\"center\":[{\"id\":\"1135\"},{\"id\":\"1139\"}],\"height\":300,\"left\":[{\"id\":\"1136\"}],\"margin\":[5,5,5,5],\"min_border_bottom\":10,\"min_border_left\":10,\"min_border_right\":10,\"min_border_top\":10,\"renderers\":[{\"id\":\"1159\"}],\"sizing_mode\":\"fixed\",\"title\":{\"id\":\"1125\"},\"toolbar\":{\"id\":\"1146\"},\"width\":700,\"x_range\":{\"id\":\"1121\"},\"x_scale\":{\"id\":\"1129\"},\"y_range\":{\"id\":\"1122\"},\"y_scale\":{\"id\":\"1131\"}},\"id\":\"1124\",\"subtype\":\"Figure\",\"type\":\"Plot\"},{\"attributes\":{\"fill_alpha\":{\"value\":0.2},\"fill_color\":{\"value\":\"blue\"},\"line_alpha\":{\"value\":0.2},\"top\":{\"field\":\"Average_Total_Payments\"},\"width\":{\"value\":0.8},\"x\":{\"field\":\"Provider_State\"}},\"id\":\"1158\",\"type\":\"VBar\"},{\"attributes\":{\"data_source\":{\"id\":\"1153\"},\"glyph\":{\"id\":\"1156\"},\"hover_glyph\":null,\"muted_glyph\":{\"id\":\"1158\"},\"nonselection_glyph\":{\"id\":\"1157\"},\"selection_glyph\":{\"id\":\"1161\"},\"view\":{\"id\":\"1160\"}},\"id\":\"1159\",\"type\":\"GlyphRenderer\"},{\"attributes\":{\"active_multi\":null,\"tools\":[{\"id\":\"1123\"},{\"id\":\"1140\"},{\"id\":\"1141\"},{\"id\":\"1142\"},{\"id\":\"1143\"},{\"id\":\"1144\"}]},\"id\":\"1146\",\"type\":\"Toolbar\"},{\"attributes\":{\"fill_alpha\":{\"value\":0.1},\"fill_color\":{\"value\":\"blue\"},\"line_alpha\":{\"value\":0.1},\"top\":{\"field\":\"Average_Total_Payments\"},\"width\":{\"value\":0.8},\"x\":{\"field\":\"Provider_State\"}},\"id\":\"1157\",\"type\":\"VBar\"},{\"attributes\":{},\"id\":\"1140\",\"type\":\"SaveTool\"},{\"attributes\":{\"margin\":[5,5,5,5],\"name\":\"HSpacer01867\",\"sizing_mode\":\"stretch_width\"},\"id\":\"1120\",\"type\":\"Spacer\"},{\"attributes\":{\"fill_color\":{\"value\":\"blue\"},\"top\":{\"field\":\"Average_Total_Payments\"},\"width\":{\"value\":0.8},\"x\":{\"field\":\"Provider_State\"}},\"id\":\"1156\",\"type\":\"VBar\"},{\"attributes\":{},\"id\":\"1141\",\"type\":\"PanTool\"},{\"attributes\":{},\"id\":\"1142\",\"type\":\"WheelZoomTool\"},{\"attributes\":{},\"id\":\"1165\",\"type\":\"AllLabels\"},{\"attributes\":{\"callback\":null,\"renderers\":[{\"id\":\"1159\"}],\"tags\":[\"hv_created\"],\"tooltips\":[[\"Provider State\",\"@{Provider_State}\"],[\"Average Total Payments\",\"@{Average_Total_Payments}\"]]},\"id\":\"1123\",\"type\":\"HoverTool\"},{\"attributes\":{},\"id\":\"1129\",\"type\":\"CategoricalScale\"},{\"attributes\":{\"overlay\":{\"id\":\"1145\"}},\"id\":\"1143\",\"type\":\"BoxZoomTool\"},{\"attributes\":{},\"id\":\"1163\",\"type\":\"CategoricalTickFormatter\"},{\"attributes\":{},\"id\":\"1131\",\"type\":\"LinearScale\"},{\"attributes\":{\"margin\":[5,5,5,5],\"name\":\"HSpacer01868\",\"sizing_mode\":\"stretch_width\"},\"id\":\"1189\",\"type\":\"Spacer\"},{\"attributes\":{\"children\":[{\"id\":\"1120\"},{\"id\":\"1124\"},{\"id\":\"1189\"}],\"margin\":[0,0,0,0],\"name\":\"Row01863\",\"tags\":[\"embedded\"]},\"id\":\"1119\",\"type\":\"Row\"},{\"attributes\":{\"format\":\"%.0f\"},\"id\":\"1162\",\"type\":\"PrintfTickFormatter\"},{\"attributes\":{},\"id\":\"1144\",\"type\":\"ResetTool\"},{\"attributes\":{\"axis_label\":\"Average Total Payments\",\"formatter\":{\"id\":\"1162\"},\"major_label_policy\":{\"id\":\"1168\"},\"ticker\":{\"id\":\"1137\"}},\"id\":\"1136\",\"type\":\"LinearAxis\"},{\"attributes\":{\"end\":8064.29575609756,\"reset_end\":8064.29575609756,\"reset_start\":0.0,\"tags\":[[[\"Average Total Payments\",\"Average Total Payments\",null]]]},\"id\":\"1122\",\"type\":\"Range1d\"},{\"attributes\":{},\"id\":\"1168\",\"type\":\"AllLabels\"},{\"attributes\":{\"text\":\"Average Total Diabetes Payment by State - Sorted\",\"text_color\":\"black\",\"text_font_size\":\"12pt\"},\"id\":\"1125\",\"type\":\"Title\"},{\"attributes\":{\"factors\":[\"AL\",\"AR\",\"TN\",\"IA\",\"WV\",\"KS\",\"MT\",\"MS\",\"IN\",\"OK\",\"NE\",\"MO\",\"KY\",\"OH\",\"LA\",\"FL\",\"GA\",\"VA\",\"SC\",\"ID\",\"NH\",\"NC\",\"ME\",\"ND\",\"TX\",\"PA\",\"CO\",\"SD\",\"WI\",\"MI\",\"DE\",\"NV\",\"NM\",\"AZ\",\"MN\",\"IL\",\"UT\",\"WA\",\"OR\",\"MA\",\"NJ\",\"CT\",\"RI\",\"VT\",\"WY\",\"HI\",\"NY\",\"MD\",\"CA\",\"DC\",\"AK\"],\"tags\":[[[\"Provider State\",\"Provider State\",null]]]},\"id\":\"1121\",\"type\":\"FactorRange\"},{\"attributes\":{},\"id\":\"1134\",\"type\":\"CategoricalTicker\"},{\"attributes\":{\"axis\":{\"id\":\"1133\"},\"grid_line_color\":null,\"ticker\":null},\"id\":\"1135\",\"type\":\"Grid\"}],\"root_ids\":[\"1119\"]},\"title\":\"Bokeh Application\",\"version\":\"2.3.2\"}};\n",
       "    var render_items = [{\"docid\":\"3a33b5ae-7949-4eb0-b598-b70c581a974e\",\"root_ids\":[\"1119\"],\"roots\":{\"1119\":\"97e17617-2bc9-4921-929e-69d8ab68d87a\"}}];\n",
       "    root.Bokeh.embed.embed_items_notebook(docs_json, render_items);\n",
       "  }\n",
       "  if (root.Bokeh !== undefined && root.Bokeh.Panel !== undefined) {\n",
       "    embed_document(root);\n",
       "  } else {\n",
       "    var attempts = 0;\n",
       "    var timer = setInterval(function(root) {\n",
       "      if (root.Bokeh !== undefined && root.Bokeh.Panel !== undefined) {\n",
       "        clearInterval(timer);\n",
       "        embed_document(root);\n",
       "      } else if (document.readyState == \"complete\") {\n",
       "        attempts++;\n",
       "        if (attempts > 200) {\n",
       "          clearInterval(timer);\n",
       "          console.log(\"Bokeh: ERROR: Unable to run BokehJS code because BokehJS library is missing\");\n",
       "        }\n",
       "      }\n",
       "    }, 25, root)\n",
       "  }\n",
       "})(window);</script>"
      ],
      "text/plain": [
       ":Bars   [Provider State]   (Average Total Payments)"
      ]
     },
     "execution_count": 7,
     "metadata": {
      "application/vnd.holoviews_exec.v0+json": {
       "id": "1119"
      }
     },
     "output_type": "execute_result"
    }
   ],
   "source": [
    "# Sort the average_total_payments_by_state DataFrame by \"Average Total Payments\"\n",
    "average_total_payments_by_state_sorted = average_total_payments_by_state.sort_values(\"Average Total Payments\")\n",
    "\n",
    "# Create a bar chart to visualize the average_total_payment_by_state_sorted DataFrame\n",
    "plot_average_total_payments_by_state_sorted = average_total_payments_by_state_sorted.hvplot.bar(\n",
    "    title=\"Average Total Diabetes Payment by State - Sorted\", \n",
    "    color=\"blue\", \n",
    "    rot=90\n",
    ").opts(yformatter='%.0f')\n",
    "\n",
    "# Visualize the bar chart\n",
    "plot_average_total_payments_by_state_sorted"
   ]
  },
  {
   "cell_type": "markdown",
   "metadata": {},
   "source": [
    "## Step 7: Repeat Steps 3 through 6, slicing out the “Average Medicare Payments” and “Provider State” columns."
   ]
  },
  {
   "cell_type": "code",
   "execution_count": 8,
   "metadata": {},
   "outputs": [
    {
     "data": {
      "text/html": [
       "<div>\n",
       "<style scoped>\n",
       "    .dataframe tbody tr th:only-of-type {\n",
       "        vertical-align: middle;\n",
       "    }\n",
       "\n",
       "    .dataframe tbody tr th {\n",
       "        vertical-align: top;\n",
       "    }\n",
       "\n",
       "    .dataframe thead th {\n",
       "        text-align: right;\n",
       "    }\n",
       "</style>\n",
       "<table border=\"1\" class=\"dataframe\">\n",
       "  <thead>\n",
       "    <tr style=\"text-align: right;\">\n",
       "      <th></th>\n",
       "      <th>Average Medicare Payments</th>\n",
       "      <th>Provider State</th>\n",
       "    </tr>\n",
       "  </thead>\n",
       "  <tbody>\n",
       "    <tr>\n",
       "      <th>125166</th>\n",
       "      <td>5177.85</td>\n",
       "      <td>NY</td>\n",
       "    </tr>\n",
       "    <tr>\n",
       "      <th>127575</th>\n",
       "      <td>4047.68</td>\n",
       "      <td>AL</td>\n",
       "    </tr>\n",
       "    <tr>\n",
       "      <th>127576</th>\n",
       "      <td>4203.41</td>\n",
       "      <td>AL</td>\n",
       "    </tr>\n",
       "    <tr>\n",
       "      <th>127577</th>\n",
       "      <td>3537.20</td>\n",
       "      <td>AL</td>\n",
       "    </tr>\n",
       "    <tr>\n",
       "      <th>127578</th>\n",
       "      <td>3394.64</td>\n",
       "      <td>AL</td>\n",
       "    </tr>\n",
       "  </tbody>\n",
       "</table>\n",
       "</div>"
      ],
      "text/plain": [
       "        Average Medicare Payments Provider State\n",
       "125166                    5177.85             NY\n",
       "127575                    4047.68             AL\n",
       "127576                    4203.41             AL\n",
       "127577                    3537.20             AL\n",
       "127578                    3394.64             AL"
      ]
     },
     "execution_count": 8,
     "metadata": {},
     "output_type": "execute_result"
    }
   ],
   "source": [
    "# Using the \"procedure_638_charges\" dataframe, \n",
    "# slice out the \"Average Medicare Payments\" and \"Provider State\" information. \n",
    "average_medicare_payments_df = procedure_638_charges_df[[\"Average Medicare Payments\", \"Provider State\"]]\n",
    "\n",
    "# Review the first five rows resulting DataFrame\n",
    "average_medicare_payments_df .head()"
   ]
  },
  {
   "cell_type": "code",
   "execution_count": 9,
   "metadata": {},
   "outputs": [
    {
     "data": {
      "text/html": [
       "<div>\n",
       "<style scoped>\n",
       "    .dataframe tbody tr th:only-of-type {\n",
       "        vertical-align: middle;\n",
       "    }\n",
       "\n",
       "    .dataframe tbody tr th {\n",
       "        vertical-align: top;\n",
       "    }\n",
       "\n",
       "    .dataframe thead th {\n",
       "        text-align: right;\n",
       "    }\n",
       "</style>\n",
       "<table border=\"1\" class=\"dataframe\">\n",
       "  <thead>\n",
       "    <tr style=\"text-align: right;\">\n",
       "      <th></th>\n",
       "      <th>Average Medicare Payments</th>\n",
       "    </tr>\n",
       "    <tr>\n",
       "      <th>Provider State</th>\n",
       "      <th></th>\n",
       "    </tr>\n",
       "  </thead>\n",
       "  <tbody>\n",
       "    <tr>\n",
       "      <th>AK</th>\n",
       "      <td>6852.920000</td>\n",
       "    </tr>\n",
       "    <tr>\n",
       "      <th>AL</th>\n",
       "      <td>3742.141463</td>\n",
       "    </tr>\n",
       "    <tr>\n",
       "      <th>AR</th>\n",
       "      <td>3915.584348</td>\n",
       "    </tr>\n",
       "    <tr>\n",
       "      <th>AZ</th>\n",
       "      <td>4934.449615</td>\n",
       "    </tr>\n",
       "    <tr>\n",
       "      <th>CA</th>\n",
       "      <td>6622.250875</td>\n",
       "    </tr>\n",
       "  </tbody>\n",
       "</table>\n",
       "</div>"
      ],
      "text/plain": [
       "                Average Medicare Payments\n",
       "Provider State                           \n",
       "AK                            6852.920000\n",
       "AL                            3742.141463\n",
       "AR                            3915.584348\n",
       "AZ                            4934.449615\n",
       "CA                            6622.250875"
      ]
     },
     "execution_count": 9,
     "metadata": {},
     "output_type": "execute_result"
    }
   ],
   "source": [
    "# Using the average_medicare_payments_df DataFrame, \n",
    "# group the information by \"Provider State\" and average the data.\n",
    "average_medicare_payments_by_state = average_medicare_payments_df.groupby(\"Provider State\").mean()\n",
    "\n",
    "# Review the first five rows of the resulting DataFrame\n",
    "average_medicare_payments_by_state.head()"
   ]
  },
  {
   "cell_type": "code",
   "execution_count": 10,
   "metadata": {},
   "outputs": [
    {
     "data": {},
     "metadata": {},
     "output_type": "display_data"
    },
    {
     "data": {
      "application/vnd.holoviews_exec.v0+json": "",
      "text/html": [
       "<div id='1236'>\n",
       "\n",
       "\n",
       "\n",
       "\n",
       "\n",
       "  <div class=\"bk-root\" id=\"285f01db-ed5c-4632-a51d-5502da8c932c\" data-root-id=\"1236\"></div>\n",
       "</div>\n",
       "<script type=\"application/javascript\">(function(root) {\n",
       "  function embed_document(root) {\n",
       "    var docs_json = {\"d21a139d-1ba1-48cb-a780-7cd5099db2c7\":{\"defs\":[{\"extends\":null,\"module\":null,\"name\":\"ReactiveHTML1\",\"overrides\":[],\"properties\":[]},{\"extends\":null,\"module\":null,\"name\":\"FlexBox1\",\"overrides\":[],\"properties\":[{\"default\":\"flex-start\",\"kind\":null,\"name\":\"align_content\"},{\"default\":\"flex-start\",\"kind\":null,\"name\":\"align_items\"},{\"default\":\"row\",\"kind\":null,\"name\":\"flex_direction\"},{\"default\":\"wrap\",\"kind\":null,\"name\":\"flex_wrap\"},{\"default\":\"flex-start\",\"kind\":null,\"name\":\"justify_content\"}]},{\"extends\":null,\"module\":null,\"name\":\"TemplateActions1\",\"overrides\":[],\"properties\":[{\"default\":0,\"kind\":null,\"name\":\"open_modal\"},{\"default\":0,\"kind\":null,\"name\":\"close_modal\"}]},{\"extends\":null,\"module\":null,\"name\":\"MaterialTemplateActions1\",\"overrides\":[],\"properties\":[{\"default\":0,\"kind\":null,\"name\":\"open_modal\"},{\"default\":0,\"kind\":null,\"name\":\"close_modal\"}]}],\"roots\":{\"references\":[{\"attributes\":{},\"id\":\"1261\",\"type\":\"ResetTool\"},{\"attributes\":{\"factors\":[\"AK\",\"AL\",\"AR\",\"AZ\",\"CA\",\"CO\",\"CT\",\"DC\",\"DE\",\"FL\",\"GA\",\"HI\",\"IA\",\"ID\",\"IL\",\"IN\",\"KS\",\"KY\",\"LA\",\"MA\",\"MD\",\"ME\",\"MI\",\"MN\",\"MO\",\"MS\",\"MT\",\"NC\",\"ND\",\"NE\",\"NH\",\"NJ\",\"NM\",\"NV\",\"NY\",\"OH\",\"OK\",\"OR\",\"PA\",\"RI\",\"SC\",\"SD\",\"TN\",\"TX\",\"UT\",\"VA\",\"VT\",\"WA\",\"WI\",\"WV\",\"WY\"],\"tags\":[[[\"Provider State\",\"Provider State\",null]]]},\"id\":\"1238\",\"type\":\"FactorRange\"},{\"attributes\":{\"axis_label\":\"Provider State\",\"formatter\":{\"id\":\"1280\"},\"major_label_orientation\":1.5707963267948966,\"major_label_policy\":{\"id\":\"1282\"},\"ticker\":{\"id\":\"1251\"}},\"id\":\"1250\",\"type\":\"CategoricalAxis\"},{\"attributes\":{\"data\":{\"Average_Total_Payments\":{\"__ndarray__\":\"61G4HoVSvkD0MjQvw4iyQIVpLeaF+rJAxsGCks7It0Ar3SQGw1O9QMuhRbaz6bVAppvEINDGuUAYS36xhLq9QDVeuknMJrdAcF8HztmXtEAwIilxvKm0QOxRuB5FKLtAF0p9sCNrs0DD9Shcz1C1QFimwal+0bdAZ9wsNGkUtEAen762OM6zQB5BeOqNXbRASI5oGj1vtEDTXhUwTNu4QFVVVVV1Mb1ACfjm1QSRtUAbDyOSEt+2QCcnJycnzrdA2OA5AmVZtEC1OiZ4EBS0QEjhehQe87NACtejcLR5tUB7FK5HUZq1QGdmZmaGQbRAoF1AbGpvtUBmpS2TkCa5QG7kRm4kbbdALCjp+LRat0AHIJo7ExW9QEjWpmStYrRAmpmZmVk1tECjkYBvngq4QCFq+qEey7VAxVd8xZfRuUBRxGPBATy1QJNfLPmFibZAQacNdGZjs0DqyCXEwci1QG2g0wYa57dApw102iCqtECQwvUoXGq6QIwb6kWS57dAxZJfLNGptkAzMzMzI52zQGZmZmZmlbpA\",\"dtype\":\"float64\",\"order\":\"little\",\"shape\":[51]},\"Provider_State\":[\"AK\",\"AL\",\"AR\",\"AZ\",\"CA\",\"CO\",\"CT\",\"DC\",\"DE\",\"FL\",\"GA\",\"HI\",\"IA\",\"ID\",\"IL\",\"IN\",\"KS\",\"KY\",\"LA\",\"MA\",\"MD\",\"ME\",\"MI\",\"MN\",\"MO\",\"MS\",\"MT\",\"NC\",\"ND\",\"NE\",\"NH\",\"NJ\",\"NM\",\"NV\",\"NY\",\"OH\",\"OK\",\"OR\",\"PA\",\"RI\",\"SC\",\"SD\",\"TN\",\"TX\",\"UT\",\"VA\",\"VT\",\"WA\",\"WI\",\"WV\",\"WY\"]},\"selected\":{\"id\":\"1271\"},\"selection_policy\":{\"id\":\"1296\"}},\"id\":\"1270\",\"type\":\"ColumnDataSource\"},{\"attributes\":{\"axis\":{\"id\":\"1253\"},\"dimension\":1,\"grid_line_color\":null,\"ticker\":null},\"id\":\"1256\",\"type\":\"Grid\"},{\"attributes\":{\"children\":[{\"id\":\"1237\"},{\"id\":\"1241\"},{\"id\":\"1306\"}],\"margin\":[0,0,0,0],\"name\":\"Row02056\",\"tags\":[\"embedded\"]},\"id\":\"1236\",\"type\":\"Row\"},{\"attributes\":{\"end\":8064.29575609756,\"reset_end\":8064.29575609756,\"reset_start\":0.0,\"tags\":[[[\"Average Total Payments\",\"Average Total Payments\",null]]]},\"id\":\"1239\",\"type\":\"Range1d\"},{\"attributes\":{},\"id\":\"1251\",\"type\":\"CategoricalTicker\"},{\"attributes\":{},\"id\":\"1282\",\"type\":\"AllLabels\"},{\"attributes\":{\"axis\":{\"id\":\"1250\"},\"grid_line_color\":null,\"ticker\":null},\"id\":\"1252\",\"type\":\"Grid\"},{\"attributes\":{\"callback\":null,\"renderers\":[{\"id\":\"1276\"}],\"tags\":[\"hv_created\"],\"tooltips\":[[\"Provider State\",\"@{Provider_State}\"],[\"Average Total Payments\",\"@{Average_Total_Payments}\"]]},\"id\":\"1240\",\"type\":\"HoverTool\"},{\"attributes\":{},\"id\":\"1254\",\"type\":\"BasicTicker\"},{\"attributes\":{\"margin\":[5,5,5,5],\"name\":\"HSpacer02060\",\"sizing_mode\":\"stretch_width\"},\"id\":\"1237\",\"type\":\"Spacer\"},{\"attributes\":{\"axis_label\":\"Average Total Payments\",\"formatter\":{\"id\":\"1279\"},\"major_label_policy\":{\"id\":\"1285\"},\"ticker\":{\"id\":\"1254\"}},\"id\":\"1253\",\"type\":\"LinearAxis\"},{\"attributes\":{},\"id\":\"1285\",\"type\":\"AllLabels\"},{\"attributes\":{\"bottom\":{\"value\":0},\"fill_alpha\":{\"value\":1.0},\"fill_color\":{\"value\":\"#30a2da\"},\"hatch_alpha\":{\"value\":1.0},\"hatch_color\":{\"value\":\"black\"},\"hatch_scale\":{\"value\":12.0},\"hatch_weight\":{\"value\":1.0},\"line_alpha\":{\"value\":1.0},\"line_cap\":{\"value\":\"butt\"},\"line_color\":{\"value\":\"black\"},\"line_dash\":{\"value\":[]},\"line_dash_offset\":{\"value\":0},\"line_join\":{\"value\":\"bevel\"},\"line_width\":{\"value\":1},\"top\":{\"field\":\"Average_Total_Payments\"},\"width\":{\"value\":0.8},\"x\":{\"field\":\"Provider_State\"}},\"id\":\"1278\",\"type\":\"VBar\"},{\"attributes\":{\"bottom_units\":\"screen\",\"fill_alpha\":0.5,\"fill_color\":\"lightgrey\",\"left_units\":\"screen\",\"level\":\"overlay\",\"line_alpha\":1.0,\"line_color\":\"black\",\"line_dash\":[4,4],\"line_width\":2,\"right_units\":\"screen\",\"syncable\":false,\"top_units\":\"screen\"},\"id\":\"1262\",\"type\":\"BoxAnnotation\"},{\"attributes\":{},\"id\":\"1296\",\"type\":\"UnionRenderers\"},{\"attributes\":{\"fill_color\":{\"value\":\"#30a2da\"},\"top\":{\"field\":\"Average_Total_Payments\"},\"width\":{\"value\":0.8},\"x\":{\"field\":\"Provider_State\"}},\"id\":\"1273\",\"type\":\"VBar\"},{\"attributes\":{\"fill_alpha\":{\"value\":0.2},\"fill_color\":{\"value\":\"#30a2da\"},\"line_alpha\":{\"value\":0.2},\"top\":{\"field\":\"Average_Total_Payments\"},\"width\":{\"value\":0.8},\"x\":{\"field\":\"Provider_State\"}},\"id\":\"1275\",\"type\":\"VBar\"},{\"attributes\":{\"data_source\":{\"id\":\"1270\"},\"glyph\":{\"id\":\"1273\"},\"hover_glyph\":null,\"muted_glyph\":{\"id\":\"1275\"},\"nonselection_glyph\":{\"id\":\"1274\"},\"selection_glyph\":{\"id\":\"1278\"},\"view\":{\"id\":\"1277\"}},\"id\":\"1276\",\"type\":\"GlyphRenderer\"},{\"attributes\":{\"below\":[{\"id\":\"1250\"}],\"center\":[{\"id\":\"1252\"},{\"id\":\"1256\"}],\"height\":300,\"left\":[{\"id\":\"1253\"}],\"margin\":[5,5,5,5],\"min_border_bottom\":10,\"min_border_left\":10,\"min_border_right\":10,\"min_border_top\":10,\"renderers\":[{\"id\":\"1276\"}],\"sizing_mode\":\"fixed\",\"title\":{\"id\":\"1242\"},\"toolbar\":{\"id\":\"1263\"},\"width\":700,\"x_range\":{\"id\":\"1238\"},\"x_scale\":{\"id\":\"1246\"},\"y_range\":{\"id\":\"1239\"},\"y_scale\":{\"id\":\"1248\"}},\"id\":\"1241\",\"subtype\":\"Figure\",\"type\":\"Plot\"},{\"attributes\":{\"active_multi\":null,\"tools\":[{\"id\":\"1240\"},{\"id\":\"1257\"},{\"id\":\"1258\"},{\"id\":\"1259\"},{\"id\":\"1260\"},{\"id\":\"1261\"}]},\"id\":\"1263\",\"type\":\"Toolbar\"},{\"attributes\":{\"fill_alpha\":{\"value\":0.1},\"fill_color\":{\"value\":\"#30a2da\"},\"line_alpha\":{\"value\":0.1},\"top\":{\"field\":\"Average_Total_Payments\"},\"width\":{\"value\":0.8},\"x\":{\"field\":\"Provider_State\"}},\"id\":\"1274\",\"type\":\"VBar\"},{\"attributes\":{},\"id\":\"1257\",\"type\":\"SaveTool\"},{\"attributes\":{},\"id\":\"1258\",\"type\":\"PanTool\"},{\"attributes\":{},\"id\":\"1271\",\"type\":\"Selection\"},{\"attributes\":{},\"id\":\"1259\",\"type\":\"WheelZoomTool\"},{\"attributes\":{\"format\":\"%.0f\"},\"id\":\"1279\",\"type\":\"PrintfTickFormatter\"},{\"attributes\":{\"source\":{\"id\":\"1270\"}},\"id\":\"1277\",\"type\":\"CDSView\"},{\"attributes\":{\"margin\":[5,5,5,5],\"name\":\"HSpacer02061\",\"sizing_mode\":\"stretch_width\"},\"id\":\"1306\",\"type\":\"Spacer\"},{\"attributes\":{\"text\":\"Average Diabetes Medicare Payments Per State\",\"text_color\":\"black\",\"text_font_size\":\"12pt\"},\"id\":\"1242\",\"type\":\"Title\"},{\"attributes\":{\"overlay\":{\"id\":\"1262\"}},\"id\":\"1260\",\"type\":\"BoxZoomTool\"},{\"attributes\":{},\"id\":\"1248\",\"type\":\"LinearScale\"},{\"attributes\":{},\"id\":\"1246\",\"type\":\"CategoricalScale\"},{\"attributes\":{},\"id\":\"1280\",\"type\":\"CategoricalTickFormatter\"}],\"root_ids\":[\"1236\"]},\"title\":\"Bokeh Application\",\"version\":\"2.3.2\"}};\n",
       "    var render_items = [{\"docid\":\"d21a139d-1ba1-48cb-a780-7cd5099db2c7\",\"root_ids\":[\"1236\"],\"roots\":{\"1236\":\"285f01db-ed5c-4632-a51d-5502da8c932c\"}}];\n",
       "    root.Bokeh.embed.embed_items_notebook(docs_json, render_items);\n",
       "  }\n",
       "  if (root.Bokeh !== undefined && root.Bokeh.Panel !== undefined) {\n",
       "    embed_document(root);\n",
       "  } else {\n",
       "    var attempts = 0;\n",
       "    var timer = setInterval(function(root) {\n",
       "      if (root.Bokeh !== undefined && root.Bokeh.Panel !== undefined) {\n",
       "        clearInterval(timer);\n",
       "        embed_document(root);\n",
       "      } else if (document.readyState == \"complete\") {\n",
       "        attempts++;\n",
       "        if (attempts > 200) {\n",
       "          clearInterval(timer);\n",
       "          console.log(\"Bokeh: ERROR: Unable to run BokehJS code because BokehJS library is missing\");\n",
       "        }\n",
       "      }\n",
       "    }, 25, root)\n",
       "  }\n",
       "})(window);</script>"
      ],
      "text/plain": [
       ":Bars   [Provider State]   (Average Total Payments)"
      ]
     },
     "execution_count": 10,
     "metadata": {
      "application/vnd.holoviews_exec.v0+json": {
       "id": "1236"
      }
     },
     "output_type": "execute_result"
    }
   ],
   "source": [
    "# Create a bar chart of the `average_medicare_payments_by_state` DataFrame\n",
    "average_total_payments_by_state.hvplot.bar(\n",
    "    rot=90, \n",
    "    title = \"Average Diabetes Medicare Payments Per State\"\n",
    ").opts(yformatter='%.0f')"
   ]
  },
  {
   "cell_type": "code",
   "execution_count": 11,
   "metadata": {},
   "outputs": [
    {
     "data": {},
     "metadata": {},
     "output_type": "display_data"
    },
    {
     "data": {
      "application/vnd.holoviews_exec.v0+json": "",
      "text/html": [
       "<div id='1353'>\n",
       "\n",
       "\n",
       "\n",
       "\n",
       "\n",
       "  <div class=\"bk-root\" id=\"4a6c6e14-dfbf-4c62-a122-1aba0da44b39\" data-root-id=\"1353\"></div>\n",
       "</div>\n",
       "<script type=\"application/javascript\">(function(root) {\n",
       "  function embed_document(root) {\n",
       "    var docs_json = {\"396913ee-1022-4465-8785-cd3f0ad39b7b\":{\"defs\":[{\"extends\":null,\"module\":null,\"name\":\"ReactiveHTML1\",\"overrides\":[],\"properties\":[]},{\"extends\":null,\"module\":null,\"name\":\"FlexBox1\",\"overrides\":[],\"properties\":[{\"default\":\"flex-start\",\"kind\":null,\"name\":\"align_content\"},{\"default\":\"flex-start\",\"kind\":null,\"name\":\"align_items\"},{\"default\":\"row\",\"kind\":null,\"name\":\"flex_direction\"},{\"default\":\"wrap\",\"kind\":null,\"name\":\"flex_wrap\"},{\"default\":\"flex-start\",\"kind\":null,\"name\":\"justify_content\"}]},{\"extends\":null,\"module\":null,\"name\":\"TemplateActions1\",\"overrides\":[],\"properties\":[{\"default\":0,\"kind\":null,\"name\":\"open_modal\"},{\"default\":0,\"kind\":null,\"name\":\"close_modal\"}]},{\"extends\":null,\"module\":null,\"name\":\"MaterialTemplateActions1\",\"overrides\":[],\"properties\":[{\"default\":0,\"kind\":null,\"name\":\"open_modal\"},{\"default\":0,\"kind\":null,\"name\":\"close_modal\"}]}],\"roots\":{\"references\":[{\"attributes\":{\"axis_label\":\"Average Medicare Payments\",\"formatter\":{\"id\":\"1396\"},\"major_label_policy\":{\"id\":\"1402\"},\"ticker\":{\"id\":\"1371\"}},\"id\":\"1370\",\"type\":\"LinearAxis\"},{\"attributes\":{\"axis_label\":\"Provider State\",\"formatter\":{\"id\":\"1397\"},\"major_label_orientation\":1.5707963267948966,\"major_label_policy\":{\"id\":\"1399\"},\"ticker\":{\"id\":\"1368\"}},\"id\":\"1367\",\"type\":\"CategoricalAxis\"},{\"attributes\":{\"below\":[{\"id\":\"1367\"}],\"center\":[{\"id\":\"1369\"},{\"id\":\"1373\"}],\"height\":300,\"left\":[{\"id\":\"1370\"}],\"margin\":[5,5,5,5],\"min_border_bottom\":10,\"min_border_left\":10,\"min_border_right\":10,\"min_border_top\":10,\"renderers\":[{\"id\":\"1393\"}],\"sizing_mode\":\"fixed\",\"title\":{\"id\":\"1359\"},\"toolbar\":{\"id\":\"1380\"},\"width\":700,\"x_range\":{\"id\":\"1355\"},\"x_scale\":{\"id\":\"1363\"},\"y_range\":{\"id\":\"1356\"},\"y_scale\":{\"id\":\"1365\"}},\"id\":\"1358\",\"subtype\":\"Figure\",\"type\":\"Plot\"},{\"attributes\":{\"fill_alpha\":{\"value\":0.2},\"fill_color\":{\"value\":\"orange\"},\"line_alpha\":{\"value\":0.2},\"top\":{\"field\":\"Average_Medicare_Payments\"},\"width\":{\"value\":0.8},\"x\":{\"field\":\"Provider_State\"}},\"id\":\"1392\",\"type\":\"VBar\"},{\"attributes\":{\"source\":{\"id\":\"1387\"}},\"id\":\"1394\",\"type\":\"CDSView\"},{\"attributes\":{\"bottom_units\":\"screen\",\"fill_alpha\":0.5,\"fill_color\":\"lightgrey\",\"left_units\":\"screen\",\"level\":\"overlay\",\"line_alpha\":1.0,\"line_color\":\"black\",\"line_dash\":[4,4],\"line_width\":2,\"right_units\":\"screen\",\"syncable\":false,\"top_units\":\"screen\"},\"id\":\"1379\",\"type\":\"BoxAnnotation\"},{\"attributes\":{\"fill_color\":{\"value\":\"orange\"},\"top\":{\"field\":\"Average_Medicare_Payments\"},\"width\":{\"value\":0.8},\"x\":{\"field\":\"Provider_State\"}},\"id\":\"1390\",\"type\":\"VBar\"},{\"attributes\":{\"callback\":null,\"renderers\":[{\"id\":\"1393\"}],\"tags\":[\"hv_created\"],\"tooltips\":[[\"Provider State\",\"@{Provider_State}\"],[\"Average Medicare Payments\",\"@{Average_Medicare_Payments}\"]]},\"id\":\"1357\",\"type\":\"HoverTool\"},{\"attributes\":{\"data_source\":{\"id\":\"1387\"},\"glyph\":{\"id\":\"1390\"},\"hover_glyph\":null,\"muted_glyph\":{\"id\":\"1392\"},\"nonselection_glyph\":{\"id\":\"1391\"},\"selection_glyph\":{\"id\":\"1395\"},\"view\":{\"id\":\"1394\"}},\"id\":\"1393\",\"type\":\"GlyphRenderer\"},{\"attributes\":{},\"id\":\"1388\",\"type\":\"Selection\"},{\"attributes\":{},\"id\":\"1374\",\"type\":\"SaveTool\"},{\"attributes\":{},\"id\":\"1413\",\"type\":\"UnionRenderers\"},{\"attributes\":{},\"id\":\"1375\",\"type\":\"PanTool\"},{\"attributes\":{},\"id\":\"1399\",\"type\":\"AllLabels\"},{\"attributes\":{},\"id\":\"1376\",\"type\":\"WheelZoomTool\"},{\"attributes\":{\"bottom\":{\"value\":0},\"fill_alpha\":{\"value\":1.0},\"fill_color\":{\"value\":\"orange\"},\"hatch_alpha\":{\"value\":1.0},\"hatch_color\":{\"value\":\"black\"},\"hatch_scale\":{\"value\":12.0},\"hatch_weight\":{\"value\":1.0},\"line_alpha\":{\"value\":1.0},\"line_cap\":{\"value\":\"butt\"},\"line_color\":{\"value\":\"black\"},\"line_dash\":{\"value\":[]},\"line_dash_offset\":{\"value\":0},\"line_join\":{\"value\":\"bevel\"},\"line_width\":{\"value\":1},\"top\":{\"field\":\"Average_Medicare_Payments\"},\"width\":{\"value\":0.8},\"x\":{\"field\":\"Provider_State\"}},\"id\":\"1395\",\"type\":\"VBar\"},{\"attributes\":{\"active_multi\":null,\"tools\":[{\"id\":\"1357\"},{\"id\":\"1374\"},{\"id\":\"1375\"},{\"id\":\"1376\"},{\"id\":\"1377\"},{\"id\":\"1378\"}]},\"id\":\"1380\",\"type\":\"Toolbar\"},{\"attributes\":{},\"id\":\"1397\",\"type\":\"CategoricalTickFormatter\"},{\"attributes\":{\"overlay\":{\"id\":\"1379\"}},\"id\":\"1377\",\"type\":\"BoxZoomTool\"},{\"attributes\":{},\"id\":\"1402\",\"type\":\"AllLabels\"},{\"attributes\":{},\"id\":\"1363\",\"type\":\"CategoricalScale\"},{\"attributes\":{\"format\":\"%.0f\"},\"id\":\"1396\",\"type\":\"PrintfTickFormatter\"},{\"attributes\":{},\"id\":\"1365\",\"type\":\"LinearScale\"},{\"attributes\":{\"fill_alpha\":{\"value\":0.1},\"fill_color\":{\"value\":\"orange\"},\"line_alpha\":{\"value\":0.1},\"top\":{\"field\":\"Average_Medicare_Payments\"},\"width\":{\"value\":0.8},\"x\":{\"field\":\"Provider_State\"}},\"id\":\"1391\",\"type\":\"VBar\"},{\"attributes\":{\"factors\":[\"AL\",\"KS\",\"AR\",\"TN\",\"MT\",\"VA\",\"IA\",\"MO\",\"IN\",\"WV\",\"MS\",\"NE\",\"UT\",\"LA\",\"KY\",\"ND\",\"ME\",\"FL\",\"SC\",\"OK\",\"GA\",\"ID\",\"OH\",\"WI\",\"NC\",\"TX\",\"CO\",\"NH\",\"PA\",\"DE\",\"OR\",\"NV\",\"MI\",\"IL\",\"AZ\",\"NM\",\"WA\",\"MN\",\"WY\",\"SD\",\"MA\",\"NJ\",\"RI\",\"VT\",\"CT\",\"HI\",\"MD\",\"NY\",\"CA\",\"DC\",\"AK\"],\"tags\":[[[\"Provider State\",\"Provider State\",null]]]},\"id\":\"1355\",\"type\":\"FactorRange\"},{\"attributes\":{},\"id\":\"1378\",\"type\":\"ResetTool\"},{\"attributes\":{\"axis\":{\"id\":\"1370\"},\"dimension\":1,\"grid_line_color\":null,\"ticker\":null},\"id\":\"1373\",\"type\":\"Grid\"},{\"attributes\":{\"data\":{\"Average_Medicare_Payments\":{\"__ndarray__\":\"3obkbUg8rUBkmgwwZ4WuQA5loy8rl65ALPnFkrcSr0BnZmZmphqwQLPkF0sWKrBAhyC6U20+sEBzRZwfJ0uwQN6i+nacT7BAo3A9Cj9SsEAL16Nw/VWwQPnFkl9MXLBAf7HkFwtmsEDr/qUkNHewQHVN13SNd7BApHA9Ckd6sEBDZYepC6+wQGxlwi/1r7BAFqICpeTDsEBYHpCs89WwQFlU3hVW47BAqvHSTWLxsECF61G4nvywQO/u7u7epLFADNejcJG0sUAUL4fBCraxQO7u7u6uv7FAswuITeXksUCBBkNoKCWyQGq8dJPYnLJAq6qqqirMskDyXAJZA/qyQP2aQQJRHrNAgSg2qsQjs0C0bP4Zc0azQNpvynOJU7NAL55ApfzPs0BrbGxsLNKzQClcj8K127NA+cWSX2wRtEBts1O8JxK1QLnb2nHQN7VA/05Wy1uEtUC4HoXr0T22QDMzMzMTV7ZA7FG4HgUJt0CX/GLJj4i5QDLHDGZ6j7lAYxBYOUDeuUAb6LSBzo26QFK4HoXrxLpA\",\"dtype\":\"float64\",\"order\":\"little\",\"shape\":[51]},\"Provider_State\":[\"AL\",\"KS\",\"AR\",\"TN\",\"MT\",\"VA\",\"IA\",\"MO\",\"IN\",\"WV\",\"MS\",\"NE\",\"UT\",\"LA\",\"KY\",\"ND\",\"ME\",\"FL\",\"SC\",\"OK\",\"GA\",\"ID\",\"OH\",\"WI\",\"NC\",\"TX\",\"CO\",\"NH\",\"PA\",\"DE\",\"OR\",\"NV\",\"MI\",\"IL\",\"AZ\",\"NM\",\"WA\",\"MN\",\"WY\",\"SD\",\"MA\",\"NJ\",\"RI\",\"VT\",\"CT\",\"HI\",\"MD\",\"NY\",\"CA\",\"DC\",\"AK\"]},\"selected\":{\"id\":\"1388\"},\"selection_policy\":{\"id\":\"1413\"}},\"id\":\"1387\",\"type\":\"ColumnDataSource\"},{\"attributes\":{\"margin\":[5,5,5,5],\"name\":\"HSpacer02254\",\"sizing_mode\":\"stretch_width\"},\"id\":\"1423\",\"type\":\"Spacer\"},{\"attributes\":{\"end\":7163.997853658537,\"reset_end\":7163.997853658537,\"reset_start\":0.0,\"tags\":[[[\"Average Medicare Payments\",\"Average Medicare Payments\",null]]]},\"id\":\"1356\",\"type\":\"Range1d\"},{\"attributes\":{\"text\":\"Average Medicare Payments by State - Sorted\",\"text_color\":\"black\",\"text_font_size\":\"12pt\"},\"id\":\"1359\",\"type\":\"Title\"},{\"attributes\":{},\"id\":\"1368\",\"type\":\"CategoricalTicker\"},{\"attributes\":{\"children\":[{\"id\":\"1354\"},{\"id\":\"1358\"},{\"id\":\"1423\"}],\"margin\":[0,0,0,0],\"name\":\"Row02249\",\"tags\":[\"embedded\"]},\"id\":\"1353\",\"type\":\"Row\"},{\"attributes\":{\"axis\":{\"id\":\"1367\"},\"grid_line_color\":null,\"ticker\":null},\"id\":\"1369\",\"type\":\"Grid\"},{\"attributes\":{\"margin\":[5,5,5,5],\"name\":\"HSpacer02253\",\"sizing_mode\":\"stretch_width\"},\"id\":\"1354\",\"type\":\"Spacer\"},{\"attributes\":{},\"id\":\"1371\",\"type\":\"BasicTicker\"}],\"root_ids\":[\"1353\"]},\"title\":\"Bokeh Application\",\"version\":\"2.3.2\"}};\n",
       "    var render_items = [{\"docid\":\"396913ee-1022-4465-8785-cd3f0ad39b7b\",\"root_ids\":[\"1353\"],\"roots\":{\"1353\":\"4a6c6e14-dfbf-4c62-a122-1aba0da44b39\"}}];\n",
       "    root.Bokeh.embed.embed_items_notebook(docs_json, render_items);\n",
       "  }\n",
       "  if (root.Bokeh !== undefined && root.Bokeh.Panel !== undefined) {\n",
       "    embed_document(root);\n",
       "  } else {\n",
       "    var attempts = 0;\n",
       "    var timer = setInterval(function(root) {\n",
       "      if (root.Bokeh !== undefined && root.Bokeh.Panel !== undefined) {\n",
       "        clearInterval(timer);\n",
       "        embed_document(root);\n",
       "      } else if (document.readyState == \"complete\") {\n",
       "        attempts++;\n",
       "        if (attempts > 200) {\n",
       "          clearInterval(timer);\n",
       "          console.log(\"Bokeh: ERROR: Unable to run BokehJS code because BokehJS library is missing\");\n",
       "        }\n",
       "      }\n",
       "    }, 25, root)\n",
       "  }\n",
       "})(window);</script>"
      ],
      "text/plain": [
       ":Bars   [Provider State]   (Average Medicare Payments)"
      ]
     },
     "execution_count": 11,
     "metadata": {
      "application/vnd.holoviews_exec.v0+json": {
       "id": "1353"
      }
     },
     "output_type": "execute_result"
    }
   ],
   "source": [
    "# Sort the average_medicare_payments_by_state DataFrame by \"Average Medicare Payments\"\n",
    "average_medicare_payments_by_state_sorted = average_medicare_payments_by_state.sort_values(\"Average Medicare Payments\")\n",
    "\n",
    "# Create a bar chart to visualize the `average_medicare_payment_by_state_sorted` DataFrame\n",
    "plot_average_medicare_payments_by_state_sorted = average_medicare_payments_by_state_sorted.hvplot.bar(\n",
    "    title=\"Average Medicare Payments by State - Sorted\", \n",
    "    color=\"orange\", \n",
    "    rot=90\n",
    ").opts(yformatter='%.0f')\n",
    "\n",
    "# Visualize the bar chart\n",
    "plot_average_medicare_payments_by_state_sorted"
   ]
  },
  {
   "cell_type": "markdown",
   "metadata": {},
   "source": [
    "## Step 8: Create a side-by-side composite plot that includes `plot_average_total_payments_by_state_sorted` and `plot_average_medicare_payments_by_state_sorted`."
   ]
  },
  {
   "cell_type": "code",
   "execution_count": 12,
   "metadata": {},
   "outputs": [
    {
     "data": {},
     "metadata": {},
     "output_type": "display_data"
    },
    {
     "data": {
      "application/vnd.holoviews_exec.v0+json": "",
      "text/html": [
       "<div id='1470'>\n",
       "\n",
       "\n",
       "\n",
       "\n",
       "\n",
       "  <div class=\"bk-root\" id=\"0ebf1e1b-90fe-4e00-8be0-fe4ddb9aab79\" data-root-id=\"1470\"></div>\n",
       "</div>\n",
       "<script type=\"application/javascript\">(function(root) {\n",
       "  function embed_document(root) {\n",
       "    var docs_json = {\"a2d498e5-86d2-4bdd-a0bd-39f1250bfdc4\":{\"defs\":[{\"extends\":null,\"module\":null,\"name\":\"ReactiveHTML1\",\"overrides\":[],\"properties\":[]},{\"extends\":null,\"module\":null,\"name\":\"FlexBox1\",\"overrides\":[],\"properties\":[{\"default\":\"flex-start\",\"kind\":null,\"name\":\"align_content\"},{\"default\":\"flex-start\",\"kind\":null,\"name\":\"align_items\"},{\"default\":\"row\",\"kind\":null,\"name\":\"flex_direction\"},{\"default\":\"wrap\",\"kind\":null,\"name\":\"flex_wrap\"},{\"default\":\"flex-start\",\"kind\":null,\"name\":\"justify_content\"}]},{\"extends\":null,\"module\":null,\"name\":\"TemplateActions1\",\"overrides\":[],\"properties\":[{\"default\":0,\"kind\":null,\"name\":\"open_modal\"},{\"default\":0,\"kind\":null,\"name\":\"close_modal\"}]},{\"extends\":null,\"module\":null,\"name\":\"MaterialTemplateActions1\",\"overrides\":[],\"properties\":[{\"default\":0,\"kind\":null,\"name\":\"open_modal\"},{\"default\":0,\"kind\":null,\"name\":\"close_modal\"}]}],\"roots\":{\"references\":[{\"attributes\":{\"children\":[{\"id\":\"1471\"},{\"id\":\"1595\"},{\"id\":\"1758\"}],\"margin\":[0,0,0,0],\"name\":\"Row02328\",\"tags\":[\"embedded\"]},\"id\":\"1470\",\"type\":\"Row\"},{\"attributes\":{},\"id\":\"1541\",\"type\":\"SaveTool\"},{\"attributes\":{\"end\":8064.29575609756,\"reset_end\":8064.29575609756,\"reset_start\":0.0,\"tags\":[[[\"Average Total Payments\",\"Average Total Payments\",null]]]},\"id\":\"1473\",\"type\":\"Range1d\"},{\"attributes\":{\"callback\":null,\"renderers\":[{\"id\":\"1510\"}],\"tags\":[\"hv_created\"],\"tooltips\":[[\"Provider State\",\"@{Provider_State}\"],[\"Average Total Payments\",\"@{Average_Total_Payments}\"]]},\"id\":\"1474\",\"type\":\"HoverTool\"},{\"attributes\":{\"factors\":[\"AL\",\"AR\",\"TN\",\"IA\",\"WV\",\"KS\",\"MT\",\"MS\",\"IN\",\"OK\",\"NE\",\"MO\",\"KY\",\"OH\",\"LA\",\"FL\",\"GA\",\"VA\",\"SC\",\"ID\",\"NH\",\"NC\",\"ME\",\"ND\",\"TX\",\"PA\",\"CO\",\"SD\",\"WI\",\"MI\",\"DE\",\"NV\",\"NM\",\"AZ\",\"MN\",\"IL\",\"UT\",\"WA\",\"OR\",\"MA\",\"NJ\",\"CT\",\"RI\",\"VT\",\"WY\",\"HI\",\"NY\",\"MD\",\"CA\",\"DC\",\"AK\"],\"tags\":[[[\"Provider State\",\"Provider State\",null]]]},\"id\":\"1472\",\"type\":\"FactorRange\"},{\"attributes\":{\"data_source\":{\"id\":\"1554\"},\"glyph\":{\"id\":\"1557\"},\"hover_glyph\":null,\"muted_glyph\":{\"id\":\"1559\"},\"nonselection_glyph\":{\"id\":\"1558\"},\"selection_glyph\":{\"id\":\"1562\"},\"view\":{\"id\":\"1561\"}},\"id\":\"1560\",\"type\":\"GlyphRenderer\"},{\"attributes\":{},\"id\":\"1505\",\"type\":\"Selection\"},{\"attributes\":{\"bottom_units\":\"screen\",\"fill_alpha\":0.5,\"fill_color\":\"lightgrey\",\"left_units\":\"screen\",\"level\":\"overlay\",\"line_alpha\":1.0,\"line_color\":\"black\",\"line_dash\":[4,4],\"line_width\":2,\"right_units\":\"screen\",\"syncable\":false,\"top_units\":\"screen\"},\"id\":\"1496\",\"type\":\"BoxAnnotation\"},{\"attributes\":{},\"id\":\"1482\",\"type\":\"LinearScale\"},{\"attributes\":{\"bottom_units\":\"screen\",\"fill_alpha\":0.5,\"fill_color\":\"lightgrey\",\"left_units\":\"screen\",\"level\":\"overlay\",\"line_alpha\":1.0,\"line_color\":\"black\",\"line_dash\":[4,4],\"line_width\":2,\"right_units\":\"screen\",\"syncable\":false,\"top_units\":\"screen\"},\"id\":\"1546\",\"type\":\"BoxAnnotation\"},{\"attributes\":{\"children\":[[{\"id\":\"1475\"},0,0],[{\"id\":\"1525\"},0,1]]},\"id\":\"1592\",\"type\":\"GridBox\"},{\"attributes\":{\"margin\":[5,5,5,5],\"name\":\"HSpacer02332\",\"sizing_mode\":\"stretch_width\"},\"id\":\"1471\",\"type\":\"Spacer\"},{\"attributes\":{\"source\":{\"id\":\"1554\"}},\"id\":\"1561\",\"type\":\"CDSView\"},{\"attributes\":{},\"id\":\"1480\",\"type\":\"CategoricalScale\"},{\"attributes\":{},\"id\":\"1516\",\"type\":\"AllLabels\"},{\"attributes\":{\"bottom\":{\"value\":0},\"fill_alpha\":{\"value\":1.0},\"fill_color\":{\"value\":\"blue\"},\"hatch_alpha\":{\"value\":1.0},\"hatch_color\":{\"value\":\"black\"},\"hatch_scale\":{\"value\":12.0},\"hatch_weight\":{\"value\":1.0},\"line_alpha\":{\"value\":1.0},\"line_cap\":{\"value\":\"butt\"},\"line_color\":{\"value\":\"black\"},\"line_dash\":{\"value\":[]},\"line_dash_offset\":{\"value\":0},\"line_join\":{\"value\":\"bevel\"},\"line_width\":{\"value\":1},\"top\":{\"field\":\"Average_Total_Payments\"},\"width\":{\"value\":0.8},\"x\":{\"field\":\"Provider_State\"}},\"id\":\"1512\",\"type\":\"VBar\"},{\"attributes\":{},\"id\":\"1514\",\"type\":\"CategoricalTickFormatter\"},{\"attributes\":{\"source\":{\"id\":\"1504\"}},\"id\":\"1511\",\"type\":\"CDSView\"},{\"attributes\":{},\"id\":\"1519\",\"type\":\"AllLabels\"},{\"attributes\":{\"below\":[{\"id\":\"1484\"}],\"center\":[{\"id\":\"1486\"},{\"id\":\"1490\"}],\"height\":300,\"left\":[{\"id\":\"1487\"}],\"margin\":null,\"min_border_bottom\":10,\"min_border_left\":10,\"min_border_right\":10,\"min_border_top\":10,\"renderers\":[{\"id\":\"1510\"}],\"sizing_mode\":\"fixed\",\"title\":{\"id\":\"1476\"},\"toolbar\":{\"id\":\"1497\"},\"toolbar_location\":null,\"width\":700,\"x_range\":{\"id\":\"1472\"},\"x_scale\":{\"id\":\"1480\"},\"y_range\":{\"id\":\"1473\"},\"y_scale\":{\"id\":\"1482\"}},\"id\":\"1475\",\"subtype\":\"Figure\",\"type\":\"Plot\"},{\"attributes\":{\"format\":\"%.0f\"},\"id\":\"1513\",\"type\":\"PrintfTickFormatter\"},{\"attributes\":{\"bottom\":{\"value\":0},\"fill_alpha\":{\"value\":1.0},\"fill_color\":{\"value\":\"orange\"},\"hatch_alpha\":{\"value\":1.0},\"hatch_color\":{\"value\":\"black\"},\"hatch_scale\":{\"value\":12.0},\"hatch_weight\":{\"value\":1.0},\"line_alpha\":{\"value\":1.0},\"line_cap\":{\"value\":\"butt\"},\"line_color\":{\"value\":\"black\"},\"line_dash\":{\"value\":[]},\"line_dash_offset\":{\"value\":0},\"line_join\":{\"value\":\"bevel\"},\"line_width\":{\"value\":1},\"top\":{\"field\":\"Average_Medicare_Payments\"},\"width\":{\"value\":0.8},\"x\":{\"field\":\"Provider_State\"}},\"id\":\"1562\",\"type\":\"VBar\"},{\"attributes\":{\"axis_label\":\"Provider State\",\"formatter\":{\"id\":\"1514\"},\"major_label_orientation\":1.5707963267948966,\"major_label_policy\":{\"id\":\"1516\"},\"ticker\":{\"id\":\"1485\"}},\"id\":\"1484\",\"type\":\"CategoricalAxis\"},{\"attributes\":{\"format\":\"%.0f\"},\"id\":\"1563\",\"type\":\"PrintfTickFormatter\"},{\"attributes\":{\"axis_label\":\"Provider State\",\"formatter\":{\"id\":\"1564\"},\"major_label_orientation\":1.5707963267948966,\"major_label_policy\":{\"id\":\"1566\"},\"ticker\":{\"id\":\"1535\"}},\"id\":\"1534\",\"type\":\"CategoricalAxis\"},{\"attributes\":{\"axis\":{\"id\":\"1487\"},\"dimension\":1,\"grid_line_color\":null,\"ticker\":null},\"id\":\"1490\",\"type\":\"Grid\"},{\"attributes\":{\"fill_alpha\":{\"value\":0.2},\"fill_color\":{\"value\":\"orange\"},\"line_alpha\":{\"value\":0.2},\"top\":{\"field\":\"Average_Medicare_Payments\"},\"width\":{\"value\":0.8},\"x\":{\"field\":\"Provider_State\"}},\"id\":\"1559\",\"type\":\"VBar\"},{\"attributes\":{},\"id\":\"1566\",\"type\":\"AllLabels\"},{\"attributes\":{\"fill_color\":{\"value\":\"blue\"},\"top\":{\"field\":\"Average_Total_Payments\"},\"width\":{\"value\":0.8},\"x\":{\"field\":\"Provider_State\"}},\"id\":\"1507\",\"type\":\"VBar\"},{\"attributes\":{},\"id\":\"1569\",\"type\":\"AllLabels\"},{\"attributes\":{\"fill_alpha\":{\"value\":0.1},\"fill_color\":{\"value\":\"blue\"},\"line_alpha\":{\"value\":0.1},\"top\":{\"field\":\"Average_Total_Payments\"},\"width\":{\"value\":0.8},\"x\":{\"field\":\"Provider_State\"}},\"id\":\"1508\",\"type\":\"VBar\"},{\"attributes\":{},\"id\":\"1564\",\"type\":\"CategoricalTickFormatter\"},{\"attributes\":{},\"id\":\"1555\",\"type\":\"Selection\"},{\"attributes\":{\"text\":\"Average Total Diabetes Payment by State - Sorted\",\"text_color\":\"black\",\"text_font_size\":\"12pt\"},\"id\":\"1476\",\"type\":\"Title\"},{\"attributes\":{\"fill_color\":{\"value\":\"orange\"},\"top\":{\"field\":\"Average_Medicare_Payments\"},\"width\":{\"value\":0.8},\"x\":{\"field\":\"Provider_State\"}},\"id\":\"1557\",\"type\":\"VBar\"},{\"attributes\":{},\"id\":\"1485\",\"type\":\"CategoricalTicker\"},{\"attributes\":{\"axis\":{\"id\":\"1484\"},\"grid_line_color\":null,\"ticker\":null},\"id\":\"1486\",\"type\":\"Grid\"},{\"attributes\":{},\"id\":\"1590\",\"type\":\"UnionRenderers\"},{\"attributes\":{},\"id\":\"1488\",\"type\":\"BasicTicker\"},{\"attributes\":{\"margin\":[5,5,5,5],\"name\":\"HSpacer02333\",\"sizing_mode\":\"stretch_width\"},\"id\":\"1758\",\"type\":\"Spacer\"},{\"attributes\":{\"below\":[{\"id\":\"1534\"}],\"center\":[{\"id\":\"1536\"},{\"id\":\"1540\"}],\"height\":300,\"left\":[{\"id\":\"1537\"}],\"margin\":null,\"min_border_bottom\":10,\"min_border_left\":10,\"min_border_right\":10,\"min_border_top\":10,\"renderers\":[{\"id\":\"1560\"}],\"sizing_mode\":\"fixed\",\"title\":{\"id\":\"1526\"},\"toolbar\":{\"id\":\"1547\"},\"toolbar_location\":null,\"width\":700,\"x_range\":{\"id\":\"1472\"},\"x_scale\":{\"id\":\"1530\"},\"y_range\":{\"id\":\"1523\"},\"y_scale\":{\"id\":\"1532\"}},\"id\":\"1525\",\"subtype\":\"Figure\",\"type\":\"Plot\"},{\"attributes\":{\"axis_label\":\"Average Total Payments\",\"formatter\":{\"id\":\"1513\"},\"major_label_policy\":{\"id\":\"1519\"},\"ticker\":{\"id\":\"1488\"}},\"id\":\"1487\",\"type\":\"LinearAxis\"},{\"attributes\":{\"fill_alpha\":{\"value\":0.2},\"fill_color\":{\"value\":\"blue\"},\"line_alpha\":{\"value\":0.2},\"top\":{\"field\":\"Average_Total_Payments\"},\"width\":{\"value\":0.8},\"x\":{\"field\":\"Provider_State\"}},\"id\":\"1509\",\"type\":\"VBar\"},{\"attributes\":{},\"id\":\"1580\",\"type\":\"UnionRenderers\"},{\"attributes\":{\"data\":{\"Average_Medicare_Payments\":{\"__ndarray__\":\"3obkbUg8rUBkmgwwZ4WuQA5loy8rl65ALPnFkrcSr0BnZmZmphqwQLPkF0sWKrBAhyC6U20+sEBzRZwfJ0uwQN6i+nacT7BAo3A9Cj9SsEAL16Nw/VWwQPnFkl9MXLBAf7HkFwtmsEDr/qUkNHewQHVN13SNd7BApHA9Ckd6sEBDZYepC6+wQGxlwi/1r7BAFqICpeTDsEBYHpCs89WwQFlU3hVW47BAqvHSTWLxsECF61G4nvywQO/u7u7epLFADNejcJG0sUAUL4fBCraxQO7u7u6uv7FAswuITeXksUCBBkNoKCWyQGq8dJPYnLJAq6qqqirMskDyXAJZA/qyQP2aQQJRHrNAgSg2qsQjs0C0bP4Zc0azQNpvynOJU7NAL55ApfzPs0BrbGxsLNKzQClcj8K127NA+cWSX2wRtEBts1O8JxK1QLnb2nHQN7VA/05Wy1uEtUC4HoXr0T22QDMzMzMTV7ZA7FG4HgUJt0CX/GLJj4i5QDLHDGZ6j7lAYxBYOUDeuUAb6LSBzo26QFK4HoXrxLpA\",\"dtype\":\"float64\",\"order\":\"little\",\"shape\":[51]},\"Provider_State\":[\"AL\",\"KS\",\"AR\",\"TN\",\"MT\",\"VA\",\"IA\",\"MO\",\"IN\",\"WV\",\"MS\",\"NE\",\"UT\",\"LA\",\"KY\",\"ND\",\"ME\",\"FL\",\"SC\",\"OK\",\"GA\",\"ID\",\"OH\",\"WI\",\"NC\",\"TX\",\"CO\",\"NH\",\"PA\",\"DE\",\"OR\",\"NV\",\"MI\",\"IL\",\"AZ\",\"NM\",\"WA\",\"MN\",\"WY\",\"SD\",\"MA\",\"NJ\",\"RI\",\"VT\",\"CT\",\"HI\",\"MD\",\"NY\",\"CA\",\"DC\",\"AK\"]},\"selected\":{\"id\":\"1555\"},\"selection_policy\":{\"id\":\"1590\"}},\"id\":\"1554\",\"type\":\"ColumnDataSource\"},{\"attributes\":{\"data_source\":{\"id\":\"1504\"},\"glyph\":{\"id\":\"1507\"},\"hover_glyph\":null,\"muted_glyph\":{\"id\":\"1509\"},\"nonselection_glyph\":{\"id\":\"1508\"},\"selection_glyph\":{\"id\":\"1512\"},\"view\":{\"id\":\"1511\"}},\"id\":\"1510\",\"type\":\"GlyphRenderer\"},{\"attributes\":{\"end\":7163.997853658537,\"reset_end\":7163.997853658537,\"reset_start\":0.0,\"tags\":[[[\"Average Medicare Payments\",\"Average Medicare Payments\",null]]]},\"id\":\"1523\",\"type\":\"Range1d\"},{\"attributes\":{\"callback\":null,\"renderers\":[{\"id\":\"1560\"}],\"tags\":[\"hv_created\"],\"tooltips\":[[\"Provider State\",\"@{Provider_State}\"],[\"Average Medicare Payments\",\"@{Average_Medicare_Payments}\"]]},\"id\":\"1524\",\"type\":\"HoverTool\"},{\"attributes\":{\"toolbar\":{\"id\":\"1593\"},\"toolbar_location\":\"above\"},\"id\":\"1594\",\"type\":\"ToolbarBox\"},{\"attributes\":{},\"id\":\"1491\",\"type\":\"SaveTool\"},{\"attributes\":{\"fill_alpha\":{\"value\":0.1},\"fill_color\":{\"value\":\"orange\"},\"line_alpha\":{\"value\":0.1},\"top\":{\"field\":\"Average_Medicare_Payments\"},\"width\":{\"value\":0.8},\"x\":{\"field\":\"Provider_State\"}},\"id\":\"1558\",\"type\":\"VBar\"},{\"attributes\":{},\"id\":\"1492\",\"type\":\"PanTool\"},{\"attributes\":{},\"id\":\"1542\",\"type\":\"PanTool\"},{\"attributes\":{},\"id\":\"1493\",\"type\":\"WheelZoomTool\"},{\"attributes\":{\"axis\":{\"id\":\"1537\"},\"dimension\":1,\"grid_line_color\":null,\"ticker\":null},\"id\":\"1540\",\"type\":\"Grid\"},{\"attributes\":{\"active_multi\":null,\"tools\":[{\"id\":\"1474\"},{\"id\":\"1491\"},{\"id\":\"1492\"},{\"id\":\"1493\"},{\"id\":\"1494\"},{\"id\":\"1495\"}]},\"id\":\"1497\",\"type\":\"Toolbar\"},{\"attributes\":{\"overlay\":{\"id\":\"1496\"}},\"id\":\"1494\",\"type\":\"BoxZoomTool\"},{\"attributes\":{\"text\":\"Average Medicare Payments by State - Sorted\",\"text_color\":\"black\",\"text_font_size\":\"12pt\"},\"id\":\"1526\",\"type\":\"Title\"},{\"attributes\":{\"data\":{\"Average_Total_Payments\":{\"__ndarray__\":\"9DI0L8OIskCFaS3mhfqyQEGnDXRmY7NAF0p9sCNrs0AzMzMzI52zQB6fvrY4zrNASOF6FB7zs0C1OiZ4EBS0QGfcLDRpFLRAmpmZmVk1tEBnZmZmhkG0QNjgOQJlWbRAHkF46o1dtEBI1qZkrWK0QEiOaBo9b7RAcF8HztmXtEAwIilxvKm0QKcNdNogqrRAUcRjwQE8tUDD9Shcz1C1QKBdQGxqb7VACtejcLR5tUAJ+ObVBJG1QHsUrkdRmrVA6sglxMHItUAhavqhHsu1QMuhRbaz6bVAk18s+YWJtkDFkl8s0am2QBsPI5IS37ZANV66Scwmt0AsKOn4tFq3QG7kRm4kbbdAxsGCks7It0AnJycnJ863QFimwal+0bdAbaDTBhrnt0CMG+pFkue3QKORgG+eCrhA014VMEzbuEBmpS2TkCa5QKabxCDQxrlAxVd8xZfRuUCQwvUoXGq6QGZmZmZmlbpA7FG4HkUou0AHIJo7ExW9QFVVVVV1Mb1AK90kBsNTvUAYS36xhLq9QOtRuB6FUr5A\",\"dtype\":\"float64\",\"order\":\"little\",\"shape\":[51]},\"Provider_State\":[\"AL\",\"AR\",\"TN\",\"IA\",\"WV\",\"KS\",\"MT\",\"MS\",\"IN\",\"OK\",\"NE\",\"MO\",\"KY\",\"OH\",\"LA\",\"FL\",\"GA\",\"VA\",\"SC\",\"ID\",\"NH\",\"NC\",\"ME\",\"ND\",\"TX\",\"PA\",\"CO\",\"SD\",\"WI\",\"MI\",\"DE\",\"NV\",\"NM\",\"AZ\",\"MN\",\"IL\",\"UT\",\"WA\",\"OR\",\"MA\",\"NJ\",\"CT\",\"RI\",\"VT\",\"WY\",\"HI\",\"NY\",\"MD\",\"CA\",\"DC\",\"AK\"]},\"selected\":{\"id\":\"1505\"},\"selection_policy\":{\"id\":\"1580\"}},\"id\":\"1504\",\"type\":\"ColumnDataSource\"},{\"attributes\":{},\"id\":\"1543\",\"type\":\"WheelZoomTool\"},{\"attributes\":{\"active_multi\":null,\"tools\":[{\"id\":\"1524\"},{\"id\":\"1541\"},{\"id\":\"1542\"},{\"id\":\"1543\"},{\"id\":\"1544\"},{\"id\":\"1545\"}]},\"id\":\"1547\",\"type\":\"Toolbar\"},{\"attributes\":{},\"id\":\"1495\",\"type\":\"ResetTool\"},{\"attributes\":{\"overlay\":{\"id\":\"1546\"}},\"id\":\"1544\",\"type\":\"BoxZoomTool\"},{\"attributes\":{\"axis_label\":\"Average Medicare Payments\",\"formatter\":{\"id\":\"1563\"},\"major_label_policy\":{\"id\":\"1569\"},\"ticker\":{\"id\":\"1538\"}},\"id\":\"1537\",\"type\":\"LinearAxis\"},{\"attributes\":{\"axis\":{\"id\":\"1534\"},\"grid_line_color\":null,\"ticker\":null},\"id\":\"1536\",\"type\":\"Grid\"},{\"attributes\":{},\"id\":\"1530\",\"type\":\"CategoricalScale\"},{\"attributes\":{},\"id\":\"1545\",\"type\":\"ResetTool\"},{\"attributes\":{},\"id\":\"1538\",\"type\":\"BasicTicker\"},{\"attributes\":{},\"id\":\"1532\",\"type\":\"LinearScale\"},{\"attributes\":{\"children\":[{\"id\":\"1594\"},{\"id\":\"1592\"}]},\"id\":\"1595\",\"type\":\"Column\"},{\"attributes\":{\"toolbars\":[{\"id\":\"1497\"},{\"id\":\"1547\"}],\"tools\":[{\"id\":\"1474\"},{\"id\":\"1491\"},{\"id\":\"1492\"},{\"id\":\"1493\"},{\"id\":\"1494\"},{\"id\":\"1495\"},{\"id\":\"1524\"},{\"id\":\"1541\"},{\"id\":\"1542\"},{\"id\":\"1543\"},{\"id\":\"1544\"},{\"id\":\"1545\"}]},\"id\":\"1593\",\"type\":\"ProxyToolbar\"},{\"attributes\":{},\"id\":\"1535\",\"type\":\"CategoricalTicker\"}],\"root_ids\":[\"1470\"]},\"title\":\"Bokeh Application\",\"version\":\"2.3.2\"}};\n",
       "    var render_items = [{\"docid\":\"a2d498e5-86d2-4bdd-a0bd-39f1250bfdc4\",\"root_ids\":[\"1470\"],\"roots\":{\"1470\":\"0ebf1e1b-90fe-4e00-8be0-fe4ddb9aab79\"}}];\n",
       "    root.Bokeh.embed.embed_items_notebook(docs_json, render_items);\n",
       "  }\n",
       "  if (root.Bokeh !== undefined && root.Bokeh.Panel !== undefined) {\n",
       "    embed_document(root);\n",
       "  } else {\n",
       "    var attempts = 0;\n",
       "    var timer = setInterval(function(root) {\n",
       "      if (root.Bokeh !== undefined && root.Bokeh.Panel !== undefined) {\n",
       "        clearInterval(timer);\n",
       "        embed_document(root);\n",
       "      } else if (document.readyState == \"complete\") {\n",
       "        attempts++;\n",
       "        if (attempts > 200) {\n",
       "          clearInterval(timer);\n",
       "          console.log(\"Bokeh: ERROR: Unable to run BokehJS code because BokehJS library is missing\");\n",
       "        }\n",
       "      }\n",
       "    }, 25, root)\n",
       "  }\n",
       "})(window);</script>"
      ],
      "text/plain": [
       ":Layout\n",
       "   .Bars.I  :Bars   [Provider State]   (Average Total Payments)\n",
       "   .Bars.II :Bars   [Provider State]   (Average Medicare Payments)"
      ]
     },
     "execution_count": 12,
     "metadata": {
      "application/vnd.holoviews_exec.v0+json": {
       "id": "1470"
      }
     },
     "output_type": "execute_result"
    }
   ],
   "source": [
    "# Create a side-by-side composite plot of the sorted DataFrame from the average total payments per state \n",
    "# and the average medicare payments per state\n",
    "plot_average_total_payments_by_state_sorted + plot_average_medicare_payments_by_state_sorted"
   ]
  },
  {
   "cell_type": "markdown",
   "metadata": {},
   "source": [
    "## Step 9: Compose an overlay plot that includes `plot_average_total_payments_by_state_sorted` and `plot_average_medicare_payments_by_state_sorted`. Be sure to set your overlay plot equal to a variable so that you can appropriately style the overlay plot."
   ]
  },
  {
   "cell_type": "code",
   "execution_count": 13,
   "metadata": {},
   "outputs": [
    {
     "data": {},
     "metadata": {},
     "output_type": "display_data"
    },
    {
     "data": {
      "application/vnd.holoviews_exec.v0+json": "",
      "text/html": [
       "<div id='1850'>\n",
       "\n",
       "\n",
       "\n",
       "\n",
       "\n",
       "  <div class=\"bk-root\" id=\"f4504352-7b66-47c1-96d5-48c81b8da9c6\" data-root-id=\"1850\"></div>\n",
       "</div>\n",
       "<script type=\"application/javascript\">(function(root) {\n",
       "  function embed_document(root) {\n",
       "    var docs_json = {\"e826d28a-4237-495c-96fc-bd3b2cda7e34\":{\"defs\":[{\"extends\":null,\"module\":null,\"name\":\"ReactiveHTML1\",\"overrides\":[],\"properties\":[]},{\"extends\":null,\"module\":null,\"name\":\"FlexBox1\",\"overrides\":[],\"properties\":[{\"default\":\"flex-start\",\"kind\":null,\"name\":\"align_content\"},{\"default\":\"flex-start\",\"kind\":null,\"name\":\"align_items\"},{\"default\":\"row\",\"kind\":null,\"name\":\"flex_direction\"},{\"default\":\"wrap\",\"kind\":null,\"name\":\"flex_wrap\"},{\"default\":\"flex-start\",\"kind\":null,\"name\":\"justify_content\"}]},{\"extends\":null,\"module\":null,\"name\":\"TemplateActions1\",\"overrides\":[],\"properties\":[{\"default\":0,\"kind\":null,\"name\":\"open_modal\"},{\"default\":0,\"kind\":null,\"name\":\"close_modal\"}]},{\"extends\":null,\"module\":null,\"name\":\"MaterialTemplateActions1\",\"overrides\":[],\"properties\":[{\"default\":0,\"kind\":null,\"name\":\"open_modal\"},{\"default\":0,\"kind\":null,\"name\":\"close_modal\"}]}],\"roots\":{\"references\":[{\"attributes\":{},\"id\":\"1873\",\"type\":\"PanTool\"},{\"attributes\":{\"source\":{\"id\":\"1904\"}},\"id\":\"1911\",\"type\":\"CDSView\"},{\"attributes\":{},\"id\":\"1889\",\"type\":\"AllLabels\"},{\"attributes\":{},\"id\":\"1874\",\"type\":\"WheelZoomTool\"},{\"attributes\":{\"fill_alpha\":{\"value\":0.2},\"fill_color\":{\"value\":\"orange\"},\"line_alpha\":{\"value\":0.2},\"top\":{\"field\":\"Average_Medicare_Payments\"},\"width\":{\"value\":0.8},\"x\":{\"field\":\"Provider_State\"}},\"id\":\"1909\",\"type\":\"VBar\"},{\"attributes\":{},\"id\":\"1876\",\"type\":\"ResetTool\"},{\"attributes\":{},\"id\":\"1905\",\"type\":\"Selection\"},{\"attributes\":{\"data_source\":{\"id\":\"1895\"},\"glyph\":{\"id\":\"1898\"},\"hover_glyph\":null,\"muted_glyph\":{\"id\":\"1900\"},\"nonselection_glyph\":{\"id\":\"1899\"},\"selection_glyph\":{\"id\":\"1903\"},\"view\":{\"id\":\"1902\"}},\"id\":\"1901\",\"type\":\"GlyphRenderer\"},{\"attributes\":{\"factors\":[\"AL\",\"AR\",\"TN\",\"IA\",\"WV\",\"KS\",\"MT\",\"MS\",\"IN\",\"OK\",\"NE\",\"MO\",\"KY\",\"OH\",\"LA\",\"FL\",\"GA\",\"VA\",\"SC\",\"ID\",\"NH\",\"NC\",\"ME\",\"ND\",\"TX\",\"PA\",\"CO\",\"SD\",\"WI\",\"MI\",\"DE\",\"NV\",\"NM\",\"AZ\",\"MN\",\"IL\",\"UT\",\"WA\",\"OR\",\"MA\",\"NJ\",\"CT\",\"RI\",\"VT\",\"WY\",\"HI\",\"NY\",\"MD\",\"CA\",\"DC\",\"AK\"],\"tags\":[[[\"Provider State\",\"Provider State\",null]]]},\"id\":\"1852\",\"type\":\"FactorRange\"},{\"attributes\":{\"callback\":null,\"renderers\":[{\"id\":\"1901\"}],\"tags\":[\"hv_created\"],\"tooltips\":[[\"Provider State\",\"@{Provider_State}\"],[\"Average Total Payments\",\"@{Average_Total_Payments}\"]]},\"id\":\"1854\",\"type\":\"HoverTool\"},{\"attributes\":{\"overlay\":{\"id\":\"1877\"}},\"id\":\"1875\",\"type\":\"BoxZoomTool\"},{\"attributes\":{\"bottom\":{\"value\":0},\"fill_alpha\":{\"value\":1.0},\"fill_color\":{\"value\":\"blue\"},\"hatch_alpha\":{\"value\":1.0},\"hatch_color\":{\"value\":\"black\"},\"hatch_scale\":{\"value\":12.0},\"hatch_weight\":{\"value\":1.0},\"line_alpha\":{\"value\":1.0},\"line_cap\":{\"value\":\"butt\"},\"line_color\":{\"value\":\"black\"},\"line_dash\":{\"value\":[]},\"line_dash_offset\":{\"value\":0},\"line_join\":{\"value\":\"bevel\"},\"line_width\":{\"value\":1},\"top\":{\"field\":\"Average_Total_Payments\"},\"width\":{\"value\":0.8},\"x\":{\"field\":\"Provider_State\"}},\"id\":\"1903\",\"type\":\"VBar\"},{\"attributes\":{\"margin\":[5,5,5,5],\"name\":\"HSpacer02672\",\"sizing_mode\":\"stretch_width\"},\"id\":\"1851\",\"type\":\"Spacer\"},{\"attributes\":{\"axis_label\":\"Provider State\",\"formatter\":{\"id\":\"1887\"},\"major_label_orientation\":1.5707963267948966,\"major_label_policy\":{\"id\":\"1889\"},\"ticker\":{\"id\":\"1866\"}},\"id\":\"1865\",\"type\":\"CategoricalAxis\"},{\"attributes\":{},\"id\":\"1861\",\"type\":\"CategoricalScale\"},{\"attributes\":{\"text\":\"Average Total Payments versus Average Medicare Payments for Diabetes\",\"text_color\":\"black\",\"text_font_size\":\"12pt\"},\"id\":\"1857\",\"type\":\"Title\"},{\"attributes\":{},\"id\":\"1921\",\"type\":\"UnionRenderers\"},{\"attributes\":{\"margin\":[5,5,5,5],\"name\":\"HSpacer02673\",\"sizing_mode\":\"stretch_width\"},\"id\":\"2012\",\"type\":\"Spacer\"},{\"attributes\":{},\"id\":\"1866\",\"type\":\"CategoricalTicker\"},{\"attributes\":{\"fill_alpha\":{\"value\":0.1},\"fill_color\":{\"value\":\"orange\"},\"line_alpha\":{\"value\":0.1},\"top\":{\"field\":\"Average_Medicare_Payments\"},\"width\":{\"value\":0.8},\"x\":{\"field\":\"Provider_State\"}},\"id\":\"1908\",\"type\":\"VBar\"},{\"attributes\":{\"axis\":{\"id\":\"1868\"},\"dimension\":1,\"grid_line_color\":null,\"ticker\":null},\"id\":\"1871\",\"type\":\"Grid\"},{\"attributes\":{\"fill_color\":{\"value\":\"orange\"},\"top\":{\"field\":\"Average_Medicare_Payments\"},\"width\":{\"value\":0.8},\"x\":{\"field\":\"Provider_State\"}},\"id\":\"1907\",\"type\":\"VBar\"},{\"attributes\":{\"axis\":{\"id\":\"1865\"},\"grid_line_color\":null,\"ticker\":null},\"id\":\"1867\",\"type\":\"Grid\"},{\"attributes\":{\"bottom\":{\"value\":0},\"fill_alpha\":{\"value\":1.0},\"fill_color\":{\"value\":\"orange\"},\"hatch_alpha\":{\"value\":1.0},\"hatch_color\":{\"value\":\"black\"},\"hatch_scale\":{\"value\":12.0},\"hatch_weight\":{\"value\":1.0},\"line_alpha\":{\"value\":1.0},\"line_cap\":{\"value\":\"butt\"},\"line_color\":{\"value\":\"black\"},\"line_dash\":{\"value\":[]},\"line_dash_offset\":{\"value\":0},\"line_join\":{\"value\":\"bevel\"},\"line_width\":{\"value\":1},\"top\":{\"field\":\"Average_Medicare_Payments\"},\"width\":{\"value\":0.8},\"x\":{\"field\":\"Provider_State\"}},\"id\":\"1912\",\"type\":\"VBar\"},{\"attributes\":{\"callback\":null,\"renderers\":[{\"id\":\"1910\"}],\"tags\":[\"hv_created\"],\"tooltips\":[[\"Provider State\",\"@{Provider_State}\"],[\"Average Medicare Payments\",\"@{Average_Medicare_Payments}\"]]},\"id\":\"1855\",\"type\":\"HoverTool\"},{\"attributes\":{\"fill_alpha\":{\"value\":0.2},\"fill_color\":{\"value\":\"blue\"},\"line_alpha\":{\"value\":0.2},\"top\":{\"field\":\"Average_Total_Payments\"},\"width\":{\"value\":0.8},\"x\":{\"field\":\"Provider_State\"}},\"id\":\"1900\",\"type\":\"VBar\"},{\"attributes\":{},\"id\":\"1869\",\"type\":\"BasicTicker\"},{\"attributes\":{\"axis_label\":\"Average Payment Amount\",\"formatter\":{\"id\":\"1886\"},\"major_label_policy\":{\"id\":\"1892\"},\"ticker\":{\"id\":\"1869\"}},\"id\":\"1868\",\"type\":\"LinearAxis\"},{\"attributes\":{\"end\":8164.557853658536,\"reset_end\":8164.557853658536,\"reset_start\":0.0,\"tags\":[[[\"Average Total Payments\",\"Average Total Payments\",null]]]},\"id\":\"1853\",\"type\":\"Range1d\"},{\"attributes\":{\"data\":{\"Average_Medicare_Payments\":{\"__ndarray__\":\"3obkbUg8rUBkmgwwZ4WuQA5loy8rl65ALPnFkrcSr0BnZmZmphqwQLPkF0sWKrBAhyC6U20+sEBzRZwfJ0uwQN6i+nacT7BAo3A9Cj9SsEAL16Nw/VWwQPnFkl9MXLBAf7HkFwtmsEDr/qUkNHewQHVN13SNd7BApHA9Ckd6sEBDZYepC6+wQGxlwi/1r7BAFqICpeTDsEBYHpCs89WwQFlU3hVW47BAqvHSTWLxsECF61G4nvywQO/u7u7epLFADNejcJG0sUAUL4fBCraxQO7u7u6uv7FAswuITeXksUCBBkNoKCWyQGq8dJPYnLJAq6qqqirMskDyXAJZA/qyQP2aQQJRHrNAgSg2qsQjs0C0bP4Zc0azQNpvynOJU7NAL55ApfzPs0BrbGxsLNKzQClcj8K127NA+cWSX2wRtEBts1O8JxK1QLnb2nHQN7VA/05Wy1uEtUC4HoXr0T22QDMzMzMTV7ZA7FG4HgUJt0CX/GLJj4i5QDLHDGZ6j7lAYxBYOUDeuUAb6LSBzo26QFK4HoXrxLpA\",\"dtype\":\"float64\",\"order\":\"little\",\"shape\":[51]},\"Provider_State\":[\"AL\",\"KS\",\"AR\",\"TN\",\"MT\",\"VA\",\"IA\",\"MO\",\"IN\",\"WV\",\"MS\",\"NE\",\"UT\",\"LA\",\"KY\",\"ND\",\"ME\",\"FL\",\"SC\",\"OK\",\"GA\",\"ID\",\"OH\",\"WI\",\"NC\",\"TX\",\"CO\",\"NH\",\"PA\",\"DE\",\"OR\",\"NV\",\"MI\",\"IL\",\"AZ\",\"NM\",\"WA\",\"MN\",\"WY\",\"SD\",\"MA\",\"NJ\",\"RI\",\"VT\",\"CT\",\"HI\",\"MD\",\"NY\",\"CA\",\"DC\",\"AK\"]},\"selected\":{\"id\":\"1905\"},\"selection_policy\":{\"id\":\"1923\"}},\"id\":\"1904\",\"type\":\"ColumnDataSource\"},{\"attributes\":{},\"id\":\"1896\",\"type\":\"Selection\"},{\"attributes\":{},\"id\":\"1863\",\"type\":\"LinearScale\"},{\"attributes\":{\"fill_color\":{\"value\":\"blue\"},\"top\":{\"field\":\"Average_Total_Payments\"},\"width\":{\"value\":0.8},\"x\":{\"field\":\"Provider_State\"}},\"id\":\"1898\",\"type\":\"VBar\"},{\"attributes\":{},\"id\":\"1892\",\"type\":\"AllLabels\"},{\"attributes\":{\"source\":{\"id\":\"1895\"}},\"id\":\"1902\",\"type\":\"CDSView\"},{\"attributes\":{\"bottom_units\":\"screen\",\"fill_alpha\":0.5,\"fill_color\":\"lightgrey\",\"left_units\":\"screen\",\"level\":\"overlay\",\"line_alpha\":1.0,\"line_color\":\"black\",\"line_dash\":[4,4],\"line_width\":2,\"right_units\":\"screen\",\"syncable\":false,\"top_units\":\"screen\"},\"id\":\"1877\",\"type\":\"BoxAnnotation\"},{\"attributes\":{},\"id\":\"1923\",\"type\":\"UnionRenderers\"},{\"attributes\":{\"data_source\":{\"id\":\"1904\"},\"glyph\":{\"id\":\"1907\"},\"hover_glyph\":null,\"muted_glyph\":{\"id\":\"1909\"},\"nonselection_glyph\":{\"id\":\"1908\"},\"selection_glyph\":{\"id\":\"1912\"},\"view\":{\"id\":\"1911\"}},\"id\":\"1910\",\"type\":\"GlyphRenderer\"},{\"attributes\":{\"data\":{\"Average_Total_Payments\":{\"__ndarray__\":\"9DI0L8OIskCFaS3mhfqyQEGnDXRmY7NAF0p9sCNrs0AzMzMzI52zQB6fvrY4zrNASOF6FB7zs0C1OiZ4EBS0QGfcLDRpFLRAmpmZmVk1tEBnZmZmhkG0QNjgOQJlWbRAHkF46o1dtEBI1qZkrWK0QEiOaBo9b7RAcF8HztmXtEAwIilxvKm0QKcNdNogqrRAUcRjwQE8tUDD9Shcz1C1QKBdQGxqb7VACtejcLR5tUAJ+ObVBJG1QHsUrkdRmrVA6sglxMHItUAhavqhHsu1QMuhRbaz6bVAk18s+YWJtkDFkl8s0am2QBsPI5IS37ZANV66Scwmt0AsKOn4tFq3QG7kRm4kbbdAxsGCks7It0AnJycnJ863QFimwal+0bdAbaDTBhrnt0CMG+pFkue3QKORgG+eCrhA014VMEzbuEBmpS2TkCa5QKabxCDQxrlAxVd8xZfRuUCQwvUoXGq6QGZmZmZmlbpA7FG4HkUou0AHIJo7ExW9QFVVVVV1Mb1AK90kBsNTvUAYS36xhLq9QOtRuB6FUr5A\",\"dtype\":\"float64\",\"order\":\"little\",\"shape\":[51]},\"Provider_State\":[\"AL\",\"AR\",\"TN\",\"IA\",\"WV\",\"KS\",\"MT\",\"MS\",\"IN\",\"OK\",\"NE\",\"MO\",\"KY\",\"OH\",\"LA\",\"FL\",\"GA\",\"VA\",\"SC\",\"ID\",\"NH\",\"NC\",\"ME\",\"ND\",\"TX\",\"PA\",\"CO\",\"SD\",\"WI\",\"MI\",\"DE\",\"NV\",\"NM\",\"AZ\",\"MN\",\"IL\",\"UT\",\"WA\",\"OR\",\"MA\",\"NJ\",\"CT\",\"RI\",\"VT\",\"WY\",\"HI\",\"NY\",\"MD\",\"CA\",\"DC\",\"AK\"]},\"selected\":{\"id\":\"1896\"},\"selection_policy\":{\"id\":\"1921\"}},\"id\":\"1895\",\"type\":\"ColumnDataSource\"},{\"attributes\":{\"format\":\"%.0f\"},\"id\":\"1886\",\"type\":\"PrintfTickFormatter\"},{\"attributes\":{\"children\":[{\"id\":\"1851\"},{\"id\":\"1856\"},{\"id\":\"2012\"}],\"margin\":[0,0,0,0],\"name\":\"Row02668\",\"tags\":[\"embedded\"]},\"id\":\"1850\",\"type\":\"Row\"},{\"attributes\":{},\"id\":\"1872\",\"type\":\"SaveTool\"},{\"attributes\":{\"fill_alpha\":{\"value\":0.1},\"fill_color\":{\"value\":\"blue\"},\"line_alpha\":{\"value\":0.1},\"top\":{\"field\":\"Average_Total_Payments\"},\"width\":{\"value\":0.8},\"x\":{\"field\":\"Provider_State\"}},\"id\":\"1899\",\"type\":\"VBar\"},{\"attributes\":{\"active_multi\":null,\"tools\":[{\"id\":\"1854\"},{\"id\":\"1855\"},{\"id\":\"1872\"},{\"id\":\"1873\"},{\"id\":\"1874\"},{\"id\":\"1875\"},{\"id\":\"1876\"}]},\"id\":\"1878\",\"type\":\"Toolbar\"},{\"attributes\":{\"below\":[{\"id\":\"1865\"}],\"center\":[{\"id\":\"1867\"},{\"id\":\"1871\"}],\"height\":500,\"left\":[{\"id\":\"1868\"}],\"margin\":[5,5,5,5],\"min_border_bottom\":10,\"min_border_left\":10,\"min_border_right\":10,\"min_border_top\":10,\"renderers\":[{\"id\":\"1901\"},{\"id\":\"1910\"}],\"sizing_mode\":\"fixed\",\"title\":{\"id\":\"1857\"},\"toolbar\":{\"id\":\"1878\"},\"width\":1000,\"x_range\":{\"id\":\"1852\"},\"x_scale\":{\"id\":\"1861\"},\"y_range\":{\"id\":\"1853\"},\"y_scale\":{\"id\":\"1863\"}},\"id\":\"1856\",\"subtype\":\"Figure\",\"type\":\"Plot\"},{\"attributes\":{},\"id\":\"1887\",\"type\":\"CategoricalTickFormatter\"}],\"root_ids\":[\"1850\"]},\"title\":\"Bokeh Application\",\"version\":\"2.3.2\"}};\n",
       "    var render_items = [{\"docid\":\"e826d28a-4237-495c-96fc-bd3b2cda7e34\",\"root_ids\":[\"1850\"],\"roots\":{\"1850\":\"f4504352-7b66-47c1-96d5-48c81b8da9c6\"}}];\n",
       "    root.Bokeh.embed.embed_items_notebook(docs_json, render_items);\n",
       "  }\n",
       "  if (root.Bokeh !== undefined && root.Bokeh.Panel !== undefined) {\n",
       "    embed_document(root);\n",
       "  } else {\n",
       "    var attempts = 0;\n",
       "    var timer = setInterval(function(root) {\n",
       "      if (root.Bokeh !== undefined && root.Bokeh.Panel !== undefined) {\n",
       "        clearInterval(timer);\n",
       "        embed_document(root);\n",
       "      } else if (document.readyState == \"complete\") {\n",
       "        attempts++;\n",
       "        if (attempts > 200) {\n",
       "          clearInterval(timer);\n",
       "          console.log(\"Bokeh: ERROR: Unable to run BokehJS code because BokehJS library is missing\");\n",
       "        }\n",
       "      }\n",
       "    }, 25, root)\n",
       "  }\n",
       "})(window);</script>"
      ],
      "text/plain": [
       ":Overlay\n",
       "   .Bars.I  :Bars   [Provider State]   (Average Total Payments)\n",
       "   .Bars.II :Bars   [Provider State]   (Average Medicare Payments)"
      ]
     },
     "execution_count": 13,
     "metadata": {
      "application/vnd.holoviews_exec.v0+json": {
       "id": "1850"
      }
     },
     "output_type": "execute_result"
    }
   ],
   "source": [
    "# Compose an overlay plot of the average total payments per state \n",
    "# and the average medicare payments per state\n",
    "overlay_plot = plot_average_total_payments_by_state_sorted * plot_average_medicare_payments_by_state_sorted\n",
    "\n",
    "# Style the operlay plot\n",
    "overlay_plot.opts(\n",
    "    title=\"Average Total Payments versus Average Medicare Payments for Diabetes\", \n",
    "    ylabel=\"Average Payment Amount\", \n",
    "    width=1000, \n",
    "    height=500\n",
    ")"
   ]
  },
  {
   "cell_type": "markdown",
   "metadata": {},
   "source": [
    "## Step 10: Review your visualizations, and then answer the following questions. You can use the widgets to help craft your responses"
   ]
  },
  {
   "cell_type": "markdown",
   "metadata": {},
   "source": [
    "**Question:** In which states would you recommend launching the diabetes assistance program? Why? \n",
    "\n",
    "**Answer:** From the overlay plot you are able to easily distinguish across states the differential between the average total payments versus the average medicare payments for diabetes treatments. The contrast between the bar and line charts works well to depict this information.\n",
    "\n",
    "From a corporate perspective, it would make sense to pilot the program with a state or states that have most of their total cost of diabetes treatment paid by Medicare. South Dakota (SD), Iowa (IA) and West Virgina (WV) might be good candidates for a pilot program.\n",
    "\n",
    "As the program rolls out and is refined, the company can move on to states that have a wider spread between the two payment categories."
   ]
  },
  {
   "cell_type": "markdown",
   "metadata": {},
   "source": [
    "**Question:** Which states would you avoid? Why? \n",
    "\n",
    "**Answer:** States to avoid apper to be Utah (UT) and Wyoming (WY) as a smaller portion of their average total payments appear to be covered. "
   ]
  },
  {
   "cell_type": "markdown",
   "metadata": {},
   "source": [
    "**Question:** What additional data could be used to help make this decision? \n",
    "\n",
    "\n",
    "**Answer:** Additional data that could help to further support this analysis is average age of the diabetes recipients and average annual income of the people receiving treatment. This might assist in explaining the reason behind the disparity between the average total and medicare payments.\n",
    "\n",
    "The information broken down by county could help the company further target markets in which to launch."
   ]
  },
  {
   "cell_type": "code",
   "execution_count": null,
   "metadata": {},
   "outputs": [],
   "source": []
  }
 ],
 "metadata": {
  "kernel_info": {
   "name": "python3"
  },
  "kernelspec": {
   "display_name": "Python 3.9.12 ('dev')",
   "language": "python",
   "name": "python3"
  },
  "language_info": {
   "codemirror_mode": {
    "name": "ipython",
    "version": 3
   },
   "file_extension": ".py",
   "mimetype": "text/x-python",
   "name": "python",
   "nbconvert_exporter": "python",
   "pygments_lexer": "ipython3",
   "version": "3.9.12"
  },
  "nteract": {
   "version": "0.12.3"
  },
  "vscode": {
   "interpreter": {
    "hash": "b2ec66fa3d085a6e66869b1a678e052484c09c72639639e5b92cf1e8e9fcc898"
   }
  }
 },
 "nbformat": 4,
 "nbformat_minor": 4
}
