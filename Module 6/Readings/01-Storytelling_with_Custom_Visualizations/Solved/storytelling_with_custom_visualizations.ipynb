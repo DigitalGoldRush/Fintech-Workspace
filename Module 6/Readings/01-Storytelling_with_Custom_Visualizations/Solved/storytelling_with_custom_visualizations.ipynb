{
 "cells": [
  {
   "cell_type": "markdown",
   "metadata": {},
   "source": [
    "# Storytelling with Custom Visualizations\n",
    "\n",
    "In this activity, you’ll enhance a basic plot by using the visualization options that the hvPlot library makes available.\n",
    "\n",
    "Instructions:\n",
    "\n",
    "1. Review the code to import the required libraries and to generate the DataFrame that you’ll use for your story and visualization. You’ll work with the `average_sales_per_date_2019` DataFrame, which consists of the **average** home sales per day for the first three months of the year.\n",
    "\n",
    "2. Use the `hvplot` function to generate a default line plot.\n",
    "\n",
    "3. To observe the data from a different perspective, plot a bar chart by using the `hvplot` function. Assign values to the x- and y-axes by using the `hvplot.bar(x='saleDate', y='saleAmt')` syntax.\n",
    "\n",
    "4. Using the code from the previous plot, add the `rot` parameter to rotate the x-axis labels by 90 degrees. Then create appropriate labels for the x- and y-axes: `xlabel=\"Sale Date\"` and `ylabel=\"Average Sale Amount\"`.\n",
    "\n",
    "5. Using the code from the previous plot, apply the `opts.(yformatter)` option to redisplay the y-axis labels as whole numbers (with zero decimal places). Given the values of the average home sales, you don’t need decimal places for this visualization.\n",
    "\n",
    "6. Using the code from the previous plot, add the `title` parameter to give the visualization a descriptive title.\n",
    "\n",
    "7. Using the code from the previous plot, add the `invert_axes` option to invert the x- and y-axes.\n",
    "\n",
    "    >**Hint** You need to adjust the values of the x- and y-axes labels and change `yformatter` to `xformatter` to accommodate the axes inversion.\n",
    "\n",
    "8. Using the code from the previous plot, add a dynamic visual element to the plot by incorporating the `hover-color` parameter and assigning it a value of `\"orange\"`.\n",
    "\n",
    "9. Based on your enhanced visualization, compose your version of the data story for the trend of real-estate commissions over the first three months of 2019.\n",
    "\n",
    "References:\n",
    "\n",
    "[hvPlot Customization page](https://hvplot.holoviz.org/user_guide/Customization.html)\n",
    "\n",
    "[HoloViews Styling Mapping page](http://holoviews.org/user_guide/Style_Mapping.html)\n"
   ]
  },
  {
   "cell_type": "markdown",
   "metadata": {},
   "source": [
    "## Step 1: Review the code to import the required libraries and to generate the DataFrame that you’ll use for your story and visualization. You’ll work with the `average_sales_per_date_2019` DataFrame, which consists of the **average** home sales per day for the first three months of the year."
   ]
  },
  {
   "cell_type": "code",
   "execution_count": 12,
   "metadata": {},
   "outputs": [],
   "source": [
    "# Import the required libraries and dependencies\n",
    "import pandas as pd\n",
    "from pathlib import Path\n",
    "import hvplot.pandas"
   ]
  },
  {
   "cell_type": "code",
   "execution_count": 13,
   "metadata": {},
   "outputs": [
    {
     "data": {
      "text/html": [
       "<div>\n",
       "<style scoped>\n",
       "    .dataframe tbody tr th:only-of-type {\n",
       "        vertical-align: middle;\n",
       "    }\n",
       "\n",
       "    .dataframe tbody tr th {\n",
       "        vertical-align: top;\n",
       "    }\n",
       "\n",
       "    .dataframe thead th {\n",
       "        text-align: right;\n",
       "    }\n",
       "</style>\n",
       "<table border=\"1\" class=\"dataframe\">\n",
       "  <thead>\n",
       "    <tr style=\"text-align: right;\">\n",
       "      <th></th>\n",
       "      <th>propertyKey</th>\n",
       "      <th>streetAddress</th>\n",
       "      <th>salesTypeDsc</th>\n",
       "      <th>saleAmt</th>\n",
       "      <th>saleDate</th>\n",
       "    </tr>\n",
       "    <tr>\n",
       "      <th>salesHistoryKey</th>\n",
       "      <th></th>\n",
       "      <th></th>\n",
       "      <th></th>\n",
       "      <th></th>\n",
       "      <th></th>\n",
       "    </tr>\n",
       "  </thead>\n",
       "  <tbody>\n",
       "    <tr>\n",
       "      <th>117701</th>\n",
       "      <td>64736</td>\n",
       "      <td>1121 ARLINGTON BLVD 831</td>\n",
       "      <td>O-Assignment of Lease</td>\n",
       "      <td>275000</td>\n",
       "      <td>2019-06-24</td>\n",
       "    </tr>\n",
       "    <tr>\n",
       "      <th>270452</th>\n",
       "      <td>64190</td>\n",
       "      <td>989 S BUCHANAN ST 418</td>\n",
       "      <td>B-Not Previously Assessed</td>\n",
       "      <td>565000</td>\n",
       "      <td>2019-06-21</td>\n",
       "    </tr>\n",
       "    <tr>\n",
       "      <th>117663</th>\n",
       "      <td>23057</td>\n",
       "      <td>1121 ARLINGTON BLVD 820</td>\n",
       "      <td>O-Assignment of Lease</td>\n",
       "      <td>165000</td>\n",
       "      <td>2019-06-20</td>\n",
       "    </tr>\n",
       "    <tr>\n",
       "      <th>117485</th>\n",
       "      <td>23019</td>\n",
       "      <td>1121 ARLINGTON BLVD 717</td>\n",
       "      <td>O-Assignment of Lease</td>\n",
       "      <td>171900</td>\n",
       "      <td>2019-06-20</td>\n",
       "    </tr>\n",
       "    <tr>\n",
       "      <th>86768</th>\n",
       "      <td>53495</td>\n",
       "      <td>3800 FAIRFAX DR 1-83</td>\n",
       "      <td>C-Condo Parking Space</td>\n",
       "      <td>34000</td>\n",
       "      <td>2019-06-17</td>\n",
       "    </tr>\n",
       "  </tbody>\n",
       "</table>\n",
       "</div>"
      ],
      "text/plain": [
       "                 propertyKey            streetAddress  \\\n",
       "salesHistoryKey                                         \n",
       "117701                 64736  1121 ARLINGTON BLVD 831   \n",
       "270452                 64190    989 S BUCHANAN ST 418   \n",
       "117663                 23057  1121 ARLINGTON BLVD 820   \n",
       "117485                 23019  1121 ARLINGTON BLVD 717   \n",
       "86768                  53495     3800 FAIRFAX DR 1-83   \n",
       "\n",
       "                              salesTypeDsc  saleAmt    saleDate  \n",
       "salesHistoryKey                                                  \n",
       "117701               O-Assignment of Lease   275000  2019-06-24  \n",
       "270452           B-Not Previously Assessed   565000  2019-06-21  \n",
       "117663               O-Assignment of Lease   165000  2019-06-20  \n",
       "117485               O-Assignment of Lease   171900  2019-06-20  \n",
       "86768                C-Condo Parking Space    34000  2019-06-17  "
      ]
     },
     "metadata": {},
     "output_type": "display_data"
    },
    {
     "data": {
      "text/html": [
       "<div>\n",
       "<style scoped>\n",
       "    .dataframe tbody tr th:only-of-type {\n",
       "        vertical-align: middle;\n",
       "    }\n",
       "\n",
       "    .dataframe tbody tr th {\n",
       "        vertical-align: top;\n",
       "    }\n",
       "\n",
       "    .dataframe thead th {\n",
       "        text-align: right;\n",
       "    }\n",
       "</style>\n",
       "<table border=\"1\" class=\"dataframe\">\n",
       "  <thead>\n",
       "    <tr style=\"text-align: right;\">\n",
       "      <th></th>\n",
       "      <th>propertyKey</th>\n",
       "      <th>streetAddress</th>\n",
       "      <th>salesTypeDsc</th>\n",
       "      <th>saleAmt</th>\n",
       "      <th>saleDate</th>\n",
       "    </tr>\n",
       "    <tr>\n",
       "      <th>salesHistoryKey</th>\n",
       "      <th></th>\n",
       "      <th></th>\n",
       "      <th></th>\n",
       "      <th></th>\n",
       "      <th></th>\n",
       "    </tr>\n",
       "  </thead>\n",
       "  <tbody>\n",
       "    <tr>\n",
       "      <th>163323</th>\n",
       "      <td>52647</td>\n",
       "      <td>3817 16th ST S</td>\n",
       "      <td>1-Foreclosure, Auction, Bankru</td>\n",
       "      <td>165000</td>\n",
       "      <td>1999-10-07</td>\n",
       "    </tr>\n",
       "    <tr>\n",
       "      <th>115652</th>\n",
       "      <td>22633</td>\n",
       "      <td>1200 N NASH ST 1130</td>\n",
       "      <td>C-Condo Parking Space</td>\n",
       "      <td>5100</td>\n",
       "      <td>1999-10-07</td>\n",
       "    </tr>\n",
       "    <tr>\n",
       "      <th>194989</th>\n",
       "      <td>67748</td>\n",
       "      <td>3429 22nd ST S</td>\n",
       "      <td>1-Foreclosure, Auction, Bankru</td>\n",
       "      <td>178598</td>\n",
       "      <td>1999-10-07</td>\n",
       "    </tr>\n",
       "    <tr>\n",
       "      <th>88529</th>\n",
       "      <td>17508</td>\n",
       "      <td>900 N STAFFORD ST 1611</td>\n",
       "      <td>4-Multiple RPCs, Not A Coded S</td>\n",
       "      <td>111350</td>\n",
       "      <td>1999-10-02</td>\n",
       "    </tr>\n",
       "    <tr>\n",
       "      <th>89926</th>\n",
       "      <td>17779</td>\n",
       "      <td>901 N STUART ST 4-202</td>\n",
       "      <td>4-Multiple RPCs, Not A Coded S</td>\n",
       "      <td>111350</td>\n",
       "      <td>1999-10-02</td>\n",
       "    </tr>\n",
       "  </tbody>\n",
       "</table>\n",
       "</div>"
      ],
      "text/plain": [
       "                 propertyKey           streetAddress  \\\n",
       "salesHistoryKey                                        \n",
       "163323                 52647          3817 16th ST S   \n",
       "115652                 22633     1200 N NASH ST 1130   \n",
       "194989                 67748          3429 22nd ST S   \n",
       "88529                  17508  900 N STAFFORD ST 1611   \n",
       "89926                  17779   901 N STUART ST 4-202   \n",
       "\n",
       "                                   salesTypeDsc  saleAmt    saleDate  \n",
       "salesHistoryKey                                                       \n",
       "163323           1-Foreclosure, Auction, Bankru   165000  1999-10-07  \n",
       "115652                    C-Condo Parking Space     5100  1999-10-07  \n",
       "194989           1-Foreclosure, Auction, Bankru   178598  1999-10-07  \n",
       "88529            4-Multiple RPCs, Not A Coded S   111350  1999-10-02  \n",
       "89926            4-Multiple RPCs, Not A Coded S   111350  1999-10-02  "
      ]
     },
     "metadata": {},
     "output_type": "display_data"
    }
   ],
   "source": [
    "# Using the read_csv function and Path module, read in the \"housing_sale_data.csv\" file  \n",
    "# and create Pandas DataFrame\n",
    "home_sale_prices_df = pd.read_csv(\n",
    "    Path(\"../Resources/housing_sale_data.csv\"), \n",
    "    index_col=\"salesHistoryKey\"\n",
    ")\n",
    "\n",
    "# Review the first and last five rows of the DataFrame\n",
    "display(home_sale_prices_df.head())\n",
    "display(home_sale_prices_df.tail())"
   ]
  },
  {
   "cell_type": "code",
   "execution_count": 14,
   "metadata": {},
   "outputs": [
    {
     "data": {
      "text/html": [
       "<div>\n",
       "<style scoped>\n",
       "    .dataframe tbody tr th:only-of-type {\n",
       "        vertical-align: middle;\n",
       "    }\n",
       "\n",
       "    .dataframe tbody tr th {\n",
       "        vertical-align: top;\n",
       "    }\n",
       "\n",
       "    .dataframe thead th {\n",
       "        text-align: right;\n",
       "    }\n",
       "</style>\n",
       "<table border=\"1\" class=\"dataframe\">\n",
       "  <thead>\n",
       "    <tr style=\"text-align: right;\">\n",
       "      <th></th>\n",
       "      <th>propertyKey</th>\n",
       "      <th>streetAddress</th>\n",
       "      <th>salesTypeDsc</th>\n",
       "      <th>saleAmt</th>\n",
       "      <th>saleDate</th>\n",
       "    </tr>\n",
       "    <tr>\n",
       "      <th>salesHistoryKey</th>\n",
       "      <th></th>\n",
       "      <th></th>\n",
       "      <th></th>\n",
       "      <th></th>\n",
       "      <th></th>\n",
       "    </tr>\n",
       "  </thead>\n",
       "  <tbody>\n",
       "    <tr>\n",
       "      <th>63678</th>\n",
       "      <td>12688</td>\n",
       "      <td>6356 11th RD N</td>\n",
       "      <td>5-Not Market Sale</td>\n",
       "      <td>779950</td>\n",
       "      <td>2019-03-29</td>\n",
       "    </tr>\n",
       "    <tr>\n",
       "      <th>119124</th>\n",
       "      <td>23368</td>\n",
       "      <td>1111 ARLINGTON BLVD 822</td>\n",
       "      <td>O-Assignment of Lease</td>\n",
       "      <td>130000</td>\n",
       "      <td>2019-03-29</td>\n",
       "    </tr>\n",
       "    <tr>\n",
       "      <th>122208</th>\n",
       "      <td>24013</td>\n",
       "      <td>1021 ARLINGTON BLVD 1030</td>\n",
       "      <td>O-Assignment of Lease</td>\n",
       "      <td>250000</td>\n",
       "      <td>2019-03-29</td>\n",
       "    </tr>\n",
       "    <tr>\n",
       "      <th>56731</th>\n",
       "      <td>11285</td>\n",
       "      <td>1424 MCKINLEY RD</td>\n",
       "      <td>5-Not Market Sale</td>\n",
       "      <td>735000</td>\n",
       "      <td>2019-03-29</td>\n",
       "    </tr>\n",
       "    <tr>\n",
       "      <th>69377</th>\n",
       "      <td>13878</td>\n",
       "      <td>4810 9th ST N</td>\n",
       "      <td>E-Estate Sale</td>\n",
       "      <td>1200000</td>\n",
       "      <td>2019-03-29</td>\n",
       "    </tr>\n",
       "  </tbody>\n",
       "</table>\n",
       "</div>"
      ],
      "text/plain": [
       "                 propertyKey             streetAddress           salesTypeDsc  \\\n",
       "salesHistoryKey                                                                 \n",
       "63678                  12688            6356 11th RD N      5-Not Market Sale   \n",
       "119124                 23368   1111 ARLINGTON BLVD 822  O-Assignment of Lease   \n",
       "122208                 24013  1021 ARLINGTON BLVD 1030  O-Assignment of Lease   \n",
       "56731                  11285          1424 MCKINLEY RD      5-Not Market Sale   \n",
       "69377                  13878             4810 9th ST N          E-Estate Sale   \n",
       "\n",
       "                 saleAmt    saleDate  \n",
       "salesHistoryKey                       \n",
       "63678             779950  2019-03-29  \n",
       "119124            130000  2019-03-29  \n",
       "122208            250000  2019-03-29  \n",
       "56731             735000  2019-03-29  \n",
       "69377            1200000  2019-03-29  "
      ]
     },
     "metadata": {},
     "output_type": "display_data"
    },
    {
     "data": {
      "text/html": [
       "<div>\n",
       "<style scoped>\n",
       "    .dataframe tbody tr th:only-of-type {\n",
       "        vertical-align: middle;\n",
       "    }\n",
       "\n",
       "    .dataframe tbody tr th {\n",
       "        vertical-align: top;\n",
       "    }\n",
       "\n",
       "    .dataframe thead th {\n",
       "        text-align: right;\n",
       "    }\n",
       "</style>\n",
       "<table border=\"1\" class=\"dataframe\">\n",
       "  <thead>\n",
       "    <tr style=\"text-align: right;\">\n",
       "      <th></th>\n",
       "      <th>propertyKey</th>\n",
       "      <th>streetAddress</th>\n",
       "      <th>salesTypeDsc</th>\n",
       "      <th>saleAmt</th>\n",
       "      <th>saleDate</th>\n",
       "    </tr>\n",
       "    <tr>\n",
       "      <th>salesHistoryKey</th>\n",
       "      <th></th>\n",
       "      <th></th>\n",
       "      <th></th>\n",
       "      <th></th>\n",
       "      <th></th>\n",
       "    </tr>\n",
       "  </thead>\n",
       "  <tbody>\n",
       "    <tr>\n",
       "      <th>269811</th>\n",
       "      <td>51531</td>\n",
       "      <td>6713 19th ST N</td>\n",
       "      <td>G-New Construction</td>\n",
       "      <td>1628000</td>\n",
       "      <td>2019-01-08</td>\n",
       "    </tr>\n",
       "    <tr>\n",
       "      <th>86693</th>\n",
       "      <td>17183</td>\n",
       "      <td>3800 FAIRFAX DR 1-35</td>\n",
       "      <td>4-Multiple RPCs, Not A Coded S</td>\n",
       "      <td>371000</td>\n",
       "      <td>2019-01-07</td>\n",
       "    </tr>\n",
       "    <tr>\n",
       "      <th>86100</th>\n",
       "      <td>17074</td>\n",
       "      <td>3800 FAIRFAX DR 1112</td>\n",
       "      <td>4-Multiple RPCs, Not A Coded S</td>\n",
       "      <td>371000</td>\n",
       "      <td>2019-01-07</td>\n",
       "    </tr>\n",
       "    <tr>\n",
       "      <th>121653</th>\n",
       "      <td>23899</td>\n",
       "      <td>1021 ARLINGTON BLVD 722</td>\n",
       "      <td>O-Assignment of Lease</td>\n",
       "      <td>149500</td>\n",
       "      <td>2019-01-04</td>\n",
       "    </tr>\n",
       "    <tr>\n",
       "      <th>141340</th>\n",
       "      <td>57891</td>\n",
       "      <td>5608 1st ST S</td>\n",
       "      <td>5-Not Market Sale</td>\n",
       "      <td>729750</td>\n",
       "      <td>2019-01-04</td>\n",
       "    </tr>\n",
       "  </tbody>\n",
       "</table>\n",
       "</div>"
      ],
      "text/plain": [
       "                 propertyKey            streetAddress  \\\n",
       "salesHistoryKey                                         \n",
       "269811                 51531           6713 19th ST N   \n",
       "86693                  17183     3800 FAIRFAX DR 1-35   \n",
       "86100                  17074     3800 FAIRFAX DR 1112   \n",
       "121653                 23899  1021 ARLINGTON BLVD 722   \n",
       "141340                 57891            5608 1st ST S   \n",
       "\n",
       "                                   salesTypeDsc  saleAmt    saleDate  \n",
       "salesHistoryKey                                                       \n",
       "269811                       G-New Construction  1628000  2019-01-08  \n",
       "86693            4-Multiple RPCs, Not A Coded S   371000  2019-01-07  \n",
       "86100            4-Multiple RPCs, Not A Coded S   371000  2019-01-07  \n",
       "121653                    O-Assignment of Lease   149500  2019-01-04  \n",
       "141340                        5-Not Market Sale   729750  2019-01-04  "
      ]
     },
     "metadata": {},
     "output_type": "display_data"
    }
   ],
   "source": [
    "# Using loc as well as conditional and logical operators, slice the data \n",
    "# to only capture the information from January to March 2019\n",
    "home_sales_2019= home_sale_prices_df.loc[\n",
    "    (home_sale_prices_df[\"saleDate\"] >= \"2019-01-01\")\n",
    "    & (home_sale_prices_df[\"saleDate\"] <= \"2019-03-31\")\n",
    "]\n",
    "\n",
    "# Review the first and last five rows of the resulting DataFrame\n",
    "display(home_sales_2019.head())\n",
    "display(home_sales_2019.tail())"
   ]
  },
  {
   "cell_type": "code",
   "execution_count": 15,
   "metadata": {},
   "outputs": [
    {
     "data": {
      "text/html": [
       "<div>\n",
       "<style scoped>\n",
       "    .dataframe tbody tr th:only-of-type {\n",
       "        vertical-align: middle;\n",
       "    }\n",
       "\n",
       "    .dataframe tbody tr th {\n",
       "        vertical-align: top;\n",
       "    }\n",
       "\n",
       "    .dataframe thead th {\n",
       "        text-align: right;\n",
       "    }\n",
       "</style>\n",
       "<table border=\"1\" class=\"dataframe\">\n",
       "  <thead>\n",
       "    <tr style=\"text-align: right;\">\n",
       "      <th></th>\n",
       "      <th>saleAmt</th>\n",
       "    </tr>\n",
       "    <tr>\n",
       "      <th>saleDate</th>\n",
       "      <th></th>\n",
       "    </tr>\n",
       "  </thead>\n",
       "  <tbody>\n",
       "    <tr>\n",
       "      <th>2019-01-04</th>\n",
       "      <td>439625.0</td>\n",
       "    </tr>\n",
       "    <tr>\n",
       "      <th>2019-01-07</th>\n",
       "      <td>371000.0</td>\n",
       "    </tr>\n",
       "    <tr>\n",
       "      <th>2019-01-08</th>\n",
       "      <td>1628000.0</td>\n",
       "    </tr>\n",
       "    <tr>\n",
       "      <th>2019-01-09</th>\n",
       "      <td>96000.0</td>\n",
       "    </tr>\n",
       "    <tr>\n",
       "      <th>2019-01-15</th>\n",
       "      <td>623500.0</td>\n",
       "    </tr>\n",
       "  </tbody>\n",
       "</table>\n",
       "</div>"
      ],
      "text/plain": [
       "              saleAmt\n",
       "saleDate             \n",
       "2019-01-04   439625.0\n",
       "2019-01-07   371000.0\n",
       "2019-01-08  1628000.0\n",
       "2019-01-09    96000.0\n",
       "2019-01-15   623500.0"
      ]
     },
     "metadata": {},
     "output_type": "display_data"
    },
    {
     "data": {
      "text/html": [
       "<div>\n",
       "<style scoped>\n",
       "    .dataframe tbody tr th:only-of-type {\n",
       "        vertical-align: middle;\n",
       "    }\n",
       "\n",
       "    .dataframe tbody tr th {\n",
       "        vertical-align: top;\n",
       "    }\n",
       "\n",
       "    .dataframe thead th {\n",
       "        text-align: right;\n",
       "    }\n",
       "</style>\n",
       "<table border=\"1\" class=\"dataframe\">\n",
       "  <thead>\n",
       "    <tr style=\"text-align: right;\">\n",
       "      <th></th>\n",
       "      <th>saleAmt</th>\n",
       "    </tr>\n",
       "    <tr>\n",
       "      <th>saleDate</th>\n",
       "      <th></th>\n",
       "    </tr>\n",
       "  </thead>\n",
       "  <tbody>\n",
       "    <tr>\n",
       "      <th>2019-03-22</th>\n",
       "      <td>556000.0</td>\n",
       "    </tr>\n",
       "    <tr>\n",
       "      <th>2019-03-25</th>\n",
       "      <td>990000.0</td>\n",
       "    </tr>\n",
       "    <tr>\n",
       "      <th>2019-03-26</th>\n",
       "      <td>167000.0</td>\n",
       "    </tr>\n",
       "    <tr>\n",
       "      <th>2019-03-28</th>\n",
       "      <td>840000.0</td>\n",
       "    </tr>\n",
       "    <tr>\n",
       "      <th>2019-03-29</th>\n",
       "      <td>618990.0</td>\n",
       "    </tr>\n",
       "  </tbody>\n",
       "</table>\n",
       "</div>"
      ],
      "text/plain": [
       "             saleAmt\n",
       "saleDate            \n",
       "2019-03-22  556000.0\n",
       "2019-03-25  990000.0\n",
       "2019-03-26  167000.0\n",
       "2019-03-28  840000.0\n",
       "2019-03-29  618990.0"
      ]
     },
     "metadata": {},
     "output_type": "display_data"
    }
   ],
   "source": [
    "# Create a DataFrame containing the average home sale per day for the\n",
    "# first three months of 2019 using the \"saleAmt\" and \"saleDate\" columns \n",
    "# Group by \"saleDate\" and then take the mean and sort by \"saleDate\" \n",
    "average_sales_per_date_2019 = (\n",
    "    home_sales_2019[[\"saleAmt\", \"saleDate\"]]\n",
    "    .groupby(\"saleDate\")\n",
    "    .mean()\n",
    "    .sort_values(\"saleDate\")\n",
    ")\n",
    "\n",
    "# Review the resulting Series\n",
    "display(average_sales_per_date_2019.head())\n",
    "display(average_sales_per_date_2019.tail())"
   ]
  },
  {
   "cell_type": "markdown",
   "metadata": {},
   "source": [
    "## Step 2: Use the `hvplot` function to generate a default line plot.\n",
    "  "
   ]
  },
  {
   "cell_type": "code",
   "execution_count": 16,
   "metadata": {},
   "outputs": [
    {
     "data": {},
     "metadata": {},
     "output_type": "display_data"
    },
    {
     "data": {
      "application/vnd.holoviews_exec.v0+json": "",
      "text/html": [
       "<div id='1834'>\n",
       "\n",
       "\n",
       "\n",
       "\n",
       "\n",
       "  <div class=\"bk-root\" id=\"023d4527-c5d2-47fa-9034-ab78499e01a6\" data-root-id=\"1834\"></div>\n",
       "</div>\n",
       "<script type=\"application/javascript\">(function(root) {\n",
       "  function embed_document(root) {\n",
       "    var docs_json = {\"ea697036-57dd-4520-ac83-6847244713e9\":{\"defs\":[{\"extends\":null,\"module\":null,\"name\":\"ReactiveHTML1\",\"overrides\":[],\"properties\":[]},{\"extends\":null,\"module\":null,\"name\":\"FlexBox1\",\"overrides\":[],\"properties\":[{\"default\":\"flex-start\",\"kind\":null,\"name\":\"align_content\"},{\"default\":\"flex-start\",\"kind\":null,\"name\":\"align_items\"},{\"default\":\"row\",\"kind\":null,\"name\":\"flex_direction\"},{\"default\":\"wrap\",\"kind\":null,\"name\":\"flex_wrap\"},{\"default\":\"flex-start\",\"kind\":null,\"name\":\"justify_content\"}]},{\"extends\":null,\"module\":null,\"name\":\"GridStack1\",\"overrides\":[],\"properties\":[{\"default\":\"warn\",\"kind\":null,\"name\":\"mode\"},{\"default\":null,\"kind\":null,\"name\":\"ncols\"},{\"default\":null,\"kind\":null,\"name\":\"nrows\"},{\"default\":true,\"kind\":null,\"name\":\"allow_resize\"},{\"default\":true,\"kind\":null,\"name\":\"allow_drag\"},{\"default\":[],\"kind\":null,\"name\":\"state\"}]},{\"extends\":null,\"module\":null,\"name\":\"click1\",\"overrides\":[],\"properties\":[{\"default\":\"\",\"kind\":null,\"name\":\"terminal_output\"},{\"default\":\"\",\"kind\":null,\"name\":\"debug_name\"},{\"default\":0,\"kind\":null,\"name\":\"clears\"}]},{\"extends\":null,\"module\":null,\"name\":\"TemplateActions1\",\"overrides\":[],\"properties\":[{\"default\":0,\"kind\":null,\"name\":\"open_modal\"},{\"default\":0,\"kind\":null,\"name\":\"close_modal\"}]},{\"extends\":null,\"module\":null,\"name\":\"MaterialTemplateActions1\",\"overrides\":[],\"properties\":[{\"default\":0,\"kind\":null,\"name\":\"open_modal\"},{\"default\":0,\"kind\":null,\"name\":\"close_modal\"}]}],\"roots\":{\"references\":[{\"attributes\":{\"line_color\":\"#30a2da\",\"line_width\":2,\"x\":{\"field\":\"saleDate\"},\"y\":{\"field\":\"saleAmt\"}},\"id\":\"1871\",\"type\":\"Line\"},{\"attributes\":{\"axis\":{\"id\":\"1848\"},\"coordinates\":null,\"grid_line_color\":null,\"group\":null,\"ticker\":null},\"id\":\"1850\",\"type\":\"Grid\"},{\"attributes\":{\"line_alpha\":0.1,\"line_color\":\"#30a2da\",\"line_width\":2,\"x\":{\"field\":\"saleDate\"},\"y\":{\"field\":\"saleAmt\"}},\"id\":\"1872\",\"type\":\"Line\"},{\"attributes\":{},\"id\":\"1856\",\"type\":\"PanTool\"},{\"attributes\":{},\"id\":\"1849\",\"type\":\"CategoricalTicker\"},{\"attributes\":{\"coordinates\":null,\"data_source\":{\"id\":\"1868\"},\"glyph\":{\"id\":\"1871\"},\"group\":null,\"hover_glyph\":null,\"muted_glyph\":{\"id\":\"1873\"},\"nonselection_glyph\":{\"id\":\"1872\"},\"selection_glyph\":{\"id\":\"1876\"},\"view\":{\"id\":\"1875\"}},\"id\":\"1874\",\"type\":\"GlyphRenderer\"},{\"attributes\":{\"axis_label\":\"saleAmt\",\"coordinates\":null,\"formatter\":{\"id\":\"1881\"},\"group\":null,\"major_label_policy\":{\"id\":\"1882\"},\"ticker\":{\"id\":\"1852\"}},\"id\":\"1851\",\"type\":\"LinearAxis\"},{\"attributes\":{},\"id\":\"1878\",\"type\":\"CategoricalTickFormatter\"},{\"attributes\":{},\"id\":\"1852\",\"type\":\"BasicTicker\"},{\"attributes\":{},\"id\":\"1869\",\"type\":\"Selection\"},{\"attributes\":{},\"id\":\"1857\",\"type\":\"WheelZoomTool\"},{\"attributes\":{\"margin\":[5,5,5,5],\"name\":\"HSpacer03327\",\"sizing_mode\":\"stretch_width\"},\"id\":\"1835\",\"type\":\"Spacer\"},{\"attributes\":{},\"id\":\"1855\",\"type\":\"SaveTool\"},{\"attributes\":{\"line_alpha\":0.2,\"line_color\":\"#30a2da\",\"line_width\":2,\"x\":{\"field\":\"saleDate\"},\"y\":{\"field\":\"saleAmt\"}},\"id\":\"1873\",\"type\":\"Line\"},{\"attributes\":{\"overlay\":{\"id\":\"1860\"}},\"id\":\"1858\",\"type\":\"BoxZoomTool\"},{\"attributes\":{\"source\":{\"id\":\"1868\"}},\"id\":\"1875\",\"type\":\"CDSView\"},{\"attributes\":{},\"id\":\"1859\",\"type\":\"ResetTool\"},{\"attributes\":{\"line_color\":\"#30a2da\",\"line_width\":2,\"x\":{\"field\":\"saleDate\"},\"y\":{\"field\":\"saleAmt\"}},\"id\":\"1876\",\"type\":\"Line\"},{\"attributes\":{\"bottom_units\":\"screen\",\"coordinates\":null,\"fill_alpha\":0.5,\"fill_color\":\"lightgrey\",\"group\":null,\"left_units\":\"screen\",\"level\":\"overlay\",\"line_alpha\":1.0,\"line_color\":\"black\",\"line_dash\":[4,4],\"line_width\":2,\"right_units\":\"screen\",\"syncable\":false,\"top_units\":\"screen\"},\"id\":\"1860\",\"type\":\"BoxAnnotation\"},{\"attributes\":{\"below\":[{\"id\":\"1848\"}],\"center\":[{\"id\":\"1850\"},{\"id\":\"1854\"}],\"height\":300,\"left\":[{\"id\":\"1851\"}],\"margin\":[5,5,5,5],\"min_border_bottom\":10,\"min_border_left\":10,\"min_border_right\":10,\"min_border_top\":10,\"renderers\":[{\"id\":\"1874\"}],\"sizing_mode\":\"fixed\",\"title\":{\"id\":\"1840\"},\"toolbar\":{\"id\":\"1861\"},\"width\":700,\"x_range\":{\"id\":\"1836\"},\"x_scale\":{\"id\":\"1844\"},\"y_range\":{\"id\":\"1837\"},\"y_scale\":{\"id\":\"1846\"}},\"id\":\"1839\",\"subtype\":\"Figure\",\"type\":\"Plot\"},{\"attributes\":{\"tools\":[{\"id\":\"1838\"},{\"id\":\"1855\"},{\"id\":\"1856\"},{\"id\":\"1857\"},{\"id\":\"1858\"},{\"id\":\"1859\"}]},\"id\":\"1861\",\"type\":\"Toolbar\"},{\"attributes\":{},\"id\":\"1882\",\"type\":\"AllLabels\"},{\"attributes\":{},\"id\":\"1846\",\"type\":\"LinearScale\"},{\"attributes\":{\"callback\":null,\"renderers\":[{\"id\":\"1874\"}],\"tags\":[\"hv_created\"],\"tooltips\":[[\"saleDate\",\"@{saleDate}\"],[\"saleAmt\",\"@{saleAmt}\"]]},\"id\":\"1838\",\"type\":\"HoverTool\"},{\"attributes\":{\"factors\":[\"2019-01-04\",\"2019-01-07\",\"2019-01-08\",\"2019-01-09\",\"2019-01-15\",\"2019-01-16\",\"2019-01-18\",\"2019-01-21\",\"2019-01-22\",\"2019-01-23\",\"2019-01-25\",\"2019-01-28\",\"2019-01-29\",\"2019-01-30\",\"2019-01-31\",\"2019-02-01\",\"2019-02-04\",\"2019-02-05\",\"2019-02-06\",\"2019-02-11\",\"2019-02-13\",\"2019-02-14\",\"2019-02-15\",\"2019-02-19\",\"2019-02-21\",\"2019-02-22\",\"2019-02-25\",\"2019-02-26\",\"2019-02-27\",\"2019-02-28\",\"2019-03-01\",\"2019-03-04\",\"2019-03-05\",\"2019-03-06\",\"2019-03-08\",\"2019-03-13\",\"2019-03-14\",\"2019-03-15\",\"2019-03-18\",\"2019-03-19\",\"2019-03-20\",\"2019-03-22\",\"2019-03-25\",\"2019-03-26\",\"2019-03-28\",\"2019-03-29\"],\"tags\":[[[\"saleDate\",\"saleDate\",null]]]},\"id\":\"1836\",\"type\":\"FactorRange\"},{\"attributes\":{},\"id\":\"1879\",\"type\":\"AllLabels\"},{\"attributes\":{\"end\":1784800.0,\"reset_end\":1784800.0,\"reset_start\":-96800.0,\"start\":-96800.0,\"tags\":[[[\"saleAmt\",\"saleAmt\",null]]]},\"id\":\"1837\",\"type\":\"Range1d\"},{\"attributes\":{},\"id\":\"1844\",\"type\":\"CategoricalScale\"},{\"attributes\":{},\"id\":\"1890\",\"type\":\"UnionRenderers\"},{\"attributes\":{\"axis\":{\"id\":\"1851\"},\"coordinates\":null,\"dimension\":1,\"grid_line_color\":null,\"group\":null,\"ticker\":null},\"id\":\"1854\",\"type\":\"Grid\"},{\"attributes\":{\"children\":[{\"id\":\"1835\"},{\"id\":\"1839\"},{\"id\":\"1903\"}],\"margin\":[0,0,0,0],\"name\":\"Row03323\",\"tags\":[\"embedded\"]},\"id\":\"1834\",\"type\":\"Row\"},{\"attributes\":{\"data\":{\"saleAmt\":{\"__ndarray__\":\"AAAAACTVGkEAAAAA4KQWQQAAAABg1zhBAAAAAABw90AAAAAAGAcjQQAAAADIPDRBAAAAAKSTOEEAAAAAchQ4QQAAAABo5BdBAAAAAABM7UAAAAAAdHYgQQAAAADwsypBq6qqqgJWIkEAAAAAICkbQbdt27aNCydBAAAAAIC5IUEAAAAAJYYxQQAAAABAPCBBAAAAAGB4E0EAAAAAKCI1QQAAAACglxNBAAAAAMiQGkEAAAAA6PMkQQAAAADA6wJBAAAAACBUOEEAAACAxVAxQQAAAAAoQCBBAAAAAO8cHEEAAAAAoCACQQAAAABSjCdBVVVVVcmVHUGrqqqqitoUQQAAAAAYBxNBAAAAAABqKEEAAAAAoLn+QAAAAAAAz/xAzczMzHhEMEEAAAAAUMgUQQAAAABAPCBBAAAAAJgzJkEAAAAAzrAsQQAAAADA9yBBAAAAAGA2LkEAAAAAwGIEQQAAAACAoilBAAAAANzjIkE=\",\"dtype\":\"float64\",\"order\":\"little\",\"shape\":[46]},\"saleDate\":[\"2019-01-04\",\"2019-01-07\",\"2019-01-08\",\"2019-01-09\",\"2019-01-15\",\"2019-01-16\",\"2019-01-18\",\"2019-01-21\",\"2019-01-22\",\"2019-01-23\",\"2019-01-25\",\"2019-01-28\",\"2019-01-29\",\"2019-01-30\",\"2019-01-31\",\"2019-02-01\",\"2019-02-04\",\"2019-02-05\",\"2019-02-06\",\"2019-02-11\",\"2019-02-13\",\"2019-02-14\",\"2019-02-15\",\"2019-02-19\",\"2019-02-21\",\"2019-02-22\",\"2019-02-25\",\"2019-02-26\",\"2019-02-27\",\"2019-02-28\",\"2019-03-01\",\"2019-03-04\",\"2019-03-05\",\"2019-03-06\",\"2019-03-08\",\"2019-03-13\",\"2019-03-14\",\"2019-03-15\",\"2019-03-18\",\"2019-03-19\",\"2019-03-20\",\"2019-03-22\",\"2019-03-25\",\"2019-03-26\",\"2019-03-28\",\"2019-03-29\"]},\"selected\":{\"id\":\"1869\"},\"selection_policy\":{\"id\":\"1890\"}},\"id\":\"1868\",\"type\":\"ColumnDataSource\"},{\"attributes\":{},\"id\":\"1881\",\"type\":\"BasicTickFormatter\"},{\"attributes\":{\"coordinates\":null,\"group\":null,\"text_color\":\"black\",\"text_font_size\":\"12pt\"},\"id\":\"1840\",\"type\":\"Title\"},{\"attributes\":{\"margin\":[5,5,5,5],\"name\":\"HSpacer03328\",\"sizing_mode\":\"stretch_width\"},\"id\":\"1903\",\"type\":\"Spacer\"},{\"attributes\":{\"axis_label\":\"saleDate\",\"coordinates\":null,\"formatter\":{\"id\":\"1878\"},\"group\":null,\"major_label_policy\":{\"id\":\"1879\"},\"ticker\":{\"id\":\"1849\"}},\"id\":\"1848\",\"type\":\"CategoricalAxis\"}],\"root_ids\":[\"1834\"]},\"title\":\"Bokeh Application\",\"version\":\"2.4.2\"}};\n",
       "    var render_items = [{\"docid\":\"ea697036-57dd-4520-ac83-6847244713e9\",\"root_ids\":[\"1834\"],\"roots\":{\"1834\":\"023d4527-c5d2-47fa-9034-ab78499e01a6\"}}];\n",
       "    root.Bokeh.embed.embed_items_notebook(docs_json, render_items);\n",
       "  }\n",
       "  if (root.Bokeh !== undefined && root.Bokeh.Panel !== undefined) {\n",
       "    embed_document(root);\n",
       "  } else {\n",
       "    var attempts = 0;\n",
       "    var timer = setInterval(function(root) {\n",
       "      if (root.Bokeh !== undefined && root.Bokeh.Panel !== undefined) {\n",
       "        clearInterval(timer);\n",
       "        embed_document(root);\n",
       "      } else if (document.readyState == \"complete\") {\n",
       "        attempts++;\n",
       "        if (attempts > 200) {\n",
       "          clearInterval(timer);\n",
       "          console.log(\"Bokeh: ERROR: Unable to run BokehJS code because BokehJS library is missing\");\n",
       "        }\n",
       "      }\n",
       "    }, 25, root)\n",
       "  }\n",
       "})(window);</script>"
      ],
      "text/plain": [
       ":Curve   [saleDate]   (saleAmt)"
      ]
     },
     "execution_count": 16,
     "metadata": {
      "application/vnd.holoviews_exec.v0+json": {
       "id": "1834"
      }
     },
     "output_type": "execute_result"
    }
   ],
   "source": [
    "# Utilize the hvplot function to generate default line plot \n",
    "# to visualize the sales data for January through March 2019\n",
    "average_sales_per_date_2019.hvplot()"
   ]
  },
  {
   "cell_type": "markdown",
   "metadata": {},
   "source": [
    "## Step 3: To observe the data from a different perspective, plot a bar chart by using the `hvplot` function. Assign values to the x- and y-axes by using the `hvplot.bar(x='saleDate', y='saleAmt')` syntax."
   ]
  },
  {
   "cell_type": "code",
   "execution_count": 17,
   "metadata": {},
   "outputs": [
    {
     "data": {},
     "metadata": {},
     "output_type": "display_data"
    },
    {
     "data": {
      "application/vnd.holoviews_exec.v0+json": "",
      "text/html": [
       "<div id='1955'>\n",
       "\n",
       "\n",
       "\n",
       "\n",
       "\n",
       "  <div class=\"bk-root\" id=\"579ca062-c09a-4dbd-a29a-c98a29d33e26\" data-root-id=\"1955\"></div>\n",
       "</div>\n",
       "<script type=\"application/javascript\">(function(root) {\n",
       "  function embed_document(root) {\n",
       "    var docs_json = {\"543a6f61-ea94-4f72-b500-e7a1218b178b\":{\"defs\":[{\"extends\":null,\"module\":null,\"name\":\"ReactiveHTML1\",\"overrides\":[],\"properties\":[]},{\"extends\":null,\"module\":null,\"name\":\"FlexBox1\",\"overrides\":[],\"properties\":[{\"default\":\"flex-start\",\"kind\":null,\"name\":\"align_content\"},{\"default\":\"flex-start\",\"kind\":null,\"name\":\"align_items\"},{\"default\":\"row\",\"kind\":null,\"name\":\"flex_direction\"},{\"default\":\"wrap\",\"kind\":null,\"name\":\"flex_wrap\"},{\"default\":\"flex-start\",\"kind\":null,\"name\":\"justify_content\"}]},{\"extends\":null,\"module\":null,\"name\":\"GridStack1\",\"overrides\":[],\"properties\":[{\"default\":\"warn\",\"kind\":null,\"name\":\"mode\"},{\"default\":null,\"kind\":null,\"name\":\"ncols\"},{\"default\":null,\"kind\":null,\"name\":\"nrows\"},{\"default\":true,\"kind\":null,\"name\":\"allow_resize\"},{\"default\":true,\"kind\":null,\"name\":\"allow_drag\"},{\"default\":[],\"kind\":null,\"name\":\"state\"}]},{\"extends\":null,\"module\":null,\"name\":\"click1\",\"overrides\":[],\"properties\":[{\"default\":\"\",\"kind\":null,\"name\":\"terminal_output\"},{\"default\":\"\",\"kind\":null,\"name\":\"debug_name\"},{\"default\":0,\"kind\":null,\"name\":\"clears\"}]},{\"extends\":null,\"module\":null,\"name\":\"TemplateActions1\",\"overrides\":[],\"properties\":[{\"default\":0,\"kind\":null,\"name\":\"open_modal\"},{\"default\":0,\"kind\":null,\"name\":\"close_modal\"}]},{\"extends\":null,\"module\":null,\"name\":\"MaterialTemplateActions1\",\"overrides\":[],\"properties\":[{\"default\":0,\"kind\":null,\"name\":\"open_modal\"},{\"default\":0,\"kind\":null,\"name\":\"close_modal\"}]}],\"roots\":{\"references\":[{\"attributes\":{\"fill_color\":{\"value\":\"#30a2da\"},\"hatch_color\":{\"value\":\"#30a2da\"},\"top\":{\"field\":\"saleAmt\"},\"width\":{\"value\":0.8},\"x\":{\"field\":\"saleDate\"}},\"id\":\"1992\",\"type\":\"VBar\"},{\"attributes\":{},\"id\":\"1970\",\"type\":\"CategoricalTicker\"},{\"attributes\":{},\"id\":\"2003\",\"type\":\"AllLabels\"},{\"attributes\":{\"axis\":{\"id\":\"1969\"},\"coordinates\":null,\"grid_line_color\":null,\"group\":null,\"ticker\":null},\"id\":\"1971\",\"type\":\"Grid\"},{\"attributes\":{},\"id\":\"1977\",\"type\":\"PanTool\"},{\"attributes\":{\"axis_label\":\"saleAmt\",\"coordinates\":null,\"formatter\":{\"id\":\"2002\"},\"group\":null,\"major_label_policy\":{\"id\":\"2003\"},\"ticker\":{\"id\":\"1973\"}},\"id\":\"1972\",\"type\":\"LinearAxis\"},{\"attributes\":{\"axis\":{\"id\":\"1972\"},\"coordinates\":null,\"dimension\":1,\"grid_line_color\":null,\"group\":null,\"ticker\":null},\"id\":\"1975\",\"type\":\"Grid\"},{\"attributes\":{},\"id\":\"1973\",\"type\":\"BasicTicker\"},{\"attributes\":{},\"id\":\"1978\",\"type\":\"WheelZoomTool\"},{\"attributes\":{\"factors\":[\"2019-01-04\",\"2019-01-07\",\"2019-01-08\",\"2019-01-09\",\"2019-01-15\",\"2019-01-16\",\"2019-01-18\",\"2019-01-21\",\"2019-01-22\",\"2019-01-23\",\"2019-01-25\",\"2019-01-28\",\"2019-01-29\",\"2019-01-30\",\"2019-01-31\",\"2019-02-01\",\"2019-02-04\",\"2019-02-05\",\"2019-02-06\",\"2019-02-11\",\"2019-02-13\",\"2019-02-14\",\"2019-02-15\",\"2019-02-19\",\"2019-02-21\",\"2019-02-22\",\"2019-02-25\",\"2019-02-26\",\"2019-02-27\",\"2019-02-28\",\"2019-03-01\",\"2019-03-04\",\"2019-03-05\",\"2019-03-06\",\"2019-03-08\",\"2019-03-13\",\"2019-03-14\",\"2019-03-15\",\"2019-03-18\",\"2019-03-19\",\"2019-03-20\",\"2019-03-22\",\"2019-03-25\",\"2019-03-26\",\"2019-03-28\",\"2019-03-29\"],\"tags\":[[[\"saleDate\",\"saleDate\",null]]]},\"id\":\"1957\",\"type\":\"FactorRange\"},{\"attributes\":{},\"id\":\"1976\",\"type\":\"SaveTool\"},{\"attributes\":{\"data\":{\"saleAmt\":{\"__ndarray__\":\"AAAAACTVGkEAAAAA4KQWQQAAAABg1zhBAAAAAABw90AAAAAAGAcjQQAAAADIPDRBAAAAAKSTOEEAAAAAchQ4QQAAAABo5BdBAAAAAABM7UAAAAAAdHYgQQAAAADwsypBq6qqqgJWIkEAAAAAICkbQbdt27aNCydBAAAAAIC5IUEAAAAAJYYxQQAAAABAPCBBAAAAAGB4E0EAAAAAKCI1QQAAAACglxNBAAAAAMiQGkEAAAAA6PMkQQAAAADA6wJBAAAAACBUOEEAAACAxVAxQQAAAAAoQCBBAAAAAO8cHEEAAAAAoCACQQAAAABSjCdBVVVVVcmVHUGrqqqqitoUQQAAAAAYBxNBAAAAAABqKEEAAAAAoLn+QAAAAAAAz/xAzczMzHhEMEEAAAAAUMgUQQAAAABAPCBBAAAAAJgzJkEAAAAAzrAsQQAAAADA9yBBAAAAAGA2LkEAAAAAwGIEQQAAAACAoilBAAAAANzjIkE=\",\"dtype\":\"float64\",\"order\":\"little\",\"shape\":[46]},\"saleDate\":[\"2019-01-04\",\"2019-01-07\",\"2019-01-08\",\"2019-01-09\",\"2019-01-15\",\"2019-01-16\",\"2019-01-18\",\"2019-01-21\",\"2019-01-22\",\"2019-01-23\",\"2019-01-25\",\"2019-01-28\",\"2019-01-29\",\"2019-01-30\",\"2019-01-31\",\"2019-02-01\",\"2019-02-04\",\"2019-02-05\",\"2019-02-06\",\"2019-02-11\",\"2019-02-13\",\"2019-02-14\",\"2019-02-15\",\"2019-02-19\",\"2019-02-21\",\"2019-02-22\",\"2019-02-25\",\"2019-02-26\",\"2019-02-27\",\"2019-02-28\",\"2019-03-01\",\"2019-03-04\",\"2019-03-05\",\"2019-03-06\",\"2019-03-08\",\"2019-03-13\",\"2019-03-14\",\"2019-03-15\",\"2019-03-18\",\"2019-03-19\",\"2019-03-20\",\"2019-03-22\",\"2019-03-25\",\"2019-03-26\",\"2019-03-28\",\"2019-03-29\"]},\"selected\":{\"id\":\"1990\"},\"selection_policy\":{\"id\":\"2011\"}},\"id\":\"1989\",\"type\":\"ColumnDataSource\"},{\"attributes\":{\"overlay\":{\"id\":\"1981\"}},\"id\":\"1979\",\"type\":\"BoxZoomTool\"},{\"attributes\":{},\"id\":\"1980\",\"type\":\"ResetTool\"},{\"attributes\":{\"bottom_units\":\"screen\",\"coordinates\":null,\"fill_alpha\":0.5,\"fill_color\":\"lightgrey\",\"group\":null,\"left_units\":\"screen\",\"level\":\"overlay\",\"line_alpha\":1.0,\"line_color\":\"black\",\"line_dash\":[4,4],\"line_width\":2,\"right_units\":\"screen\",\"syncable\":false,\"top_units\":\"screen\"},\"id\":\"1981\",\"type\":\"BoxAnnotation\"},{\"attributes\":{\"bottom\":{\"value\":0},\"fill_alpha\":{\"value\":1.0},\"fill_color\":{\"value\":\"#30a2da\"},\"hatch_alpha\":{\"value\":1.0},\"hatch_color\":{\"value\":\"#30a2da\"},\"hatch_scale\":{\"value\":12.0},\"hatch_weight\":{\"value\":1.0},\"line_alpha\":{\"value\":1.0},\"line_cap\":{\"value\":\"butt\"},\"line_color\":{\"value\":\"black\"},\"line_dash\":{\"value\":[]},\"line_dash_offset\":{\"value\":0},\"line_join\":{\"value\":\"bevel\"},\"line_width\":{\"value\":1},\"top\":{\"field\":\"saleAmt\"},\"width\":{\"value\":0.8},\"x\":{\"field\":\"saleDate\"}},\"id\":\"1997\",\"type\":\"VBar\"},{\"attributes\":{\"coordinates\":null,\"data_source\":{\"id\":\"1989\"},\"glyph\":{\"id\":\"1992\"},\"group\":null,\"hover_glyph\":null,\"muted_glyph\":{\"id\":\"1994\"},\"nonselection_glyph\":{\"id\":\"1993\"},\"selection_glyph\":{\"id\":\"1997\"},\"view\":{\"id\":\"1996\"}},\"id\":\"1995\",\"type\":\"GlyphRenderer\"},{\"attributes\":{},\"id\":\"1990\",\"type\":\"Selection\"},{\"attributes\":{\"source\":{\"id\":\"1989\"}},\"id\":\"1996\",\"type\":\"CDSView\"},{\"attributes\":{\"below\":[{\"id\":\"1969\"}],\"center\":[{\"id\":\"1971\"},{\"id\":\"1975\"}],\"height\":300,\"left\":[{\"id\":\"1972\"}],\"margin\":[5,5,5,5],\"min_border_bottom\":10,\"min_border_left\":10,\"min_border_right\":10,\"min_border_top\":10,\"renderers\":[{\"id\":\"1995\"}],\"sizing_mode\":\"fixed\",\"title\":{\"id\":\"1961\"},\"toolbar\":{\"id\":\"1982\"},\"width\":700,\"x_range\":{\"id\":\"1957\"},\"x_scale\":{\"id\":\"1965\"},\"y_range\":{\"id\":\"1958\"},\"y_scale\":{\"id\":\"1967\"}},\"id\":\"1960\",\"subtype\":\"Figure\",\"type\":\"Plot\"},{\"attributes\":{\"fill_alpha\":{\"value\":0.2},\"fill_color\":{\"value\":\"#30a2da\"},\"hatch_alpha\":{\"value\":0.2},\"hatch_color\":{\"value\":\"#30a2da\"},\"line_alpha\":{\"value\":0.2},\"top\":{\"field\":\"saleAmt\"},\"width\":{\"value\":0.8},\"x\":{\"field\":\"saleDate\"}},\"id\":\"1994\",\"type\":\"VBar\"},{\"attributes\":{},\"id\":\"1965\",\"type\":\"CategoricalScale\"},{\"attributes\":{},\"id\":\"1999\",\"type\":\"CategoricalTickFormatter\"},{\"attributes\":{\"children\":[{\"id\":\"1956\"},{\"id\":\"1960\"},{\"id\":\"2024\"}],\"margin\":[0,0,0,0],\"name\":\"Row03558\",\"tags\":[\"embedded\"]},\"id\":\"1955\",\"type\":\"Row\"},{\"attributes\":{\"callback\":null,\"renderers\":[{\"id\":\"1995\"}],\"tags\":[\"hv_created\"],\"tooltips\":[[\"saleDate\",\"@{saleDate}\"],[\"saleAmt\",\"@{saleAmt}\"]]},\"id\":\"1959\",\"type\":\"HoverTool\"},{\"attributes\":{},\"id\":\"2002\",\"type\":\"BasicTickFormatter\"},{\"attributes\":{\"coordinates\":null,\"group\":null,\"text_color\":\"black\",\"text_font_size\":\"12pt\"},\"id\":\"1961\",\"type\":\"Title\"},{\"attributes\":{\"tools\":[{\"id\":\"1959\"},{\"id\":\"1976\"},{\"id\":\"1977\"},{\"id\":\"1978\"},{\"id\":\"1979\"},{\"id\":\"1980\"}]},\"id\":\"1982\",\"type\":\"Toolbar\"},{\"attributes\":{\"margin\":[5,5,5,5],\"name\":\"HSpacer03563\",\"sizing_mode\":\"stretch_width\"},\"id\":\"2024\",\"type\":\"Spacer\"},{\"attributes\":{\"axis_label\":\"saleDate\",\"coordinates\":null,\"formatter\":{\"id\":\"1999\"},\"group\":null,\"major_label_policy\":{\"id\":\"2000\"},\"ticker\":{\"id\":\"1970\"}},\"id\":\"1969\",\"type\":\"CategoricalAxis\"},{\"attributes\":{},\"id\":\"2011\",\"type\":\"UnionRenderers\"},{\"attributes\":{\"end\":1784800.0,\"reset_end\":1784800.0,\"reset_start\":0.0,\"tags\":[[[\"saleAmt\",\"saleAmt\",null]]]},\"id\":\"1958\",\"type\":\"Range1d\"},{\"attributes\":{\"margin\":[5,5,5,5],\"name\":\"HSpacer03562\",\"sizing_mode\":\"stretch_width\"},\"id\":\"1956\",\"type\":\"Spacer\"},{\"attributes\":{\"fill_alpha\":{\"value\":0.1},\"fill_color\":{\"value\":\"#30a2da\"},\"hatch_alpha\":{\"value\":0.1},\"hatch_color\":{\"value\":\"#30a2da\"},\"line_alpha\":{\"value\":0.1},\"top\":{\"field\":\"saleAmt\"},\"width\":{\"value\":0.8},\"x\":{\"field\":\"saleDate\"}},\"id\":\"1993\",\"type\":\"VBar\"},{\"attributes\":{},\"id\":\"2000\",\"type\":\"AllLabels\"},{\"attributes\":{},\"id\":\"1967\",\"type\":\"LinearScale\"}],\"root_ids\":[\"1955\"]},\"title\":\"Bokeh Application\",\"version\":\"2.4.2\"}};\n",
       "    var render_items = [{\"docid\":\"543a6f61-ea94-4f72-b500-e7a1218b178b\",\"root_ids\":[\"1955\"],\"roots\":{\"1955\":\"579ca062-c09a-4dbd-a29a-c98a29d33e26\"}}];\n",
       "    root.Bokeh.embed.embed_items_notebook(docs_json, render_items);\n",
       "  }\n",
       "  if (root.Bokeh !== undefined && root.Bokeh.Panel !== undefined) {\n",
       "    embed_document(root);\n",
       "  } else {\n",
       "    var attempts = 0;\n",
       "    var timer = setInterval(function(root) {\n",
       "      if (root.Bokeh !== undefined && root.Bokeh.Panel !== undefined) {\n",
       "        clearInterval(timer);\n",
       "        embed_document(root);\n",
       "      } else if (document.readyState == \"complete\") {\n",
       "        attempts++;\n",
       "        if (attempts > 200) {\n",
       "          clearInterval(timer);\n",
       "          console.log(\"Bokeh: ERROR: Unable to run BokehJS code because BokehJS library is missing\");\n",
       "        }\n",
       "      }\n",
       "    }, 25, root)\n",
       "  }\n",
       "})(window);</script>"
      ],
      "text/plain": [
       ":Bars   [saleDate]   (saleAmt)"
      ]
     },
     "execution_count": 17,
     "metadata": {
      "application/vnd.holoviews_exec.v0+json": {
       "id": "1955"
      }
     },
     "output_type": "execute_result"
    }
   ],
   "source": [
    "# Plot bar chart of the sales data for the first 3 months of 2019 \n",
    "# Specify the variables for the x- and y-axes using the syntax (x='saleDate', y='saleAmt')\n",
    "average_sales_per_date_2019.hvplot.bar(\n",
    "    x='saleDate', \n",
    "    y='saleAmt'\n",
    ")"
   ]
  },
  {
   "cell_type": "markdown",
   "metadata": {},
   "source": [
    "### Step 4: Using the code from the previous plot, add the `rot` parameter to rotate the x-axis labels by 90 degrees. Then create appropriate labels for the x- and y-axes: `xlabel=\"Sale Date\"` and `ylabel=\"Average Sale Amount\"`."
   ]
  },
  {
   "cell_type": "code",
   "execution_count": 18,
   "metadata": {},
   "outputs": [
    {
     "data": {},
     "metadata": {},
     "output_type": "display_data"
    },
    {
     "data": {
      "application/vnd.holoviews_exec.v0+json": "",
      "text/html": [
       "<div id='2076'>\n",
       "\n",
       "\n",
       "\n",
       "\n",
       "\n",
       "  <div class=\"bk-root\" id=\"5dae9a5d-a1df-40f0-8201-d24b3e2f0562\" data-root-id=\"2076\"></div>\n",
       "</div>\n",
       "<script type=\"application/javascript\">(function(root) {\n",
       "  function embed_document(root) {\n",
       "    var docs_json = {\"e44a1866-a2de-417b-b649-560dc016dfb7\":{\"defs\":[{\"extends\":null,\"module\":null,\"name\":\"ReactiveHTML1\",\"overrides\":[],\"properties\":[]},{\"extends\":null,\"module\":null,\"name\":\"FlexBox1\",\"overrides\":[],\"properties\":[{\"default\":\"flex-start\",\"kind\":null,\"name\":\"align_content\"},{\"default\":\"flex-start\",\"kind\":null,\"name\":\"align_items\"},{\"default\":\"row\",\"kind\":null,\"name\":\"flex_direction\"},{\"default\":\"wrap\",\"kind\":null,\"name\":\"flex_wrap\"},{\"default\":\"flex-start\",\"kind\":null,\"name\":\"justify_content\"}]},{\"extends\":null,\"module\":null,\"name\":\"GridStack1\",\"overrides\":[],\"properties\":[{\"default\":\"warn\",\"kind\":null,\"name\":\"mode\"},{\"default\":null,\"kind\":null,\"name\":\"ncols\"},{\"default\":null,\"kind\":null,\"name\":\"nrows\"},{\"default\":true,\"kind\":null,\"name\":\"allow_resize\"},{\"default\":true,\"kind\":null,\"name\":\"allow_drag\"},{\"default\":[],\"kind\":null,\"name\":\"state\"}]},{\"extends\":null,\"module\":null,\"name\":\"click1\",\"overrides\":[],\"properties\":[{\"default\":\"\",\"kind\":null,\"name\":\"terminal_output\"},{\"default\":\"\",\"kind\":null,\"name\":\"debug_name\"},{\"default\":0,\"kind\":null,\"name\":\"clears\"}]},{\"extends\":null,\"module\":null,\"name\":\"TemplateActions1\",\"overrides\":[],\"properties\":[{\"default\":0,\"kind\":null,\"name\":\"open_modal\"},{\"default\":0,\"kind\":null,\"name\":\"close_modal\"}]},{\"extends\":null,\"module\":null,\"name\":\"MaterialTemplateActions1\",\"overrides\":[],\"properties\":[{\"default\":0,\"kind\":null,\"name\":\"open_modal\"},{\"default\":0,\"kind\":null,\"name\":\"close_modal\"}]}],\"roots\":{\"references\":[{\"attributes\":{\"overlay\":{\"id\":\"2102\"}},\"id\":\"2100\",\"type\":\"BoxZoomTool\"},{\"attributes\":{},\"id\":\"2101\",\"type\":\"ResetTool\"},{\"attributes\":{\"source\":{\"id\":\"2110\"}},\"id\":\"2117\",\"type\":\"CDSView\"},{\"attributes\":{\"data\":{\"saleAmt\":{\"__ndarray__\":\"AAAAACTVGkEAAAAA4KQWQQAAAABg1zhBAAAAAABw90AAAAAAGAcjQQAAAADIPDRBAAAAAKSTOEEAAAAAchQ4QQAAAABo5BdBAAAAAABM7UAAAAAAdHYgQQAAAADwsypBq6qqqgJWIkEAAAAAICkbQbdt27aNCydBAAAAAIC5IUEAAAAAJYYxQQAAAABAPCBBAAAAAGB4E0EAAAAAKCI1QQAAAACglxNBAAAAAMiQGkEAAAAA6PMkQQAAAADA6wJBAAAAACBUOEEAAACAxVAxQQAAAAAoQCBBAAAAAO8cHEEAAAAAoCACQQAAAABSjCdBVVVVVcmVHUGrqqqqitoUQQAAAAAYBxNBAAAAAABqKEEAAAAAoLn+QAAAAAAAz/xAzczMzHhEMEEAAAAAUMgUQQAAAABAPCBBAAAAAJgzJkEAAAAAzrAsQQAAAADA9yBBAAAAAGA2LkEAAAAAwGIEQQAAAACAoilBAAAAANzjIkE=\",\"dtype\":\"float64\",\"order\":\"little\",\"shape\":[46]},\"saleDate\":[\"2019-01-04\",\"2019-01-07\",\"2019-01-08\",\"2019-01-09\",\"2019-01-15\",\"2019-01-16\",\"2019-01-18\",\"2019-01-21\",\"2019-01-22\",\"2019-01-23\",\"2019-01-25\",\"2019-01-28\",\"2019-01-29\",\"2019-01-30\",\"2019-01-31\",\"2019-02-01\",\"2019-02-04\",\"2019-02-05\",\"2019-02-06\",\"2019-02-11\",\"2019-02-13\",\"2019-02-14\",\"2019-02-15\",\"2019-02-19\",\"2019-02-21\",\"2019-02-22\",\"2019-02-25\",\"2019-02-26\",\"2019-02-27\",\"2019-02-28\",\"2019-03-01\",\"2019-03-04\",\"2019-03-05\",\"2019-03-06\",\"2019-03-08\",\"2019-03-13\",\"2019-03-14\",\"2019-03-15\",\"2019-03-18\",\"2019-03-19\",\"2019-03-20\",\"2019-03-22\",\"2019-03-25\",\"2019-03-26\",\"2019-03-28\",\"2019-03-29\"]},\"selected\":{\"id\":\"2111\"},\"selection_policy\":{\"id\":\"2132\"}},\"id\":\"2110\",\"type\":\"ColumnDataSource\"},{\"attributes\":{\"bottom_units\":\"screen\",\"coordinates\":null,\"fill_alpha\":0.5,\"fill_color\":\"lightgrey\",\"group\":null,\"left_units\":\"screen\",\"level\":\"overlay\",\"line_alpha\":1.0,\"line_color\":\"black\",\"line_dash\":[4,4],\"line_width\":2,\"right_units\":\"screen\",\"syncable\":false,\"top_units\":\"screen\"},\"id\":\"2102\",\"type\":\"BoxAnnotation\"},{\"attributes\":{\"bottom\":{\"value\":0},\"fill_alpha\":{\"value\":1.0},\"fill_color\":{\"value\":\"#30a2da\"},\"hatch_alpha\":{\"value\":1.0},\"hatch_color\":{\"value\":\"#30a2da\"},\"hatch_scale\":{\"value\":12.0},\"hatch_weight\":{\"value\":1.0},\"line_alpha\":{\"value\":1.0},\"line_cap\":{\"value\":\"butt\"},\"line_color\":{\"value\":\"black\"},\"line_dash\":{\"value\":[]},\"line_dash_offset\":{\"value\":0},\"line_join\":{\"value\":\"bevel\"},\"line_width\":{\"value\":1},\"top\":{\"field\":\"saleAmt\"},\"width\":{\"value\":0.8},\"x\":{\"field\":\"saleDate\"}},\"id\":\"2118\",\"type\":\"VBar\"},{\"attributes\":{},\"id\":\"2121\",\"type\":\"AllLabels\"},{\"attributes\":{\"axis\":{\"id\":\"2090\"},\"coordinates\":null,\"grid_line_color\":null,\"group\":null,\"ticker\":null},\"id\":\"2092\",\"type\":\"Grid\"},{\"attributes\":{\"tools\":[{\"id\":\"2080\"},{\"id\":\"2097\"},{\"id\":\"2098\"},{\"id\":\"2099\"},{\"id\":\"2100\"},{\"id\":\"2101\"}]},\"id\":\"2103\",\"type\":\"Toolbar\"},{\"attributes\":{\"margin\":[5,5,5,5],\"name\":\"HSpacer03768\",\"sizing_mode\":\"stretch_width\"},\"id\":\"2145\",\"type\":\"Spacer\"},{\"attributes\":{},\"id\":\"2111\",\"type\":\"Selection\"},{\"attributes\":{\"coordinates\":null,\"data_source\":{\"id\":\"2110\"},\"glyph\":{\"id\":\"2113\"},\"group\":null,\"hover_glyph\":null,\"muted_glyph\":{\"id\":\"2115\"},\"nonselection_glyph\":{\"id\":\"2114\"},\"selection_glyph\":{\"id\":\"2118\"},\"view\":{\"id\":\"2117\"}},\"id\":\"2116\",\"type\":\"GlyphRenderer\"},{\"attributes\":{\"end\":1784800.0,\"reset_end\":1784800.0,\"reset_start\":0.0,\"tags\":[[[\"saleAmt\",\"saleAmt\",null]]]},\"id\":\"2079\",\"type\":\"Range1d\"},{\"attributes\":{\"coordinates\":null,\"group\":null,\"text_color\":\"black\",\"text_font_size\":\"12pt\"},\"id\":\"2082\",\"type\":\"Title\"},{\"attributes\":{\"fill_color\":{\"value\":\"#30a2da\"},\"hatch_color\":{\"value\":\"#30a2da\"},\"top\":{\"field\":\"saleAmt\"},\"width\":{\"value\":0.8},\"x\":{\"field\":\"saleDate\"}},\"id\":\"2113\",\"type\":\"VBar\"},{\"attributes\":{\"factors\":[\"2019-01-04\",\"2019-01-07\",\"2019-01-08\",\"2019-01-09\",\"2019-01-15\",\"2019-01-16\",\"2019-01-18\",\"2019-01-21\",\"2019-01-22\",\"2019-01-23\",\"2019-01-25\",\"2019-01-28\",\"2019-01-29\",\"2019-01-30\",\"2019-01-31\",\"2019-02-01\",\"2019-02-04\",\"2019-02-05\",\"2019-02-06\",\"2019-02-11\",\"2019-02-13\",\"2019-02-14\",\"2019-02-15\",\"2019-02-19\",\"2019-02-21\",\"2019-02-22\",\"2019-02-25\",\"2019-02-26\",\"2019-02-27\",\"2019-02-28\",\"2019-03-01\",\"2019-03-04\",\"2019-03-05\",\"2019-03-06\",\"2019-03-08\",\"2019-03-13\",\"2019-03-14\",\"2019-03-15\",\"2019-03-18\",\"2019-03-19\",\"2019-03-20\",\"2019-03-22\",\"2019-03-25\",\"2019-03-26\",\"2019-03-28\",\"2019-03-29\"],\"tags\":[[[\"saleDate\",\"saleDate\",null]]]},\"id\":\"2078\",\"type\":\"FactorRange\"},{\"attributes\":{},\"id\":\"2088\",\"type\":\"LinearScale\"},{\"attributes\":{\"margin\":[5,5,5,5],\"name\":\"HSpacer03767\",\"sizing_mode\":\"stretch_width\"},\"id\":\"2077\",\"type\":\"Spacer\"},{\"attributes\":{\"fill_alpha\":{\"value\":0.2},\"fill_color\":{\"value\":\"#30a2da\"},\"hatch_alpha\":{\"value\":0.2},\"hatch_color\":{\"value\":\"#30a2da\"},\"line_alpha\":{\"value\":0.2},\"top\":{\"field\":\"saleAmt\"},\"width\":{\"value\":0.8},\"x\":{\"field\":\"saleDate\"}},\"id\":\"2115\",\"type\":\"VBar\"},{\"attributes\":{},\"id\":\"2132\",\"type\":\"UnionRenderers\"},{\"attributes\":{\"below\":[{\"id\":\"2090\"}],\"center\":[{\"id\":\"2092\"},{\"id\":\"2096\"}],\"height\":300,\"left\":[{\"id\":\"2093\"}],\"margin\":[5,5,5,5],\"min_border_bottom\":10,\"min_border_left\":10,\"min_border_right\":10,\"min_border_top\":10,\"renderers\":[{\"id\":\"2116\"}],\"sizing_mode\":\"fixed\",\"title\":{\"id\":\"2082\"},\"toolbar\":{\"id\":\"2103\"},\"width\":700,\"x_range\":{\"id\":\"2078\"},\"x_scale\":{\"id\":\"2086\"},\"y_range\":{\"id\":\"2079\"},\"y_scale\":{\"id\":\"2088\"}},\"id\":\"2081\",\"subtype\":\"Figure\",\"type\":\"Plot\"},{\"attributes\":{\"children\":[{\"id\":\"2077\"},{\"id\":\"2081\"},{\"id\":\"2145\"}],\"margin\":[0,0,0,0],\"name\":\"Row03763\",\"tags\":[\"embedded\"]},\"id\":\"2076\",\"type\":\"Row\"},{\"attributes\":{\"fill_alpha\":{\"value\":0.1},\"fill_color\":{\"value\":\"#30a2da\"},\"hatch_alpha\":{\"value\":0.1},\"hatch_color\":{\"value\":\"#30a2da\"},\"line_alpha\":{\"value\":0.1},\"top\":{\"field\":\"saleAmt\"},\"width\":{\"value\":0.8},\"x\":{\"field\":\"saleDate\"}},\"id\":\"2114\",\"type\":\"VBar\"},{\"attributes\":{\"axis_label\":\"Sale Date\",\"coordinates\":null,\"formatter\":{\"id\":\"2120\"},\"group\":null,\"major_label_orientation\":1.5707963267948966,\"major_label_policy\":{\"id\":\"2121\"},\"ticker\":{\"id\":\"2091\"}},\"id\":\"2090\",\"type\":\"CategoricalAxis\"},{\"attributes\":{},\"id\":\"2098\",\"type\":\"PanTool\"},{\"attributes\":{\"axis\":{\"id\":\"2093\"},\"coordinates\":null,\"dimension\":1,\"grid_line_color\":null,\"group\":null,\"ticker\":null},\"id\":\"2096\",\"type\":\"Grid\"},{\"attributes\":{},\"id\":\"2086\",\"type\":\"CategoricalScale\"},{\"attributes\":{\"callback\":null,\"renderers\":[{\"id\":\"2116\"}],\"tags\":[\"hv_created\"],\"tooltips\":[[\"saleDate\",\"@{saleDate}\"],[\"saleAmt\",\"@{saleAmt}\"]]},\"id\":\"2080\",\"type\":\"HoverTool\"},{\"attributes\":{},\"id\":\"2120\",\"type\":\"CategoricalTickFormatter\"},{\"attributes\":{},\"id\":\"2124\",\"type\":\"AllLabels\"},{\"attributes\":{},\"id\":\"2091\",\"type\":\"CategoricalTicker\"},{\"attributes\":{\"axis_label\":\"Average Sale Amount\",\"coordinates\":null,\"formatter\":{\"id\":\"2123\"},\"group\":null,\"major_label_policy\":{\"id\":\"2124\"},\"ticker\":{\"id\":\"2094\"}},\"id\":\"2093\",\"type\":\"LinearAxis\"},{\"attributes\":{},\"id\":\"2094\",\"type\":\"BasicTicker\"},{\"attributes\":{},\"id\":\"2123\",\"type\":\"BasicTickFormatter\"},{\"attributes\":{},\"id\":\"2099\",\"type\":\"WheelZoomTool\"},{\"attributes\":{},\"id\":\"2097\",\"type\":\"SaveTool\"}],\"root_ids\":[\"2076\"]},\"title\":\"Bokeh Application\",\"version\":\"2.4.2\"}};\n",
       "    var render_items = [{\"docid\":\"e44a1866-a2de-417b-b649-560dc016dfb7\",\"root_ids\":[\"2076\"],\"roots\":{\"2076\":\"5dae9a5d-a1df-40f0-8201-d24b3e2f0562\"}}];\n",
       "    root.Bokeh.embed.embed_items_notebook(docs_json, render_items);\n",
       "  }\n",
       "  if (root.Bokeh !== undefined && root.Bokeh.Panel !== undefined) {\n",
       "    embed_document(root);\n",
       "  } else {\n",
       "    var attempts = 0;\n",
       "    var timer = setInterval(function(root) {\n",
       "      if (root.Bokeh !== undefined && root.Bokeh.Panel !== undefined) {\n",
       "        clearInterval(timer);\n",
       "        embed_document(root);\n",
       "      } else if (document.readyState == \"complete\") {\n",
       "        attempts++;\n",
       "        if (attempts > 200) {\n",
       "          clearInterval(timer);\n",
       "          console.log(\"Bokeh: ERROR: Unable to run BokehJS code because BokehJS library is missing\");\n",
       "        }\n",
       "      }\n",
       "    }, 25, root)\n",
       "  }\n",
       "})(window);</script>"
      ],
      "text/plain": [
       ":Bars   [saleDate]   (saleAmt)"
      ]
     },
     "execution_count": 18,
     "metadata": {
      "application/vnd.holoviews_exec.v0+json": {
       "id": "2076"
      }
     },
     "output_type": "execute_result"
    }
   ],
   "source": [
    "# Using the code from the existing plot, include rotation of x-axis labels as well as labels for the x- and y-axes\n",
    "average_sales_per_date_2019.hvplot.bar(\n",
    "    x='saleDate', \n",
    "    y='saleAmt',\n",
    "    rot=90,\n",
    "    xlabel='Sale Date', \n",
    "    ylabel='Average Sale Amount'\n",
    ")"
   ]
  },
  {
   "cell_type": "markdown",
   "metadata": {},
   "source": [
    "## Step 5: Using the code from the previous plot, apply the `opts.(yformatter)` option to redisplay the y-axis labels as whole numbers (with zero decimal places). Given the values of the average home sales, you don’t need decimal places for this visualization. "
   ]
  },
  {
   "cell_type": "code",
   "execution_count": 19,
   "metadata": {},
   "outputs": [
    {
     "data": {},
     "metadata": {},
     "output_type": "display_data"
    },
    {
     "data": {
      "application/vnd.holoviews_exec.v0+json": "",
      "text/html": [
       "<div id='2197'>\n",
       "\n",
       "\n",
       "\n",
       "\n",
       "\n",
       "  <div class=\"bk-root\" id=\"de5a4a63-354f-4971-baf8-9f1e13064f79\" data-root-id=\"2197\"></div>\n",
       "</div>\n",
       "<script type=\"application/javascript\">(function(root) {\n",
       "  function embed_document(root) {\n",
       "    var docs_json = {\"bc21b6d8-954b-444a-9409-70a6c95688ef\":{\"defs\":[{\"extends\":null,\"module\":null,\"name\":\"ReactiveHTML1\",\"overrides\":[],\"properties\":[]},{\"extends\":null,\"module\":null,\"name\":\"FlexBox1\",\"overrides\":[],\"properties\":[{\"default\":\"flex-start\",\"kind\":null,\"name\":\"align_content\"},{\"default\":\"flex-start\",\"kind\":null,\"name\":\"align_items\"},{\"default\":\"row\",\"kind\":null,\"name\":\"flex_direction\"},{\"default\":\"wrap\",\"kind\":null,\"name\":\"flex_wrap\"},{\"default\":\"flex-start\",\"kind\":null,\"name\":\"justify_content\"}]},{\"extends\":null,\"module\":null,\"name\":\"GridStack1\",\"overrides\":[],\"properties\":[{\"default\":\"warn\",\"kind\":null,\"name\":\"mode\"},{\"default\":null,\"kind\":null,\"name\":\"ncols\"},{\"default\":null,\"kind\":null,\"name\":\"nrows\"},{\"default\":true,\"kind\":null,\"name\":\"allow_resize\"},{\"default\":true,\"kind\":null,\"name\":\"allow_drag\"},{\"default\":[],\"kind\":null,\"name\":\"state\"}]},{\"extends\":null,\"module\":null,\"name\":\"click1\",\"overrides\":[],\"properties\":[{\"default\":\"\",\"kind\":null,\"name\":\"terminal_output\"},{\"default\":\"\",\"kind\":null,\"name\":\"debug_name\"},{\"default\":0,\"kind\":null,\"name\":\"clears\"}]},{\"extends\":null,\"module\":null,\"name\":\"TemplateActions1\",\"overrides\":[],\"properties\":[{\"default\":0,\"kind\":null,\"name\":\"open_modal\"},{\"default\":0,\"kind\":null,\"name\":\"close_modal\"}]},{\"extends\":null,\"module\":null,\"name\":\"MaterialTemplateActions1\",\"overrides\":[],\"properties\":[{\"default\":0,\"kind\":null,\"name\":\"open_modal\"},{\"default\":0,\"kind\":null,\"name\":\"close_modal\"}]}],\"roots\":{\"references\":[{\"attributes\":{},\"id\":\"2207\",\"type\":\"CategoricalScale\"},{\"attributes\":{\"children\":[{\"id\":\"2198\"},{\"id\":\"2202\"},{\"id\":\"2267\"}],\"margin\":[0,0,0,0],\"name\":\"Row04012\",\"tags\":[\"embedded\"]},\"id\":\"2197\",\"type\":\"Row\"},{\"attributes\":{},\"id\":\"2209\",\"type\":\"LinearScale\"},{\"attributes\":{\"end\":1784800.0,\"reset_end\":1784800.0,\"reset_start\":0.0,\"tags\":[[[\"saleAmt\",\"saleAmt\",null]]]},\"id\":\"2200\",\"type\":\"Range1d\"},{\"attributes\":{\"margin\":[5,5,5,5],\"name\":\"HSpacer04016\",\"sizing_mode\":\"stretch_width\"},\"id\":\"2198\",\"type\":\"Spacer\"},{\"attributes\":{\"coordinates\":null,\"group\":null,\"text_color\":\"black\",\"text_font_size\":\"12pt\"},\"id\":\"2203\",\"type\":\"Title\"},{\"attributes\":{\"axis\":{\"id\":\"2214\"},\"coordinates\":null,\"dimension\":1,\"grid_line_color\":null,\"group\":null,\"ticker\":null},\"id\":\"2217\",\"type\":\"Grid\"},{\"attributes\":{},\"id\":\"2219\",\"type\":\"PanTool\"},{\"attributes\":{\"axis\":{\"id\":\"2211\"},\"coordinates\":null,\"grid_line_color\":null,\"group\":null,\"ticker\":null},\"id\":\"2213\",\"type\":\"Grid\"},{\"attributes\":{},\"id\":\"2212\",\"type\":\"CategoricalTicker\"},{\"attributes\":{\"axis_label\":\"Sale Date\",\"coordinates\":null,\"formatter\":{\"id\":\"2242\"},\"group\":null,\"major_label_orientation\":1.5707963267948966,\"major_label_policy\":{\"id\":\"2243\"},\"ticker\":{\"id\":\"2212\"}},\"id\":\"2211\",\"type\":\"CategoricalAxis\"},{\"attributes\":{},\"id\":\"2255\",\"type\":\"UnionRenderers\"},{\"attributes\":{\"fill_color\":{\"value\":\"#30a2da\"},\"hatch_color\":{\"value\":\"#30a2da\"},\"top\":{\"field\":\"saleAmt\"},\"width\":{\"value\":0.8},\"x\":{\"field\":\"saleDate\"}},\"id\":\"2234\",\"type\":\"VBar\"},{\"attributes\":{\"axis_label\":\"Average Sale Amount\",\"coordinates\":null,\"formatter\":{\"id\":\"2240\"},\"group\":null,\"major_label_policy\":{\"id\":\"2246\"},\"ticker\":{\"id\":\"2215\"}},\"id\":\"2214\",\"type\":\"LinearAxis\"},{\"attributes\":{},\"id\":\"2215\",\"type\":\"BasicTicker\"},{\"attributes\":{},\"id\":\"2220\",\"type\":\"WheelZoomTool\"},{\"attributes\":{},\"id\":\"2246\",\"type\":\"AllLabels\"},{\"attributes\":{\"factors\":[\"2019-01-04\",\"2019-01-07\",\"2019-01-08\",\"2019-01-09\",\"2019-01-15\",\"2019-01-16\",\"2019-01-18\",\"2019-01-21\",\"2019-01-22\",\"2019-01-23\",\"2019-01-25\",\"2019-01-28\",\"2019-01-29\",\"2019-01-30\",\"2019-01-31\",\"2019-02-01\",\"2019-02-04\",\"2019-02-05\",\"2019-02-06\",\"2019-02-11\",\"2019-02-13\",\"2019-02-14\",\"2019-02-15\",\"2019-02-19\",\"2019-02-21\",\"2019-02-22\",\"2019-02-25\",\"2019-02-26\",\"2019-02-27\",\"2019-02-28\",\"2019-03-01\",\"2019-03-04\",\"2019-03-05\",\"2019-03-06\",\"2019-03-08\",\"2019-03-13\",\"2019-03-14\",\"2019-03-15\",\"2019-03-18\",\"2019-03-19\",\"2019-03-20\",\"2019-03-22\",\"2019-03-25\",\"2019-03-26\",\"2019-03-28\",\"2019-03-29\"],\"tags\":[[[\"saleDate\",\"saleDate\",null]]]},\"id\":\"2199\",\"type\":\"FactorRange\"},{\"attributes\":{\"fill_alpha\":{\"value\":0.2},\"fill_color\":{\"value\":\"#30a2da\"},\"hatch_alpha\":{\"value\":0.2},\"hatch_color\":{\"value\":\"#30a2da\"},\"line_alpha\":{\"value\":0.2},\"top\":{\"field\":\"saleAmt\"},\"width\":{\"value\":0.8},\"x\":{\"field\":\"saleDate\"}},\"id\":\"2236\",\"type\":\"VBar\"},{\"attributes\":{},\"id\":\"2218\",\"type\":\"SaveTool\"},{\"attributes\":{\"source\":{\"id\":\"2231\"}},\"id\":\"2238\",\"type\":\"CDSView\"},{\"attributes\":{\"overlay\":{\"id\":\"2223\"}},\"id\":\"2221\",\"type\":\"BoxZoomTool\"},{\"attributes\":{\"below\":[{\"id\":\"2211\"}],\"center\":[{\"id\":\"2213\"},{\"id\":\"2217\"}],\"height\":300,\"left\":[{\"id\":\"2214\"}],\"margin\":[5,5,5,5],\"min_border_bottom\":10,\"min_border_left\":10,\"min_border_right\":10,\"min_border_top\":10,\"renderers\":[{\"id\":\"2237\"}],\"sizing_mode\":\"fixed\",\"title\":{\"id\":\"2203\"},\"toolbar\":{\"id\":\"2224\"},\"width\":700,\"x_range\":{\"id\":\"2199\"},\"x_scale\":{\"id\":\"2207\"},\"y_range\":{\"id\":\"2200\"},\"y_scale\":{\"id\":\"2209\"}},\"id\":\"2202\",\"subtype\":\"Figure\",\"type\":\"Plot\"},{\"attributes\":{\"coordinates\":null,\"data_source\":{\"id\":\"2231\"},\"glyph\":{\"id\":\"2234\"},\"group\":null,\"hover_glyph\":null,\"muted_glyph\":{\"id\":\"2236\"},\"nonselection_glyph\":{\"id\":\"2235\"},\"selection_glyph\":{\"id\":\"2239\"},\"view\":{\"id\":\"2238\"}},\"id\":\"2237\",\"type\":\"GlyphRenderer\"},{\"attributes\":{},\"id\":\"2222\",\"type\":\"ResetTool\"},{\"attributes\":{\"bottom_units\":\"screen\",\"coordinates\":null,\"fill_alpha\":0.5,\"fill_color\":\"lightgrey\",\"group\":null,\"left_units\":\"screen\",\"level\":\"overlay\",\"line_alpha\":1.0,\"line_color\":\"black\",\"line_dash\":[4,4],\"line_width\":2,\"right_units\":\"screen\",\"syncable\":false,\"top_units\":\"screen\"},\"id\":\"2223\",\"type\":\"BoxAnnotation\"},{\"attributes\":{\"margin\":[5,5,5,5],\"name\":\"HSpacer04017\",\"sizing_mode\":\"stretch_width\"},\"id\":\"2267\",\"type\":\"Spacer\"},{\"attributes\":{\"tools\":[{\"id\":\"2201\"},{\"id\":\"2218\"},{\"id\":\"2219\"},{\"id\":\"2220\"},{\"id\":\"2221\"},{\"id\":\"2222\"}]},\"id\":\"2224\",\"type\":\"Toolbar\"},{\"attributes\":{},\"id\":\"2242\",\"type\":\"CategoricalTickFormatter\"},{\"attributes\":{\"format\":\"%.0f\"},\"id\":\"2240\",\"type\":\"PrintfTickFormatter\"},{\"attributes\":{},\"id\":\"2232\",\"type\":\"Selection\"},{\"attributes\":{\"data\":{\"saleAmt\":{\"__ndarray__\":\"AAAAACTVGkEAAAAA4KQWQQAAAABg1zhBAAAAAABw90AAAAAAGAcjQQAAAADIPDRBAAAAAKSTOEEAAAAAchQ4QQAAAABo5BdBAAAAAABM7UAAAAAAdHYgQQAAAADwsypBq6qqqgJWIkEAAAAAICkbQbdt27aNCydBAAAAAIC5IUEAAAAAJYYxQQAAAABAPCBBAAAAAGB4E0EAAAAAKCI1QQAAAACglxNBAAAAAMiQGkEAAAAA6PMkQQAAAADA6wJBAAAAACBUOEEAAACAxVAxQQAAAAAoQCBBAAAAAO8cHEEAAAAAoCACQQAAAABSjCdBVVVVVcmVHUGrqqqqitoUQQAAAAAYBxNBAAAAAABqKEEAAAAAoLn+QAAAAAAAz/xAzczMzHhEMEEAAAAAUMgUQQAAAABAPCBBAAAAAJgzJkEAAAAAzrAsQQAAAADA9yBBAAAAAGA2LkEAAAAAwGIEQQAAAACAoilBAAAAANzjIkE=\",\"dtype\":\"float64\",\"order\":\"little\",\"shape\":[46]},\"saleDate\":[\"2019-01-04\",\"2019-01-07\",\"2019-01-08\",\"2019-01-09\",\"2019-01-15\",\"2019-01-16\",\"2019-01-18\",\"2019-01-21\",\"2019-01-22\",\"2019-01-23\",\"2019-01-25\",\"2019-01-28\",\"2019-01-29\",\"2019-01-30\",\"2019-01-31\",\"2019-02-01\",\"2019-02-04\",\"2019-02-05\",\"2019-02-06\",\"2019-02-11\",\"2019-02-13\",\"2019-02-14\",\"2019-02-15\",\"2019-02-19\",\"2019-02-21\",\"2019-02-22\",\"2019-02-25\",\"2019-02-26\",\"2019-02-27\",\"2019-02-28\",\"2019-03-01\",\"2019-03-04\",\"2019-03-05\",\"2019-03-06\",\"2019-03-08\",\"2019-03-13\",\"2019-03-14\",\"2019-03-15\",\"2019-03-18\",\"2019-03-19\",\"2019-03-20\",\"2019-03-22\",\"2019-03-25\",\"2019-03-26\",\"2019-03-28\",\"2019-03-29\"]},\"selected\":{\"id\":\"2232\"},\"selection_policy\":{\"id\":\"2255\"}},\"id\":\"2231\",\"type\":\"ColumnDataSource\"},{\"attributes\":{\"fill_alpha\":{\"value\":0.1},\"fill_color\":{\"value\":\"#30a2da\"},\"hatch_alpha\":{\"value\":0.1},\"hatch_color\":{\"value\":\"#30a2da\"},\"line_alpha\":{\"value\":0.1},\"top\":{\"field\":\"saleAmt\"},\"width\":{\"value\":0.8},\"x\":{\"field\":\"saleDate\"}},\"id\":\"2235\",\"type\":\"VBar\"},{\"attributes\":{\"callback\":null,\"renderers\":[{\"id\":\"2237\"}],\"tags\":[\"hv_created\"],\"tooltips\":[[\"saleDate\",\"@{saleDate}\"],[\"saleAmt\",\"@{saleAmt}\"]]},\"id\":\"2201\",\"type\":\"HoverTool\"},{\"attributes\":{\"bottom\":{\"value\":0},\"fill_alpha\":{\"value\":1.0},\"fill_color\":{\"value\":\"#30a2da\"},\"hatch_alpha\":{\"value\":1.0},\"hatch_color\":{\"value\":\"#30a2da\"},\"hatch_scale\":{\"value\":12.0},\"hatch_weight\":{\"value\":1.0},\"line_alpha\":{\"value\":1.0},\"line_cap\":{\"value\":\"butt\"},\"line_color\":{\"value\":\"black\"},\"line_dash\":{\"value\":[]},\"line_dash_offset\":{\"value\":0},\"line_join\":{\"value\":\"bevel\"},\"line_width\":{\"value\":1},\"top\":{\"field\":\"saleAmt\"},\"width\":{\"value\":0.8},\"x\":{\"field\":\"saleDate\"}},\"id\":\"2239\",\"type\":\"VBar\"},{\"attributes\":{},\"id\":\"2243\",\"type\":\"AllLabels\"}],\"root_ids\":[\"2197\"]},\"title\":\"Bokeh Application\",\"version\":\"2.4.2\"}};\n",
       "    var render_items = [{\"docid\":\"bc21b6d8-954b-444a-9409-70a6c95688ef\",\"root_ids\":[\"2197\"],\"roots\":{\"2197\":\"de5a4a63-354f-4971-baf8-9f1e13064f79\"}}];\n",
       "    root.Bokeh.embed.embed_items_notebook(docs_json, render_items);\n",
       "  }\n",
       "  if (root.Bokeh !== undefined && root.Bokeh.Panel !== undefined) {\n",
       "    embed_document(root);\n",
       "  } else {\n",
       "    var attempts = 0;\n",
       "    var timer = setInterval(function(root) {\n",
       "      if (root.Bokeh !== undefined && root.Bokeh.Panel !== undefined) {\n",
       "        clearInterval(timer);\n",
       "        embed_document(root);\n",
       "      } else if (document.readyState == \"complete\") {\n",
       "        attempts++;\n",
       "        if (attempts > 200) {\n",
       "          clearInterval(timer);\n",
       "          console.log(\"Bokeh: ERROR: Unable to run BokehJS code because BokehJS library is missing\");\n",
       "        }\n",
       "      }\n",
       "    }, 25, root)\n",
       "  }\n",
       "})(window);</script>"
      ],
      "text/plain": [
       ":Bars   [saleDate]   (saleAmt)"
      ]
     },
     "execution_count": 19,
     "metadata": {
      "application/vnd.holoviews_exec.v0+json": {
       "id": "2197"
      }
     },
     "output_type": "execute_result"
    }
   ],
   "source": [
    "# Using the code from the existing plot, include a y-formatter that round the y-axis labels to the whole number\n",
    "average_sales_per_date_2019.hvplot.bar(\n",
    "    x='saleDate', \n",
    "    y='saleAmt',\n",
    "    rot=90,\n",
    "    xlabel='Sale Date', \n",
    "    ylabel='Average Sale Amount'\n",
    ").opts(yformatter='%.0f')"
   ]
  },
  {
   "cell_type": "markdown",
   "metadata": {},
   "source": [
    "## Step 6: Using the code from the previous plot, add the `title` parameter to give the visualization a descriptive title."
   ]
  },
  {
   "cell_type": "code",
   "execution_count": 20,
   "metadata": {},
   "outputs": [
    {
     "data": {},
     "metadata": {},
     "output_type": "display_data"
    },
    {
     "data": {
      "application/vnd.holoviews_exec.v0+json": "",
      "text/html": [
       "<div id='2314'>\n",
       "\n",
       "\n",
       "\n",
       "\n",
       "\n",
       "  <div class=\"bk-root\" id=\"f91f3a58-570c-4fa2-af6e-296c4c840289\" data-root-id=\"2314\"></div>\n",
       "</div>\n",
       "<script type=\"application/javascript\">(function(root) {\n",
       "  function embed_document(root) {\n",
       "    var docs_json = {\"02d0e1a9-f771-4141-a9c6-6001b6701a4a\":{\"defs\":[{\"extends\":null,\"module\":null,\"name\":\"ReactiveHTML1\",\"overrides\":[],\"properties\":[]},{\"extends\":null,\"module\":null,\"name\":\"FlexBox1\",\"overrides\":[],\"properties\":[{\"default\":\"flex-start\",\"kind\":null,\"name\":\"align_content\"},{\"default\":\"flex-start\",\"kind\":null,\"name\":\"align_items\"},{\"default\":\"row\",\"kind\":null,\"name\":\"flex_direction\"},{\"default\":\"wrap\",\"kind\":null,\"name\":\"flex_wrap\"},{\"default\":\"flex-start\",\"kind\":null,\"name\":\"justify_content\"}]},{\"extends\":null,\"module\":null,\"name\":\"GridStack1\",\"overrides\":[],\"properties\":[{\"default\":\"warn\",\"kind\":null,\"name\":\"mode\"},{\"default\":null,\"kind\":null,\"name\":\"ncols\"},{\"default\":null,\"kind\":null,\"name\":\"nrows\"},{\"default\":true,\"kind\":null,\"name\":\"allow_resize\"},{\"default\":true,\"kind\":null,\"name\":\"allow_drag\"},{\"default\":[],\"kind\":null,\"name\":\"state\"}]},{\"extends\":null,\"module\":null,\"name\":\"click1\",\"overrides\":[],\"properties\":[{\"default\":\"\",\"kind\":null,\"name\":\"terminal_output\"},{\"default\":\"\",\"kind\":null,\"name\":\"debug_name\"},{\"default\":0,\"kind\":null,\"name\":\"clears\"}]},{\"extends\":null,\"module\":null,\"name\":\"TemplateActions1\",\"overrides\":[],\"properties\":[{\"default\":0,\"kind\":null,\"name\":\"open_modal\"},{\"default\":0,\"kind\":null,\"name\":\"close_modal\"}]},{\"extends\":null,\"module\":null,\"name\":\"MaterialTemplateActions1\",\"overrides\":[],\"properties\":[{\"default\":0,\"kind\":null,\"name\":\"open_modal\"},{\"default\":0,\"kind\":null,\"name\":\"close_modal\"}]}],\"roots\":{\"references\":[{\"attributes\":{\"coordinates\":null,\"group\":null,\"text\":\"AverageHome Sales per Day - Arlington, VA - June, 2019\",\"text_color\":\"black\",\"text_font_size\":\"12pt\"},\"id\":\"2320\",\"type\":\"Title\"},{\"attributes\":{\"fill_color\":{\"value\":\"#30a2da\"},\"hatch_color\":{\"value\":\"#30a2da\"},\"top\":{\"field\":\"saleAmt\"},\"width\":{\"value\":0.8},\"x\":{\"field\":\"saleDate\"}},\"id\":\"2351\",\"type\":\"VBar\"},{\"attributes\":{},\"id\":\"2326\",\"type\":\"LinearScale\"},{\"attributes\":{\"below\":[{\"id\":\"2328\"}],\"center\":[{\"id\":\"2330\"},{\"id\":\"2334\"}],\"height\":300,\"left\":[{\"id\":\"2331\"}],\"margin\":[5,5,5,5],\"min_border_bottom\":10,\"min_border_left\":10,\"min_border_right\":10,\"min_border_top\":10,\"renderers\":[{\"id\":\"2354\"}],\"sizing_mode\":\"fixed\",\"title\":{\"id\":\"2320\"},\"toolbar\":{\"id\":\"2341\"},\"width\":700,\"x_range\":{\"id\":\"2316\"},\"x_scale\":{\"id\":\"2324\"},\"y_range\":{\"id\":\"2317\"},\"y_scale\":{\"id\":\"2326\"}},\"id\":\"2319\",\"subtype\":\"Figure\",\"type\":\"Plot\"},{\"attributes\":{\"axis\":{\"id\":\"2328\"},\"coordinates\":null,\"grid_line_color\":null,\"group\":null,\"ticker\":null},\"id\":\"2330\",\"type\":\"Grid\"},{\"attributes\":{},\"id\":\"2363\",\"type\":\"AllLabels\"},{\"attributes\":{},\"id\":\"2336\",\"type\":\"PanTool\"},{\"attributes\":{\"axis_label\":\"Sale Date\",\"coordinates\":null,\"formatter\":{\"id\":\"2359\"},\"group\":null,\"major_label_orientation\":1.5707963267948966,\"major_label_policy\":{\"id\":\"2360\"},\"ticker\":{\"id\":\"2329\"}},\"id\":\"2328\",\"type\":\"CategoricalAxis\"},{\"attributes\":{},\"id\":\"2324\",\"type\":\"CategoricalScale\"},{\"attributes\":{\"axis\":{\"id\":\"2331\"},\"coordinates\":null,\"dimension\":1,\"grid_line_color\":null,\"group\":null,\"ticker\":null},\"id\":\"2334\",\"type\":\"Grid\"},{\"attributes\":{\"fill_alpha\":{\"value\":0.2},\"fill_color\":{\"value\":\"#30a2da\"},\"hatch_alpha\":{\"value\":0.2},\"hatch_color\":{\"value\":\"#30a2da\"},\"line_alpha\":{\"value\":0.2},\"top\":{\"field\":\"saleAmt\"},\"width\":{\"value\":0.8},\"x\":{\"field\":\"saleDate\"}},\"id\":\"2353\",\"type\":\"VBar\"},{\"attributes\":{},\"id\":\"2329\",\"type\":\"CategoricalTicker\"},{\"attributes\":{\"callback\":null,\"renderers\":[{\"id\":\"2354\"}],\"tags\":[\"hv_created\"],\"tooltips\":[[\"saleDate\",\"@{saleDate}\"],[\"saleAmt\",\"@{saleAmt}\"]]},\"id\":\"2318\",\"type\":\"HoverTool\"},{\"attributes\":{\"axis_label\":\"Average Sale Amount\",\"coordinates\":null,\"formatter\":{\"id\":\"2357\"},\"group\":null,\"major_label_policy\":{\"id\":\"2363\"},\"ticker\":{\"id\":\"2332\"}},\"id\":\"2331\",\"type\":\"LinearAxis\"},{\"attributes\":{},\"id\":\"2332\",\"type\":\"BasicTicker\"},{\"attributes\":{\"coordinates\":null,\"data_source\":{\"id\":\"2348\"},\"glyph\":{\"id\":\"2351\"},\"group\":null,\"hover_glyph\":null,\"muted_glyph\":{\"id\":\"2353\"},\"nonselection_glyph\":{\"id\":\"2352\"},\"selection_glyph\":{\"id\":\"2356\"},\"view\":{\"id\":\"2355\"}},\"id\":\"2354\",\"type\":\"GlyphRenderer\"},{\"attributes\":{},\"id\":\"2337\",\"type\":\"WheelZoomTool\"},{\"attributes\":{},\"id\":\"2359\",\"type\":\"CategoricalTickFormatter\"},{\"attributes\":{},\"id\":\"2335\",\"type\":\"SaveTool\"},{\"attributes\":{\"overlay\":{\"id\":\"2340\"}},\"id\":\"2338\",\"type\":\"BoxZoomTool\"},{\"attributes\":{\"bottom\":{\"value\":0},\"fill_alpha\":{\"value\":1.0},\"fill_color\":{\"value\":\"#30a2da\"},\"hatch_alpha\":{\"value\":1.0},\"hatch_color\":{\"value\":\"#30a2da\"},\"hatch_scale\":{\"value\":12.0},\"hatch_weight\":{\"value\":1.0},\"line_alpha\":{\"value\":1.0},\"line_cap\":{\"value\":\"butt\"},\"line_color\":{\"value\":\"black\"},\"line_dash\":{\"value\":[]},\"line_dash_offset\":{\"value\":0},\"line_join\":{\"value\":\"bevel\"},\"line_width\":{\"value\":1},\"top\":{\"field\":\"saleAmt\"},\"width\":{\"value\":0.8},\"x\":{\"field\":\"saleDate\"}},\"id\":\"2356\",\"type\":\"VBar\"},{\"attributes\":{},\"id\":\"2339\",\"type\":\"ResetTool\"},{\"attributes\":{\"data\":{\"saleAmt\":{\"__ndarray__\":\"AAAAACTVGkEAAAAA4KQWQQAAAABg1zhBAAAAAABw90AAAAAAGAcjQQAAAADIPDRBAAAAAKSTOEEAAAAAchQ4QQAAAABo5BdBAAAAAABM7UAAAAAAdHYgQQAAAADwsypBq6qqqgJWIkEAAAAAICkbQbdt27aNCydBAAAAAIC5IUEAAAAAJYYxQQAAAABAPCBBAAAAAGB4E0EAAAAAKCI1QQAAAACglxNBAAAAAMiQGkEAAAAA6PMkQQAAAADA6wJBAAAAACBUOEEAAACAxVAxQQAAAAAoQCBBAAAAAO8cHEEAAAAAoCACQQAAAABSjCdBVVVVVcmVHUGrqqqqitoUQQAAAAAYBxNBAAAAAABqKEEAAAAAoLn+QAAAAAAAz/xAzczMzHhEMEEAAAAAUMgUQQAAAABAPCBBAAAAAJgzJkEAAAAAzrAsQQAAAADA9yBBAAAAAGA2LkEAAAAAwGIEQQAAAACAoilBAAAAANzjIkE=\",\"dtype\":\"float64\",\"order\":\"little\",\"shape\":[46]},\"saleDate\":[\"2019-01-04\",\"2019-01-07\",\"2019-01-08\",\"2019-01-09\",\"2019-01-15\",\"2019-01-16\",\"2019-01-18\",\"2019-01-21\",\"2019-01-22\",\"2019-01-23\",\"2019-01-25\",\"2019-01-28\",\"2019-01-29\",\"2019-01-30\",\"2019-01-31\",\"2019-02-01\",\"2019-02-04\",\"2019-02-05\",\"2019-02-06\",\"2019-02-11\",\"2019-02-13\",\"2019-02-14\",\"2019-02-15\",\"2019-02-19\",\"2019-02-21\",\"2019-02-22\",\"2019-02-25\",\"2019-02-26\",\"2019-02-27\",\"2019-02-28\",\"2019-03-01\",\"2019-03-04\",\"2019-03-05\",\"2019-03-06\",\"2019-03-08\",\"2019-03-13\",\"2019-03-14\",\"2019-03-15\",\"2019-03-18\",\"2019-03-19\",\"2019-03-20\",\"2019-03-22\",\"2019-03-25\",\"2019-03-26\",\"2019-03-28\",\"2019-03-29\"]},\"selected\":{\"id\":\"2349\"},\"selection_policy\":{\"id\":\"2372\"}},\"id\":\"2348\",\"type\":\"ColumnDataSource\"},{\"attributes\":{\"margin\":[5,5,5,5],\"name\":\"HSpacer04266\",\"sizing_mode\":\"stretch_width\"},\"id\":\"2384\",\"type\":\"Spacer\"},{\"attributes\":{\"children\":[{\"id\":\"2315\"},{\"id\":\"2319\"},{\"id\":\"2384\"}],\"margin\":[0,0,0,0],\"name\":\"Row04261\",\"tags\":[\"embedded\"]},\"id\":\"2314\",\"type\":\"Row\"},{\"attributes\":{\"end\":1784800.0,\"reset_end\":1784800.0,\"reset_start\":0.0,\"tags\":[[[\"saleAmt\",\"saleAmt\",null]]]},\"id\":\"2317\",\"type\":\"Range1d\"},{\"attributes\":{\"bottom_units\":\"screen\",\"coordinates\":null,\"fill_alpha\":0.5,\"fill_color\":\"lightgrey\",\"group\":null,\"left_units\":\"screen\",\"level\":\"overlay\",\"line_alpha\":1.0,\"line_color\":\"black\",\"line_dash\":[4,4],\"line_width\":2,\"right_units\":\"screen\",\"syncable\":false,\"top_units\":\"screen\"},\"id\":\"2340\",\"type\":\"BoxAnnotation\"},{\"attributes\":{\"margin\":[5,5,5,5],\"name\":\"HSpacer04265\",\"sizing_mode\":\"stretch_width\"},\"id\":\"2315\",\"type\":\"Spacer\"},{\"attributes\":{\"tools\":[{\"id\":\"2318\"},{\"id\":\"2335\"},{\"id\":\"2336\"},{\"id\":\"2337\"},{\"id\":\"2338\"},{\"id\":\"2339\"}]},\"id\":\"2341\",\"type\":\"Toolbar\"},{\"attributes\":{},\"id\":\"2349\",\"type\":\"Selection\"},{\"attributes\":{\"format\":\"%.0f\"},\"id\":\"2357\",\"type\":\"PrintfTickFormatter\"},{\"attributes\":{},\"id\":\"2360\",\"type\":\"AllLabels\"},{\"attributes\":{\"source\":{\"id\":\"2348\"}},\"id\":\"2355\",\"type\":\"CDSView\"},{\"attributes\":{\"fill_alpha\":{\"value\":0.1},\"fill_color\":{\"value\":\"#30a2da\"},\"hatch_alpha\":{\"value\":0.1},\"hatch_color\":{\"value\":\"#30a2da\"},\"line_alpha\":{\"value\":0.1},\"top\":{\"field\":\"saleAmt\"},\"width\":{\"value\":0.8},\"x\":{\"field\":\"saleDate\"}},\"id\":\"2352\",\"type\":\"VBar\"},{\"attributes\":{\"factors\":[\"2019-01-04\",\"2019-01-07\",\"2019-01-08\",\"2019-01-09\",\"2019-01-15\",\"2019-01-16\",\"2019-01-18\",\"2019-01-21\",\"2019-01-22\",\"2019-01-23\",\"2019-01-25\",\"2019-01-28\",\"2019-01-29\",\"2019-01-30\",\"2019-01-31\",\"2019-02-01\",\"2019-02-04\",\"2019-02-05\",\"2019-02-06\",\"2019-02-11\",\"2019-02-13\",\"2019-02-14\",\"2019-02-15\",\"2019-02-19\",\"2019-02-21\",\"2019-02-22\",\"2019-02-25\",\"2019-02-26\",\"2019-02-27\",\"2019-02-28\",\"2019-03-01\",\"2019-03-04\",\"2019-03-05\",\"2019-03-06\",\"2019-03-08\",\"2019-03-13\",\"2019-03-14\",\"2019-03-15\",\"2019-03-18\",\"2019-03-19\",\"2019-03-20\",\"2019-03-22\",\"2019-03-25\",\"2019-03-26\",\"2019-03-28\",\"2019-03-29\"],\"tags\":[[[\"saleDate\",\"saleDate\",null]]]},\"id\":\"2316\",\"type\":\"FactorRange\"},{\"attributes\":{},\"id\":\"2372\",\"type\":\"UnionRenderers\"}],\"root_ids\":[\"2314\"]},\"title\":\"Bokeh Application\",\"version\":\"2.4.2\"}};\n",
       "    var render_items = [{\"docid\":\"02d0e1a9-f771-4141-a9c6-6001b6701a4a\",\"root_ids\":[\"2314\"],\"roots\":{\"2314\":\"f91f3a58-570c-4fa2-af6e-296c4c840289\"}}];\n",
       "    root.Bokeh.embed.embed_items_notebook(docs_json, render_items);\n",
       "  }\n",
       "  if (root.Bokeh !== undefined && root.Bokeh.Panel !== undefined) {\n",
       "    embed_document(root);\n",
       "  } else {\n",
       "    var attempts = 0;\n",
       "    var timer = setInterval(function(root) {\n",
       "      if (root.Bokeh !== undefined && root.Bokeh.Panel !== undefined) {\n",
       "        clearInterval(timer);\n",
       "        embed_document(root);\n",
       "      } else if (document.readyState == \"complete\") {\n",
       "        attempts++;\n",
       "        if (attempts > 200) {\n",
       "          clearInterval(timer);\n",
       "          console.log(\"Bokeh: ERROR: Unable to run BokehJS code because BokehJS library is missing\");\n",
       "        }\n",
       "      }\n",
       "    }, 25, root)\n",
       "  }\n",
       "})(window);</script>"
      ],
      "text/plain": [
       ":Bars   [saleDate]   (saleAmt)"
      ]
     },
     "execution_count": 20,
     "metadata": {
      "application/vnd.holoviews_exec.v0+json": {
       "id": "2314"
      }
     },
     "output_type": "execute_result"
    }
   ],
   "source": [
    "# Using the code from the existing plot, add an informative title helps to define the visualization\n",
    "average_sales_per_date_2019.hvplot.bar(\n",
    "    x='saleDate', \n",
    "    y='saleAmt',\n",
    "    rot=90,\n",
    "    xlabel='Sale Date', \n",
    "    ylabel='Average Sale Amount',\n",
    "    title='AverageHome Sales per Day - Arlington, VA - June, 2019', \n",
    ").opts(yformatter='%.0f')"
   ]
  },
  {
   "cell_type": "markdown",
   "metadata": {},
   "source": [
    "## Step 7: Using the code from the previous plot, add the `invert_axes` option to invert the x- and y-axes."
   ]
  },
  {
   "cell_type": "code",
   "execution_count": 21,
   "metadata": {},
   "outputs": [
    {
     "data": {},
     "metadata": {},
     "output_type": "display_data"
    },
    {
     "data": {
      "application/vnd.holoviews_exec.v0+json": "",
      "text/html": [
       "<div id='2431'>\n",
       "\n",
       "\n",
       "\n",
       "\n",
       "\n",
       "  <div class=\"bk-root\" id=\"f9f43f7e-f954-490e-83af-11c8719be47d\" data-root-id=\"2431\"></div>\n",
       "</div>\n",
       "<script type=\"application/javascript\">(function(root) {\n",
       "  function embed_document(root) {\n",
       "    var docs_json = {\"0b39b640-6851-41bd-a893-362ec5d9cbd3\":{\"defs\":[{\"extends\":null,\"module\":null,\"name\":\"ReactiveHTML1\",\"overrides\":[],\"properties\":[]},{\"extends\":null,\"module\":null,\"name\":\"FlexBox1\",\"overrides\":[],\"properties\":[{\"default\":\"flex-start\",\"kind\":null,\"name\":\"align_content\"},{\"default\":\"flex-start\",\"kind\":null,\"name\":\"align_items\"},{\"default\":\"row\",\"kind\":null,\"name\":\"flex_direction\"},{\"default\":\"wrap\",\"kind\":null,\"name\":\"flex_wrap\"},{\"default\":\"flex-start\",\"kind\":null,\"name\":\"justify_content\"}]},{\"extends\":null,\"module\":null,\"name\":\"GridStack1\",\"overrides\":[],\"properties\":[{\"default\":\"warn\",\"kind\":null,\"name\":\"mode\"},{\"default\":null,\"kind\":null,\"name\":\"ncols\"},{\"default\":null,\"kind\":null,\"name\":\"nrows\"},{\"default\":true,\"kind\":null,\"name\":\"allow_resize\"},{\"default\":true,\"kind\":null,\"name\":\"allow_drag\"},{\"default\":[],\"kind\":null,\"name\":\"state\"}]},{\"extends\":null,\"module\":null,\"name\":\"click1\",\"overrides\":[],\"properties\":[{\"default\":\"\",\"kind\":null,\"name\":\"terminal_output\"},{\"default\":\"\",\"kind\":null,\"name\":\"debug_name\"},{\"default\":0,\"kind\":null,\"name\":\"clears\"}]},{\"extends\":null,\"module\":null,\"name\":\"TemplateActions1\",\"overrides\":[],\"properties\":[{\"default\":0,\"kind\":null,\"name\":\"open_modal\"},{\"default\":0,\"kind\":null,\"name\":\"close_modal\"}]},{\"extends\":null,\"module\":null,\"name\":\"MaterialTemplateActions1\",\"overrides\":[],\"properties\":[{\"default\":0,\"kind\":null,\"name\":\"open_modal\"},{\"default\":0,\"kind\":null,\"name\":\"close_modal\"}]}],\"roots\":{\"references\":[{\"attributes\":{},\"id\":\"2481\",\"type\":\"CategoricalTickFormatter\"},{\"attributes\":{\"fill_alpha\":{\"value\":1.0},\"fill_color\":{\"value\":\"#30a2da\"},\"hatch_alpha\":{\"value\":1.0},\"hatch_color\":{\"value\":\"#30a2da\"},\"hatch_scale\":{\"value\":12.0},\"hatch_weight\":{\"value\":1.0},\"height\":{\"value\":0.8},\"left\":{\"value\":0},\"line_alpha\":{\"value\":1.0},\"line_cap\":{\"value\":\"butt\"},\"line_color\":{\"value\":\"black\"},\"line_dash\":{\"value\":[]},\"line_dash_offset\":{\"value\":0},\"line_join\":{\"value\":\"bevel\"},\"line_width\":{\"value\":1},\"right\":{\"field\":\"saleAmt\"},\"y\":{\"field\":\"saleDate\"}},\"id\":\"2473\",\"type\":\"HBar\"},{\"attributes\":{},\"id\":\"2482\",\"type\":\"AllLabels\"},{\"attributes\":{\"below\":[{\"id\":\"2445\"}],\"center\":[{\"id\":\"2448\"},{\"id\":\"2451\"}],\"height\":300,\"left\":[{\"id\":\"2449\"}],\"margin\":[5,5,5,5],\"min_border_bottom\":10,\"min_border_left\":10,\"min_border_right\":10,\"min_border_top\":10,\"renderers\":[{\"id\":\"2471\"}],\"sizing_mode\":\"fixed\",\"title\":{\"id\":\"2437\"},\"toolbar\":{\"id\":\"2458\"},\"width\":700,\"x_range\":{\"id\":\"2433\"},\"x_scale\":{\"id\":\"2441\"},\"y_range\":{\"id\":\"2434\"},\"y_scale\":{\"id\":\"2443\"}},\"id\":\"2436\",\"subtype\":\"Figure\",\"type\":\"Plot\"},{\"attributes\":{\"format\":\"%.0f\"},\"id\":\"2474\",\"type\":\"PrintfTickFormatter\"},{\"attributes\":{},\"id\":\"2466\",\"type\":\"Selection\"},{\"attributes\":{},\"id\":\"2441\",\"type\":\"LinearScale\"},{\"attributes\":{\"callback\":null,\"renderers\":[{\"id\":\"2471\"}],\"tags\":[\"hv_created\"],\"tooltips\":[[\"saleDate\",\"@{saleDate}\"],[\"saleAmt\",\"@{saleAmt}\"]]},\"id\":\"2435\",\"type\":\"HoverTool\"},{\"attributes\":{},\"id\":\"2443\",\"type\":\"CategoricalScale\"},{\"attributes\":{\"fill_alpha\":{\"value\":0.1},\"fill_color\":{\"value\":\"#30a2da\"},\"hatch_alpha\":{\"value\":0.1},\"hatch_color\":{\"value\":\"#30a2da\"},\"height\":{\"value\":0.8},\"line_alpha\":{\"value\":0.1},\"right\":{\"field\":\"saleAmt\"},\"y\":{\"field\":\"saleDate\"}},\"id\":\"2469\",\"type\":\"HBar\"},{\"attributes\":{\"coordinates\":null,\"group\":null,\"text\":\"AverageHome Sales per Day - Arlington, VA - June, 2019\",\"text_color\":\"black\",\"text_font_size\":\"12pt\"},\"id\":\"2437\",\"type\":\"Title\"},{\"attributes\":{\"factors\":[\"2019-01-04\",\"2019-01-07\",\"2019-01-08\",\"2019-01-09\",\"2019-01-15\",\"2019-01-16\",\"2019-01-18\",\"2019-01-21\",\"2019-01-22\",\"2019-01-23\",\"2019-01-25\",\"2019-01-28\",\"2019-01-29\",\"2019-01-30\",\"2019-01-31\",\"2019-02-01\",\"2019-02-04\",\"2019-02-05\",\"2019-02-06\",\"2019-02-11\",\"2019-02-13\",\"2019-02-14\",\"2019-02-15\",\"2019-02-19\",\"2019-02-21\",\"2019-02-22\",\"2019-02-25\",\"2019-02-26\",\"2019-02-27\",\"2019-02-28\",\"2019-03-01\",\"2019-03-04\",\"2019-03-05\",\"2019-03-06\",\"2019-03-08\",\"2019-03-13\",\"2019-03-14\",\"2019-03-15\",\"2019-03-18\",\"2019-03-19\",\"2019-03-20\",\"2019-03-22\",\"2019-03-25\",\"2019-03-26\",\"2019-03-28\",\"2019-03-29\"],\"tags\":[[[\"saleDate\",\"saleDate\",null]]]},\"id\":\"2434\",\"type\":\"FactorRange\"},{\"attributes\":{\"fill_color\":{\"value\":\"#30a2da\"},\"hatch_color\":{\"value\":\"#30a2da\"},\"height\":{\"value\":0.8},\"right\":{\"field\":\"saleAmt\"},\"y\":{\"field\":\"saleDate\"}},\"id\":\"2468\",\"type\":\"HBar\"},{\"attributes\":{\"source\":{\"id\":\"2465\"}},\"id\":\"2472\",\"type\":\"CDSView\"},{\"attributes\":{},\"id\":\"2446\",\"type\":\"BasicTicker\"},{\"attributes\":{\"axis\":{\"id\":\"2445\"},\"coordinates\":null,\"grid_line_color\":null,\"group\":null,\"ticker\":null},\"id\":\"2448\",\"type\":\"Grid\"},{\"attributes\":{\"coordinates\":null,\"data_source\":{\"id\":\"2465\"},\"glyph\":{\"id\":\"2468\"},\"group\":null,\"hover_glyph\":null,\"muted_glyph\":{\"id\":\"2470\"},\"nonselection_glyph\":{\"id\":\"2469\"},\"selection_glyph\":{\"id\":\"2473\"},\"view\":{\"id\":\"2472\"}},\"id\":\"2471\",\"type\":\"GlyphRenderer\"},{\"attributes\":{\"margin\":[5,5,5,5],\"name\":\"HSpacer04515\",\"sizing_mode\":\"stretch_width\"},\"id\":\"2501\",\"type\":\"Spacer\"},{\"attributes\":{\"axis_label\":\"Sale Date\",\"coordinates\":null,\"formatter\":{\"id\":\"2474\"},\"group\":null,\"major_label_orientation\":1.5707963267948966,\"major_label_policy\":{\"id\":\"2477\"},\"ticker\":{\"id\":\"2446\"}},\"id\":\"2445\",\"type\":\"LinearAxis\"},{\"attributes\":{\"axis\":{\"id\":\"2449\"},\"coordinates\":null,\"dimension\":1,\"grid_line_color\":null,\"group\":null,\"ticker\":null},\"id\":\"2451\",\"type\":\"Grid\"},{\"attributes\":{\"fill_alpha\":{\"value\":0.2},\"fill_color\":{\"value\":\"#30a2da\"},\"hatch_alpha\":{\"value\":0.2},\"hatch_color\":{\"value\":\"#30a2da\"},\"height\":{\"value\":0.8},\"line_alpha\":{\"value\":0.2},\"right\":{\"field\":\"saleAmt\"},\"y\":{\"field\":\"saleDate\"}},\"id\":\"2470\",\"type\":\"HBar\"},{\"attributes\":{\"children\":[{\"id\":\"2432\"},{\"id\":\"2436\"},{\"id\":\"2501\"}],\"margin\":[0,0,0,0],\"name\":\"Row04510\",\"tags\":[\"embedded\"]},\"id\":\"2431\",\"type\":\"Row\"},{\"attributes\":{},\"id\":\"2454\",\"type\":\"WheelZoomTool\"},{\"attributes\":{},\"id\":\"2453\",\"type\":\"PanTool\"},{\"attributes\":{\"axis_label\":\"Average Sale Amount\",\"coordinates\":null,\"formatter\":{\"id\":\"2481\"},\"group\":null,\"major_label_policy\":{\"id\":\"2482\"},\"ticker\":{\"id\":\"2450\"}},\"id\":\"2449\",\"type\":\"CategoricalAxis\"},{\"attributes\":{},\"id\":\"2450\",\"type\":\"CategoricalTicker\"},{\"attributes\":{\"data\":{\"saleAmt\":{\"__ndarray__\":\"AAAAACTVGkEAAAAA4KQWQQAAAABg1zhBAAAAAABw90AAAAAAGAcjQQAAAADIPDRBAAAAAKSTOEEAAAAAchQ4QQAAAABo5BdBAAAAAABM7UAAAAAAdHYgQQAAAADwsypBq6qqqgJWIkEAAAAAICkbQbdt27aNCydBAAAAAIC5IUEAAAAAJYYxQQAAAABAPCBBAAAAAGB4E0EAAAAAKCI1QQAAAACglxNBAAAAAMiQGkEAAAAA6PMkQQAAAADA6wJBAAAAACBUOEEAAACAxVAxQQAAAAAoQCBBAAAAAO8cHEEAAAAAoCACQQAAAABSjCdBVVVVVcmVHUGrqqqqitoUQQAAAAAYBxNBAAAAAABqKEEAAAAAoLn+QAAAAAAAz/xAzczMzHhEMEEAAAAAUMgUQQAAAABAPCBBAAAAAJgzJkEAAAAAzrAsQQAAAADA9yBBAAAAAGA2LkEAAAAAwGIEQQAAAACAoilBAAAAANzjIkE=\",\"dtype\":\"float64\",\"order\":\"little\",\"shape\":[46]},\"saleDate\":[\"2019-01-04\",\"2019-01-07\",\"2019-01-08\",\"2019-01-09\",\"2019-01-15\",\"2019-01-16\",\"2019-01-18\",\"2019-01-21\",\"2019-01-22\",\"2019-01-23\",\"2019-01-25\",\"2019-01-28\",\"2019-01-29\",\"2019-01-30\",\"2019-01-31\",\"2019-02-01\",\"2019-02-04\",\"2019-02-05\",\"2019-02-06\",\"2019-02-11\",\"2019-02-13\",\"2019-02-14\",\"2019-02-15\",\"2019-02-19\",\"2019-02-21\",\"2019-02-22\",\"2019-02-25\",\"2019-02-26\",\"2019-02-27\",\"2019-02-28\",\"2019-03-01\",\"2019-03-04\",\"2019-03-05\",\"2019-03-06\",\"2019-03-08\",\"2019-03-13\",\"2019-03-14\",\"2019-03-15\",\"2019-03-18\",\"2019-03-19\",\"2019-03-20\",\"2019-03-22\",\"2019-03-25\",\"2019-03-26\",\"2019-03-28\",\"2019-03-29\"]},\"selected\":{\"id\":\"2466\"},\"selection_policy\":{\"id\":\"2489\"}},\"id\":\"2465\",\"type\":\"ColumnDataSource\"},{\"attributes\":{},\"id\":\"2452\",\"type\":\"SaveTool\"},{\"attributes\":{\"end\":1784800.0,\"reset_end\":1784800.0,\"reset_start\":0.0,\"tags\":[[[\"saleAmt\",\"saleAmt\",null]]]},\"id\":\"2433\",\"type\":\"Range1d\"},{\"attributes\":{},\"id\":\"2477\",\"type\":\"AllLabels\"},{\"attributes\":{\"overlay\":{\"id\":\"2457\"}},\"id\":\"2455\",\"type\":\"BoxZoomTool\"},{\"attributes\":{\"margin\":[5,5,5,5],\"name\":\"HSpacer04514\",\"sizing_mode\":\"stretch_width\"},\"id\":\"2432\",\"type\":\"Spacer\"},{\"attributes\":{},\"id\":\"2456\",\"type\":\"ResetTool\"},{\"attributes\":{\"bottom_units\":\"screen\",\"coordinates\":null,\"fill_alpha\":0.5,\"fill_color\":\"lightgrey\",\"group\":null,\"left_units\":\"screen\",\"level\":\"overlay\",\"line_alpha\":1.0,\"line_color\":\"black\",\"line_dash\":[4,4],\"line_width\":2,\"right_units\":\"screen\",\"syncable\":false,\"top_units\":\"screen\"},\"id\":\"2457\",\"type\":\"BoxAnnotation\"},{\"attributes\":{\"tools\":[{\"id\":\"2435\"},{\"id\":\"2452\"},{\"id\":\"2453\"},{\"id\":\"2454\"},{\"id\":\"2455\"},{\"id\":\"2456\"}]},\"id\":\"2458\",\"type\":\"Toolbar\"},{\"attributes\":{},\"id\":\"2489\",\"type\":\"UnionRenderers\"}],\"root_ids\":[\"2431\"]},\"title\":\"Bokeh Application\",\"version\":\"2.4.2\"}};\n",
       "    var render_items = [{\"docid\":\"0b39b640-6851-41bd-a893-362ec5d9cbd3\",\"root_ids\":[\"2431\"],\"roots\":{\"2431\":\"f9f43f7e-f954-490e-83af-11c8719be47d\"}}];\n",
       "    root.Bokeh.embed.embed_items_notebook(docs_json, render_items);\n",
       "  }\n",
       "  if (root.Bokeh !== undefined && root.Bokeh.Panel !== undefined) {\n",
       "    embed_document(root);\n",
       "  } else {\n",
       "    var attempts = 0;\n",
       "    var timer = setInterval(function(root) {\n",
       "      if (root.Bokeh !== undefined && root.Bokeh.Panel !== undefined) {\n",
       "        clearInterval(timer);\n",
       "        embed_document(root);\n",
       "      } else if (document.readyState == \"complete\") {\n",
       "        attempts++;\n",
       "        if (attempts > 200) {\n",
       "          clearInterval(timer);\n",
       "          console.log(\"Bokeh: ERROR: Unable to run BokehJS code because BokehJS library is missing\");\n",
       "        }\n",
       "      }\n",
       "    }, 25, root)\n",
       "  }\n",
       "})(window);</script>"
      ],
      "text/plain": [
       ":Bars   [saleDate]   (saleAmt)"
      ]
     },
     "execution_count": 21,
     "metadata": {
      "application/vnd.holoviews_exec.v0+json": {
       "id": "2431"
      }
     },
     "output_type": "execute_result"
    }
   ],
   "source": [
    "# Using the code from the existing plot, invert the axes for dramatic effect\n",
    "# Be sure to adjust the yformatter to the xformatter as well as the xlabel and ylabel values.\n",
    "average_sales_per_date_2019.hvplot.bar(\n",
    "    x='saleDate', \n",
    "    y='saleAmt',\n",
    "    rot=90,\n",
    "    ylabel='Sale Date', \n",
    "    xlabel='Average Sale Amount',\n",
    "    title='AverageHome Sales per Day - Arlington, VA - June, 2019', \n",
    ").opts(\n",
    "    invert_axes=True,\n",
    "    xformatter='%.0f')"
   ]
  },
  {
   "cell_type": "markdown",
   "metadata": {},
   "source": [
    "## Step 8: Using the code from the previous plot, add a dynamic visual element to the plot by incorporating the `hover-color` parameter and assigning it a value of `\"orange\"`."
   ]
  },
  {
   "cell_type": "code",
   "execution_count": 22,
   "metadata": {},
   "outputs": [
    {
     "data": {},
     "metadata": {},
     "output_type": "display_data"
    },
    {
     "data": {
      "application/vnd.holoviews_exec.v0+json": "",
      "text/html": [
       "<div id='2548'>\n",
       "\n",
       "\n",
       "\n",
       "\n",
       "\n",
       "  <div class=\"bk-root\" id=\"d3ece05d-a0ae-45c3-a28a-291db1e282ba\" data-root-id=\"2548\"></div>\n",
       "</div>\n",
       "<script type=\"application/javascript\">(function(root) {\n",
       "  function embed_document(root) {\n",
       "    var docs_json = {\"470a94d4-3823-4910-a7c1-6b0deea47839\":{\"defs\":[{\"extends\":null,\"module\":null,\"name\":\"ReactiveHTML1\",\"overrides\":[],\"properties\":[]},{\"extends\":null,\"module\":null,\"name\":\"FlexBox1\",\"overrides\":[],\"properties\":[{\"default\":\"flex-start\",\"kind\":null,\"name\":\"align_content\"},{\"default\":\"flex-start\",\"kind\":null,\"name\":\"align_items\"},{\"default\":\"row\",\"kind\":null,\"name\":\"flex_direction\"},{\"default\":\"wrap\",\"kind\":null,\"name\":\"flex_wrap\"},{\"default\":\"flex-start\",\"kind\":null,\"name\":\"justify_content\"}]},{\"extends\":null,\"module\":null,\"name\":\"GridStack1\",\"overrides\":[],\"properties\":[{\"default\":\"warn\",\"kind\":null,\"name\":\"mode\"},{\"default\":null,\"kind\":null,\"name\":\"ncols\"},{\"default\":null,\"kind\":null,\"name\":\"nrows\"},{\"default\":true,\"kind\":null,\"name\":\"allow_resize\"},{\"default\":true,\"kind\":null,\"name\":\"allow_drag\"},{\"default\":[],\"kind\":null,\"name\":\"state\"}]},{\"extends\":null,\"module\":null,\"name\":\"click1\",\"overrides\":[],\"properties\":[{\"default\":\"\",\"kind\":null,\"name\":\"terminal_output\"},{\"default\":\"\",\"kind\":null,\"name\":\"debug_name\"},{\"default\":0,\"kind\":null,\"name\":\"clears\"}]},{\"extends\":null,\"module\":null,\"name\":\"TemplateActions1\",\"overrides\":[],\"properties\":[{\"default\":0,\"kind\":null,\"name\":\"open_modal\"},{\"default\":0,\"kind\":null,\"name\":\"close_modal\"}]},{\"extends\":null,\"module\":null,\"name\":\"MaterialTemplateActions1\",\"overrides\":[],\"properties\":[{\"default\":0,\"kind\":null,\"name\":\"open_modal\"},{\"default\":0,\"kind\":null,\"name\":\"close_modal\"}]}],\"roots\":{\"references\":[{\"attributes\":{\"fill_color\":{\"value\":\"#30a2da\"},\"hatch_color\":{\"value\":\"#30a2da\"},\"height\":{\"value\":0.8},\"right\":{\"field\":\"saleAmt\"},\"y\":{\"field\":\"saleDate\"}},\"id\":\"2585\",\"type\":\"HBar\"},{\"attributes\":{\"margin\":[5,5,5,5],\"name\":\"HSpacer04763\",\"sizing_mode\":\"stretch_width\"},\"id\":\"2549\",\"type\":\"Spacer\"},{\"attributes\":{},\"id\":\"2600\",\"type\":\"AllLabels\"},{\"attributes\":{},\"id\":\"2560\",\"type\":\"CategoricalScale\"},{\"attributes\":{\"coordinates\":null,\"group\":null,\"text\":\"AverageHome Sales per Day - Arlington, VA - June, 2019\",\"text_color\":\"black\",\"text_font_size\":\"12pt\"},\"id\":\"2554\",\"type\":\"Title\"},{\"attributes\":{},\"id\":\"2563\",\"type\":\"BasicTicker\"},{\"attributes\":{\"axis\":{\"id\":\"2562\"},\"coordinates\":null,\"grid_line_color\":null,\"group\":null,\"ticker\":null},\"id\":\"2565\",\"type\":\"Grid\"},{\"attributes\":{\"axis_label\":\"Sale Date\",\"coordinates\":null,\"formatter\":{\"id\":\"2592\"},\"group\":null,\"major_label_orientation\":1.5707963267948966,\"major_label_policy\":{\"id\":\"2595\"},\"ticker\":{\"id\":\"2563\"}},\"id\":\"2562\",\"type\":\"LinearAxis\"},{\"attributes\":{\"axis\":{\"id\":\"2566\"},\"coordinates\":null,\"dimension\":1,\"grid_line_color\":null,\"group\":null,\"ticker\":null},\"id\":\"2568\",\"type\":\"Grid\"},{\"attributes\":{},\"id\":\"2571\",\"type\":\"WheelZoomTool\"},{\"attributes\":{},\"id\":\"2570\",\"type\":\"PanTool\"},{\"attributes\":{\"format\":\"%.0f\"},\"id\":\"2592\",\"type\":\"PrintfTickFormatter\"},{\"attributes\":{\"axis_label\":\"Average Sale Amount\",\"coordinates\":null,\"formatter\":{\"id\":\"2599\"},\"group\":null,\"major_label_policy\":{\"id\":\"2600\"},\"ticker\":{\"id\":\"2567\"}},\"id\":\"2566\",\"type\":\"CategoricalAxis\"},{\"attributes\":{},\"id\":\"2567\",\"type\":\"CategoricalTicker\"},{\"attributes\":{},\"id\":\"2569\",\"type\":\"SaveTool\"},{\"attributes\":{\"overlay\":{\"id\":\"2574\"}},\"id\":\"2572\",\"type\":\"BoxZoomTool\"},{\"attributes\":{\"data\":{\"saleAmt\":{\"__ndarray__\":\"AAAAACTVGkEAAAAA4KQWQQAAAABg1zhBAAAAAABw90AAAAAAGAcjQQAAAADIPDRBAAAAAKSTOEEAAAAAchQ4QQAAAABo5BdBAAAAAABM7UAAAAAAdHYgQQAAAADwsypBq6qqqgJWIkEAAAAAICkbQbdt27aNCydBAAAAAIC5IUEAAAAAJYYxQQAAAABAPCBBAAAAAGB4E0EAAAAAKCI1QQAAAACglxNBAAAAAMiQGkEAAAAA6PMkQQAAAADA6wJBAAAAACBUOEEAAACAxVAxQQAAAAAoQCBBAAAAAO8cHEEAAAAAoCACQQAAAABSjCdBVVVVVcmVHUGrqqqqitoUQQAAAAAYBxNBAAAAAABqKEEAAAAAoLn+QAAAAAAAz/xAzczMzHhEMEEAAAAAUMgUQQAAAABAPCBBAAAAAJgzJkEAAAAAzrAsQQAAAADA9yBBAAAAAGA2LkEAAAAAwGIEQQAAAACAoilBAAAAANzjIkE=\",\"dtype\":\"float64\",\"order\":\"little\",\"shape\":[46]},\"saleDate\":[\"2019-01-04\",\"2019-01-07\",\"2019-01-08\",\"2019-01-09\",\"2019-01-15\",\"2019-01-16\",\"2019-01-18\",\"2019-01-21\",\"2019-01-22\",\"2019-01-23\",\"2019-01-25\",\"2019-01-28\",\"2019-01-29\",\"2019-01-30\",\"2019-01-31\",\"2019-02-01\",\"2019-02-04\",\"2019-02-05\",\"2019-02-06\",\"2019-02-11\",\"2019-02-13\",\"2019-02-14\",\"2019-02-15\",\"2019-02-19\",\"2019-02-21\",\"2019-02-22\",\"2019-02-25\",\"2019-02-26\",\"2019-02-27\",\"2019-02-28\",\"2019-03-01\",\"2019-03-04\",\"2019-03-05\",\"2019-03-06\",\"2019-03-08\",\"2019-03-13\",\"2019-03-14\",\"2019-03-15\",\"2019-03-18\",\"2019-03-19\",\"2019-03-20\",\"2019-03-22\",\"2019-03-25\",\"2019-03-26\",\"2019-03-28\",\"2019-03-29\"]},\"selected\":{\"id\":\"2583\"},\"selection_policy\":{\"id\":\"2607\"}},\"id\":\"2582\",\"type\":\"ColumnDataSource\"},{\"attributes\":{},\"id\":\"2573\",\"type\":\"ResetTool\"},{\"attributes\":{},\"id\":\"2595\",\"type\":\"AllLabels\"},{\"attributes\":{\"margin\":[5,5,5,5],\"name\":\"HSpacer04764\",\"sizing_mode\":\"stretch_width\"},\"id\":\"2619\",\"type\":\"Spacer\"},{\"attributes\":{\"bottom_units\":\"screen\",\"coordinates\":null,\"fill_alpha\":0.5,\"fill_color\":\"lightgrey\",\"group\":null,\"left_units\":\"screen\",\"level\":\"overlay\",\"line_alpha\":1.0,\"line_color\":\"black\",\"line_dash\":[4,4],\"line_width\":2,\"right_units\":\"screen\",\"syncable\":false,\"top_units\":\"screen\"},\"id\":\"2574\",\"type\":\"BoxAnnotation\"},{\"attributes\":{\"source\":{\"id\":\"2582\"}},\"id\":\"2590\",\"type\":\"CDSView\"},{\"attributes\":{\"tools\":[{\"id\":\"2552\"},{\"id\":\"2569\"},{\"id\":\"2570\"},{\"id\":\"2571\"},{\"id\":\"2572\"},{\"id\":\"2573\"}]},\"id\":\"2575\",\"type\":\"Toolbar\"},{\"attributes\":{},\"id\":\"2558\",\"type\":\"LinearScale\"},{\"attributes\":{\"children\":[{\"id\":\"2549\"},{\"id\":\"2553\"},{\"id\":\"2619\"}],\"margin\":[0,0,0,0],\"name\":\"Row04759\",\"tags\":[\"embedded\"]},\"id\":\"2548\",\"type\":\"Row\"},{\"attributes\":{\"fill_alpha\":{\"value\":0.1},\"fill_color\":{\"value\":\"#30a2da\"},\"hatch_alpha\":{\"value\":0.1},\"hatch_color\":{\"value\":\"#30a2da\"},\"height\":{\"value\":0.8},\"line_alpha\":{\"value\":0.1},\"right\":{\"field\":\"saleAmt\"},\"y\":{\"field\":\"saleDate\"}},\"id\":\"2586\",\"type\":\"HBar\"},{\"attributes\":{},\"id\":\"2583\",\"type\":\"Selection\"},{\"attributes\":{\"below\":[{\"id\":\"2562\"}],\"center\":[{\"id\":\"2565\"},{\"id\":\"2568\"}],\"height\":300,\"left\":[{\"id\":\"2566\"}],\"margin\":[5,5,5,5],\"min_border_bottom\":10,\"min_border_left\":10,\"min_border_right\":10,\"min_border_top\":10,\"renderers\":[{\"id\":\"2589\"}],\"sizing_mode\":\"fixed\",\"title\":{\"id\":\"2554\"},\"toolbar\":{\"id\":\"2575\"},\"width\":700,\"x_range\":{\"id\":\"2550\"},\"x_scale\":{\"id\":\"2558\"},\"y_range\":{\"id\":\"2551\"},\"y_scale\":{\"id\":\"2560\"}},\"id\":\"2553\",\"subtype\":\"Figure\",\"type\":\"Plot\"},{\"attributes\":{\"end\":1784800.0,\"reset_end\":1784800.0,\"reset_start\":0.0,\"tags\":[[[\"saleAmt\",\"saleAmt\",null]]]},\"id\":\"2550\",\"type\":\"Range1d\"},{\"attributes\":{\"callback\":null,\"renderers\":[{\"id\":\"2589\"}],\"tags\":[\"hv_created\"],\"tooltips\":[[\"saleDate\",\"@{saleDate}\"],[\"saleAmt\",\"@{saleAmt}\"]]},\"id\":\"2552\",\"type\":\"HoverTool\"},{\"attributes\":{},\"id\":\"2607\",\"type\":\"UnionRenderers\"},{\"attributes\":{\"fill_color\":{\"value\":\"orange\"},\"hatch_color\":{\"value\":\"orange\"},\"height\":{\"value\":0.8},\"line_color\":{\"value\":\"orange\"},\"right\":{\"field\":\"saleAmt\"},\"y\":{\"field\":\"saleDate\"}},\"id\":\"2587\",\"type\":\"HBar\"},{\"attributes\":{\"coordinates\":null,\"data_source\":{\"id\":\"2582\"},\"glyph\":{\"id\":\"2585\"},\"group\":null,\"hover_glyph\":{\"id\":\"2587\"},\"muted_glyph\":{\"id\":\"2588\"},\"nonselection_glyph\":{\"id\":\"2586\"},\"selection_glyph\":{\"id\":\"2591\"},\"view\":{\"id\":\"2590\"}},\"id\":\"2589\",\"type\":\"GlyphRenderer\"},{\"attributes\":{\"fill_alpha\":{\"value\":1.0},\"fill_color\":{\"value\":\"#30a2da\"},\"hatch_alpha\":{\"value\":1.0},\"hatch_color\":{\"value\":\"#30a2da\"},\"hatch_scale\":{\"value\":12.0},\"hatch_weight\":{\"value\":1.0},\"height\":{\"value\":0.8},\"left\":{\"value\":0},\"line_alpha\":{\"value\":1.0},\"line_cap\":{\"value\":\"butt\"},\"line_color\":{\"value\":\"black\"},\"line_dash\":{\"value\":[]},\"line_dash_offset\":{\"value\":0},\"line_join\":{\"value\":\"bevel\"},\"line_width\":{\"value\":1},\"right\":{\"field\":\"saleAmt\"},\"y\":{\"field\":\"saleDate\"}},\"id\":\"2591\",\"type\":\"HBar\"},{\"attributes\":{\"fill_alpha\":{\"value\":0.2},\"fill_color\":{\"value\":\"#30a2da\"},\"hatch_alpha\":{\"value\":0.2},\"hatch_color\":{\"value\":\"#30a2da\"},\"height\":{\"value\":0.8},\"line_alpha\":{\"value\":0.2},\"right\":{\"field\":\"saleAmt\"},\"y\":{\"field\":\"saleDate\"}},\"id\":\"2588\",\"type\":\"HBar\"},{\"attributes\":{\"factors\":[\"2019-01-04\",\"2019-01-07\",\"2019-01-08\",\"2019-01-09\",\"2019-01-15\",\"2019-01-16\",\"2019-01-18\",\"2019-01-21\",\"2019-01-22\",\"2019-01-23\",\"2019-01-25\",\"2019-01-28\",\"2019-01-29\",\"2019-01-30\",\"2019-01-31\",\"2019-02-01\",\"2019-02-04\",\"2019-02-05\",\"2019-02-06\",\"2019-02-11\",\"2019-02-13\",\"2019-02-14\",\"2019-02-15\",\"2019-02-19\",\"2019-02-21\",\"2019-02-22\",\"2019-02-25\",\"2019-02-26\",\"2019-02-27\",\"2019-02-28\",\"2019-03-01\",\"2019-03-04\",\"2019-03-05\",\"2019-03-06\",\"2019-03-08\",\"2019-03-13\",\"2019-03-14\",\"2019-03-15\",\"2019-03-18\",\"2019-03-19\",\"2019-03-20\",\"2019-03-22\",\"2019-03-25\",\"2019-03-26\",\"2019-03-28\",\"2019-03-29\"],\"tags\":[[[\"saleDate\",\"saleDate\",null]]]},\"id\":\"2551\",\"type\":\"FactorRange\"},{\"attributes\":{},\"id\":\"2599\",\"type\":\"CategoricalTickFormatter\"}],\"root_ids\":[\"2548\"]},\"title\":\"Bokeh Application\",\"version\":\"2.4.2\"}};\n",
       "    var render_items = [{\"docid\":\"470a94d4-3823-4910-a7c1-6b0deea47839\",\"root_ids\":[\"2548\"],\"roots\":{\"2548\":\"d3ece05d-a0ae-45c3-a28a-291db1e282ba\"}}];\n",
       "    root.Bokeh.embed.embed_items_notebook(docs_json, render_items);\n",
       "  }\n",
       "  if (root.Bokeh !== undefined && root.Bokeh.Panel !== undefined) {\n",
       "    embed_document(root);\n",
       "  } else {\n",
       "    var attempts = 0;\n",
       "    var timer = setInterval(function(root) {\n",
       "      if (root.Bokeh !== undefined && root.Bokeh.Panel !== undefined) {\n",
       "        clearInterval(timer);\n",
       "        embed_document(root);\n",
       "      } else if (document.readyState == \"complete\") {\n",
       "        attempts++;\n",
       "        if (attempts > 200) {\n",
       "          clearInterval(timer);\n",
       "          console.log(\"Bokeh: ERROR: Unable to run BokehJS code because BokehJS library is missing\");\n",
       "        }\n",
       "      }\n",
       "    }, 25, root)\n",
       "  }\n",
       "})(window);</script>"
      ],
      "text/plain": [
       ":Bars   [saleDate]   (saleAmt)"
      ]
     },
     "execution_count": 22,
     "metadata": {
      "application/vnd.holoviews_exec.v0+json": {
       "id": "2548"
      }
     },
     "output_type": "execute_result"
    }
   ],
   "source": [
    "# Using the code from the existing plot, add the parameter hover_color assigning it a value of \"orange\"\n",
    "average_sales_per_date_2019.hvplot.bar(\n",
    "    x='saleDate', \n",
    "    y='saleAmt',\n",
    "    rot=90,\n",
    "    ylabel='Sale Date', \n",
    "    xlabel='Average Sale Amount',\n",
    "    title='AverageHome Sales per Day - Arlington, VA - June, 2019', \n",
    ").opts(\n",
    "    invert_axes=True,\n",
    "    xformatter='%.0f',\n",
    "    hover_color=\"orange\"\n",
    ")"
   ]
  },
  {
   "cell_type": "markdown",
   "metadata": {},
   "source": [
    "## Step 9:  Based on your enhanced visualization, compose your version of the data story for the trend of real-estate commissions over the first three months of 2019."
   ]
  },
  {
   "cell_type": "markdown",
   "metadata": {},
   "source": [
    "**Answer:** Based on the information depicted in the visualizations, the trend for real estate commissions for 2019 is not great. The average sales per date in March is definitely down from that seen in January and February.\n",
    "\n",
    "March has only recorded 1 date with sales over 1 million while January and February recorded 8 days over the 1 million threshold. Additionally, March exhibited two consecutive dates of the lightest sales recorded.\n",
    "\n",
    "Just based on these initial observations, there is some cause for concern regarding the Arlington, Virgina real estate market."
   ]
  },
  {
   "cell_type": "code",
   "execution_count": null,
   "metadata": {},
   "outputs": [],
   "source": []
  }
 ],
 "metadata": {
  "file_extension": ".py",
  "kernelspec": {
   "display_name": "Python 3.9.12 ('dev')",
   "language": "python",
   "name": "python3"
  },
  "language_info": {
   "codemirror_mode": {
    "name": "ipython",
    "version": 3
   },
   "file_extension": ".py",
   "mimetype": "text/x-python",
   "name": "python",
   "nbconvert_exporter": "python",
   "pygments_lexer": "ipython3",
   "version": "3.9.12"
  },
  "mimetype": "text/x-python",
  "name": "python",
  "npconvert_exporter": "python",
  "pygments_lexer": "ipython3",
  "version": 3,
  "vscode": {
   "interpreter": {
    "hash": "b2ec66fa3d085a6e66869b1a678e052484c09c72639639e5b92cf1e8e9fcc898"
   }
  }
 },
 "nbformat": 4,
 "nbformat_minor": 4
}
